{
 "cells": [
  {
   "cell_type": "markdown",
   "metadata": {},
   "source": [
    "# Глубинное обучение. Семинар и домашнее задание 1. Обучение полносвязной нейронной сети на numpy"
   ]
  },
  {
   "cell_type": "code",
   "execution_count": 1,
   "metadata": {
    "collapsed": true
   },
   "outputs": [],
   "source": [
    "import numpy as np"
   ]
  },
  {
   "cell_type": "markdown",
   "metadata": {},
   "source": [
    "В этом задании вы обучите полносвязную нейронную сеть распознавать рукописные цифры (а что же еще, если не их :), [почти] самостоятельно реализовав все составляющие алгоритма обучения и предсказания.\n",
    "\n",
    "[__ Конспект с выводом формул__](https://github.com/nadiinchi/dl_labs/blob/master/nn_gradients.pdf)\n",
    "\n",
    "Для начала нам понадобится реализовать прямой и обратный проход через слои. Наши слои будут соответствовать следующему интерфейсу (на примере \"тождественного\" слоя):"
   ]
  },
  {
   "cell_type": "code",
   "execution_count": 2,
   "metadata": {
    "collapsed": true
   },
   "outputs": [],
   "source": [
    "class IdentityLayer:\n",
    "    \"\"\"\n",
    "    A building block. Each layer is capable of performing two things:\n",
    "    \n",
    "    - Process input to get output:           \n",
    "    output = layer.forward(input)\n",
    "    \n",
    "    - Propagate gradients through itself:    \n",
    "    grad_input = layer.backward(input, grad_output)\n",
    "    \n",
    "    Some layers also have learnable parameters.\n",
    "    \n",
    "    Modified code from cs.hse DL course *\n",
    "    \"\"\"\n",
    "    def __init__(self):\n",
    "        \"\"\"Here you can initialize layer parameters (if any) \n",
    "        and auxiliary stuff. You should enumerate all parameters\n",
    "        in self.params\"\"\"\n",
    "        # An identity layer does nothing\n",
    "        self.params = []\n",
    "        pass\n",
    "    \n",
    "    def forward(self, input):\n",
    "        \"\"\"\n",
    "        Takes input data of shape [batch, input_units], \n",
    "        returns output data [batch, output_units]\n",
    "        \"\"\"\n",
    "        # An identity layer just returns whatever it gets as input.\n",
    "        self.input = input\n",
    "        return input\n",
    "\n",
    "    def backward(self, grad_output): \n",
    "        \"\"\"\n",
    "        Performs a backpropagation step through the layer, \n",
    "        with respect to the given input.\n",
    "        \n",
    "        To compute loss gradients w.r.t input, \n",
    "        you need to apply chain rule (backprop):\n",
    "        \n",
    "        d loss / d input  = (d loss / d layer) *  (d layer / d input)\n",
    "        \n",
    "        Luckily, you already receive d loss / d layer as input, \n",
    "        so you only need to multiply it by d layer / d x.\n",
    "        \n",
    "        The method returns:\n",
    "        * gradient w.r.t input (will be passed to \n",
    "          previous layer's backward method)\n",
    "        * flattened gradient w.r.t. parameters (with .ravel() \n",
    "          applied to each gradient). \n",
    "          If there are no params, return []\n",
    "        \"\"\"\n",
    "        # The gradient of an identity layer is precisely grad_output\n",
    "        input_dim = self.input.shape[1]\n",
    "        \n",
    "        d_layer_d_input = np.eye(input_dim)\n",
    "        \n",
    "        return np.dot(grad_output, d_layer_d_input), [] # chain rule"
   ]
  },
  {
   "cell_type": "markdown",
   "metadata": {},
   "source": [
    "### Реализация слоев"
   ]
  },
  {
   "cell_type": "markdown",
   "metadata": {},
   "source": [
    "Для начала реализуем слой нелинейности $ReLU(x) = max(x, 0)$. Параметров у слоя нет. Метод forward должен вернуть результат поэлементного применения ReLU к входному массиву, метод backward - градиент функции потерь по входу слоя. В нуле будем считать производную равной 0. Обратите внимание, что при обратном проходе могут понадобиться величины, посчитанные во время прямого прохода, поэтому их стоит сохранить как атрибут класса."
   ]
  },
  {
   "cell_type": "code",
   "execution_count": 3,
   "metadata": {
    "collapsed": true
   },
   "outputs": [],
   "source": [
    "class ReLU:\n",
    "    \"\"\"\n",
    "    Modified code from cs.hse DL course *\n",
    "    \"\"\"\n",
    "    def __init__(self):\n",
    "        \"\"\"ReLU layer simply applies elementwise rectified linear unit to all inputs\"\"\"\n",
    "        self.params = [] # ReLU has no parameters\n",
    "    \n",
    "    def forward(self, input):\n",
    "        \"\"\"Apply elementwise ReLU to [batch, num_units] matrix\"\"\"\n",
    "#         output = np.zeros(input.shape)\n",
    "        output = np.clip(input, 0, None)\n",
    "        self.values = output\n",
    "        return output\n",
    "        \n",
    "    \n",
    "    def backward(self, grad_output):\n",
    "        \"\"\"Compute gradient of loss w.r.t. ReLU input\n",
    "        grad_output shape: [batch, num_units]\n",
    "        output 1 shape: [batch, num_units]\n",
    "        output 2: []\n",
    "        \"\"\"\n",
    "        dx, x = None, self.values\n",
    "        dx = np.array(grad_output, copy=True)\n",
    "        dx[x <= 0] = 0\n",
    "        return dx, []\n",
    "        "
   ]
  },
  {
   "cell_type": "markdown",
   "metadata": {},
   "source": [
    "Далее реализуем полносвязный слой без нелинейности. У слоя два параметра: матрица весов и вектор сдвига."
   ]
  },
  {
   "cell_type": "markdown",
   "metadata": {},
   "source": [
    "Обратите внимание на второй аргумент: в нем надо возвращать градиент по всем параметрам в одномерном виде. Для этого надо сначала применить .ravel() ко всем градиентам, а затем воспользоваться  np.r_:"
   ]
  },
  {
   "cell_type": "code",
   "execution_count": 4,
   "metadata": {},
   "outputs": [
    {
     "data": {
      "text/plain": [
       "array([ 1.,  0.,  0.,  0.,  1.,  0.,  0.,  0.,  1.,  0.,  1.,  2.,  3.])"
      ]
     },
     "execution_count": 4,
     "metadata": {},
     "output_type": "execute_result"
    }
   ],
   "source": [
    "# example\n",
    "np.r_[np.eye(3).ravel(), np.arange(4)]"
   ]
  },
  {
   "cell_type": "code",
   "execution_count": 5,
   "metadata": {
    "collapsed": true
   },
   "outputs": [],
   "source": [
    "class Dense:\n",
    "    \"\"\"\n",
    "    Modified code from cs.hse DL course *\n",
    "    \"\"\"\n",
    "    def __init__(self, input_units, output_units):\n",
    "        \"\"\"\n",
    "        A dense layer is a layer which performs a learned affine transformation:\n",
    "        f(x) = W x + b\n",
    "        \"\"\"\n",
    "        # initialize weights with small random numbers from normal distribution\n",
    "        self.weights = np.random.randn(input_units, output_units)*0.01\n",
    "        self.biases = np.zeros(output_units)\n",
    "        self.params = [self.weights, self.biases]\n",
    "        \n",
    "    def forward(self,input):\n",
    "        \"\"\"\n",
    "        Perform an affine transformation:\n",
    "        f(x) = W x + b\n",
    "        \n",
    "        input shape: [batch, input_units]\n",
    "        output shape: [batch, output units]\n",
    "        \"\"\"\n",
    "        self.x = input\n",
    "        output = np.dot(self.x, self.weights) + self.biases\n",
    "        return output\n",
    "        \n",
    "    \n",
    "    def backward(self, grad_output):\n",
    "        \"\"\"\n",
    "        compute gradients\n",
    "        grad_output shape: [batch, output_units]\n",
    "        output shapes: [batch, input_units], [num_params]\n",
    "        \n",
    "        hint: use function np.r_\n",
    "        np.r_[np.arange(3), np.arange(3)] = [0, 1, 2, 0, 1, 2]\n",
    "        \"\"\"\n",
    "        dx = np.dot(grad_output, self.weights.T)\n",
    "        dw = np.dot(self.x.T, grad_output)\n",
    "        db = np.dot(grad_output.T, np.ones(grad_output.shape[0]))\n",
    "        return dx, np.r_[dw.ravel(), db]\n"
   ]
  },
  {
   "cell_type": "markdown",
   "metadata": {},
   "source": [
    "### Проверка градиента"
   ]
  },
  {
   "cell_type": "markdown",
   "metadata": {},
   "source": [
    "Проверим правильность реализации с помощью функции численной проверки градиента. Функция берет на вход callable объект (функцию от одного аргумента-матрицы) и аргумент и вычисляет приближенный градиент функции в этой точке."
   ]
  },
  {
   "cell_type": "code",
   "execution_count": 6,
   "metadata": {
    "collapsed": true
   },
   "outputs": [],
   "source": [
    "def eval_numerical_gradient(f, x, verbose=False, h=0.00001):\n",
    "    \"\"\"Evaluates gradient df/dx via finite differences:\n",
    "    df/dx ~ (f(x+h) - f(x-h)) / 2h\n",
    "    Adopted from https://github.com/ddtm/dl-course/\n",
    "    \"\"\"\n",
    "    fx = f(x) # evaluate function value at original point\n",
    "    grad = np.zeros_like(x)\n",
    "    # iterate over all indexes in x\n",
    "    it = np.nditer(x, flags=['multi_index'], op_flags=['readwrite'])\n",
    "    while not it.finished:\n",
    "\n",
    "        # evaluate function at x+h\n",
    "        ix = it.multi_index\n",
    "        oldval = x[ix]\n",
    "        x[ix] = oldval + h # increment by h\n",
    "        fxph = f(x) # evalute f(x + h)\n",
    "        x[ix] = oldval - h\n",
    "        fxmh = f(x) # evaluate f(x - h)\n",
    "        x[ix] = oldval # restore\n",
    "\n",
    "        # compute the partial derivative with centered formula\n",
    "        grad[ix] = (fxph - fxmh) / (2 * h) # the slope\n",
    "        if verbose:\n",
    "            print (ix, grad[ix])\n",
    "        it.iternext() # step to next dimension\n",
    "\n",
    "    return grad"
   ]
  },
  {
   "cell_type": "markdown",
   "metadata": {},
   "source": [
    "Вычислите аналитический и численный градиенты по входу слоя ReLU от функции\n",
    "$$ f(y) = \\sum_i y_i, \\quad y = ReLU(x) $$\n",
    "\n",
    "Следующая ячейка после заполнения должна не выдавать ошибку :)"
   ]
  },
  {
   "cell_type": "code",
   "execution_count": 7,
   "metadata": {
    "collapsed": true
   },
   "outputs": [],
   "source": [
    "points = np.linspace(-1, 1, 10*12).reshape([10, 12])\n",
    "relu = ReLU()\n",
    "y = relu.forward(points)\n",
    "f = lambda x: np.sum(relu.forward(x))\n",
    "grads = relu.backward(np.ones(y.shape))[0]\n",
    "numeric_grads = eval_numerical_gradient(f, points) \n",
    "\n",
    "assert np.allclose(grads, numeric_grads, rtol=1e-3, atol=0)"
   ]
  },
  {
   "cell_type": "markdown",
   "metadata": {},
   "source": [
    "Вычислите аналитический и численный градиенты по входу полносвязного слоя от функции\n",
    "$$ f(y) = \\sum_i y_i, \\quad y = W x + b $$"
   ]
  },
  {
   "cell_type": "code",
   "execution_count": 8,
   "metadata": {
    "collapsed": true
   },
   "outputs": [],
   "source": [
    "x = np.linspace(-1, 1, 10*12).reshape([10, 12])\n",
    "l = Dense(12, 32,)\n",
    "y = l.forward(x)\n",
    "f = lambda p: np.sum(l.forward(p))\n",
    "grads = l.backward(np.ones(y.shape))[0]\n",
    "numeric_grads = eval_numerical_gradient(f, x) \n",
    "\n",
    "assert np.allclose(grads, numeric_grads, rtol=1e-3, atol=0)"
   ]
  },
  {
   "cell_type": "markdown",
   "metadata": {},
   "source": [
    "### Реализация softmax-слоя и функции потерь"
   ]
  },
  {
   "cell_type": "markdown",
   "metadata": {},
   "source": [
    "Для решения задачи многоклассовой классификации обычно используют softmax в качестве нелинейности на последнем слое, чтобы получить вероятности классов для каждого объекта:\n",
    "$$\\hat y = softmax(x)  = \\bigl \\{\\frac {exp(x_i)}{\\sum_j exp(x_j)} \\bigr \\}_{i=1}^K, \\quad K - \\text{число классов}$$\n",
    "В этом случае удобно оптимизировать логарифм правдоподобия:\n",
    "$$L(y, \\hat y) = -\\sum_{i=1}^K y_i \\log \\hat y_i \\rightarrow \\min,$$\n",
    "где $y_i=1$, если объект принадлежит $i$-му классу, и 0 иначе. Записанная в таком виде, эта функция потерь совпадает с выражением для кросс-энтропии. Очевидно, что ее также можно переписать через индексацию, если через $y_i$ обозначить класс данного объекта:\n",
    "$$L(y, \\hat y) = - \\log \\hat y_{y_i} \\rightarrow \\min$$\n",
    "В таком виде ее удобно реализовывать."
   ]
  },
  {
   "cell_type": "markdown",
   "metadata": {},
   "source": [
    "Реализуйте слой Softmax (без параметров). Метод forward должен вычислять логарифм от softmax, а метод backward - пропускать градиенты. В общем случае в промежуточных вычислениях backward получится трехмерный тензор, однако для нашей конкретной функции потерь все вычисления можно реализовать в матричном виде.  Поэтому мы будем предполагать, что аргумент grad_output - это матрица, у которой в каждой строке только одно ненулевое значение (не обязательно единица)."
   ]
  },
  {
   "cell_type": "code",
   "execution_count": 9,
   "metadata": {
    "collapsed": true
   },
   "outputs": [],
   "source": [
    "from scipy.misc import logsumexp\n",
    "# use this function instead of np.log(np.sum(np.exp(...))) !\n",
    "# because it is more stable"
   ]
  },
  {
   "cell_type": "code",
   "execution_count": 10,
   "metadata": {
    "collapsed": true
   },
   "outputs": [],
   "source": [
    "class Softmax:\n",
    "    def __init__(self):\n",
    "        self.params = []\n",
    "        \n",
    "    def forward(self, input):\n",
    "        \"\"\"\n",
    "        Applies softmax to each row and then applies component-wise log\n",
    "        Input shape: [batch, num_units]\n",
    "        Output shape: [batch, num_units]\n",
    "        \"\"\"\n",
    "        output = input - logsumexp(input, axis=1, keepdims=True)\n",
    "        self.x = input\n",
    "        return output\n",
    "        \n",
    "    \n",
    "    def backward(self, grad_output):\n",
    "        \"\"\"\n",
    "        Propagartes gradients.\n",
    "        Assumes that each row of grad_output contains only 1 \n",
    "        non-zero element\n",
    "        Input shape: [batch, num_units]\n",
    "        Output shape: [batch, num_units]\n",
    "        Do not forget to return [] as second value (grad w.r.t. params)\n",
    "        \"\"\"\n",
    "         # softmax\n",
    "        x_exp = np.exp(self.x)\n",
    "        x_exp_sum = np.sum(x_exp, axis=1, keepdims=True)\n",
    "        probabilities = x_exp / x_exp_sum\n",
    "        return grad_output + probabilities, []\n",
    "        "
   ]
  },
  {
   "cell_type": "markdown",
   "metadata": {},
   "source": [
    "Реализуйте функцию потерь и градиенты функции потерь. "
   ]
  },
  {
   "cell_type": "code",
   "execution_count": 11,
   "metadata": {
    "collapsed": true
   },
   "outputs": [],
   "source": [
    "def crossentropy(activations, target):\n",
    "    \"\"\"\n",
    "    returns negative log-likelihood of target under model represented by\n",
    "    activations (log probabilities of classes)\n",
    "    each arg has shape [batch, num_classes]\n",
    "    output shape: 1 (scalar)\n",
    "    \"\"\"\n",
    "    N = activations.shape[0]\n",
    "    loss = - np.sum(activations*target)\n",
    "    return loss\n",
    "\n",
    "\n",
    "def grad_crossentropy(activations, target):\n",
    "    \"\"\"\n",
    "    returns gradient of negative log-likelihood w.r.t. activations\n",
    "    each arg has shape [batch, num_classes]\n",
    "    output shape: [batch, num-classes]\n",
    "    \n",
    "    hint: this is just one-hot encoding of target vector\n",
    "          multiplied by -1\n",
    "    \"\"\"\n",
    "    return target * -1\n"
   ]
  },
  {
   "cell_type": "markdown",
   "metadata": {},
   "source": [
    "Наконец, выполните проверку softmax-слоя, используя функцию потерь и ее градиент.  "
   ]
  },
  {
   "cell_type": "code",
   "execution_count": 12,
   "metadata": {
    "collapsed": true
   },
   "outputs": [],
   "source": [
    "points = np.linspace(-1, 1, 10*12).reshape([10, 12])\n",
    "target = np.arange(10)\n",
    "mtarget = np.zeros_like(points)\n",
    "mtarget[np.arange(len(points)),target] = 1\n",
    "softmax = Softmax()\n",
    "y = softmax.forward(points)\n",
    "crossentropy(y, mtarget)\n",
    "loss = lambda p: crossentropy(softmax.forward(p), mtarget)\n",
    "grads = softmax.backward(grad_crossentropy(y, mtarget))[0]\n",
    "numeric_grads = eval_numerical_gradient(loss, points) \n",
    "\n",
    "assert np.allclose(grads, numeric_grads, rtol=1e-3, atol=0)"
   ]
  },
  {
   "cell_type": "markdown",
   "metadata": {},
   "source": [
    "### Загрузка данных\n",
    "Мы реализаовали все архитектурные составляющие нашей нейронной сети. Осталось загрузить данные и обучить модель. Мы будем работать с датасетом digits, каждый объект в котором - это 8x8 изображение рукописной цифры."
   ]
  },
  {
   "cell_type": "code",
   "execution_count": 13,
   "metadata": {
    "collapsed": true
   },
   "outputs": [],
   "source": [
    "import matplotlib.pyplot as plt\n",
    "%matplotlib inline"
   ]
  },
  {
   "cell_type": "code",
   "execution_count": 14,
   "metadata": {
    "collapsed": true
   },
   "outputs": [],
   "source": [
    "from sklearn.datasets import load_digits"
   ]
  },
  {
   "cell_type": "code",
   "execution_count": 15,
   "metadata": {
    "collapsed": true
   },
   "outputs": [],
   "source": [
    "X, y = load_digits(return_X_y=True)"
   ]
  },
  {
   "cell_type": "code",
   "execution_count": 16,
   "metadata": {},
   "outputs": [
    {
     "data": {
      "text/plain": [
       "((1797, 64), (1797,))"
      ]
     },
     "execution_count": 16,
     "metadata": {},
     "output_type": "execute_result"
    }
   ],
   "source": [
    "X.shape, y.shape"
   ]
  },
  {
   "cell_type": "markdown",
   "metadata": {},
   "source": [
    "Разделим данные на обучение и контроль:"
   ]
  },
  {
   "cell_type": "code",
   "execution_count": 17,
   "metadata": {
    "collapsed": true
   },
   "outputs": [],
   "source": [
    "from sklearn.model_selection import train_test_split"
   ]
  },
  {
   "cell_type": "code",
   "execution_count": 18,
   "metadata": {
    "collapsed": true
   },
   "outputs": [],
   "source": [
    "X_train, X_test, y_train, y_test = train_test_split(X, y, random_state=0)"
   ]
  },
  {
   "cell_type": "code",
   "execution_count": 19,
   "metadata": {},
   "outputs": [
    {
     "data": {
      "text/plain": [
       "((1347, 64), (450, 64))"
      ]
     },
     "execution_count": 19,
     "metadata": {},
     "output_type": "execute_result"
    }
   ],
   "source": [
    "X_train.shape, X_test.shape"
   ]
  },
  {
   "cell_type": "markdown",
   "metadata": {},
   "source": [
    "### Сборка и обучение нейронной сети"
   ]
  },
  {
   "cell_type": "markdown",
   "metadata": {},
   "source": [
    "В нашей реализации нейросеть - это список слоев. Например:"
   ]
  },
  {
   "cell_type": "code",
   "execution_count": 20,
   "metadata": {
    "collapsed": true
   },
   "outputs": [],
   "source": [
    "network = []\n",
    "hidden_layers_size = 32\n",
    "network.append(Dense(X_train.shape[1], hidden_layers_size))\n",
    "network.append(ReLU())\n",
    "network.append(Dense(hidden_layers_size, hidden_layers_size))\n",
    "network.append(ReLU())\n",
    "network.append(Dense(hidden_layers_size, 10))\n",
    "network.append(Softmax())"
   ]
  },
  {
   "cell_type": "markdown",
   "metadata": {},
   "source": [
    "Для проверки, хорошо ли сеть обучилась, нам понадобится вычислять точность (accuracy) на данной выборке. Для этого реализуйте функцию, которая делает предсказания на каждом объекте:"
   ]
  },
  {
   "cell_type": "code",
   "execution_count": 21,
   "metadata": {
    "collapsed": true
   },
   "outputs": [],
   "source": [
    "def predict(network, X):\n",
    "    \"\"\"\n",
    "    returns predictions for each object in X\n",
    "    network: list of layers\n",
    "    X: raw data\n",
    "    X shape: [batch, features_num]\n",
    "    output: array of classes, each from 0 to 9\n",
    "    output shape: [batch]\n",
    "    \"\"\"\n",
    "    x = X\n",
    "    for l in network:\n",
    "        x = l.forward(x)\n",
    "    return np.argmax(x, axis=1)\n",
    "    "
   ]
  },
  {
   "cell_type": "markdown",
   "metadata": {},
   "source": [
    "Мы будем обучать параметры нейросети с помощью готовой функции оптимизации из модуля scipy:"
   ]
  },
  {
   "cell_type": "code",
   "execution_count": 22,
   "metadata": {
    "collapsed": true
   },
   "outputs": [],
   "source": [
    "from scipy.optimize import minimize"
   ]
  },
  {
   "cell_type": "code",
   "execution_count": 23,
   "metadata": {},
   "outputs": [
    {
     "name": "stdout",
     "output_type": "stream",
     "text": [
      "Help on function minimize in module scipy.optimize._minimize:\n",
      "\n",
      "minimize(fun, x0, args=(), method=None, jac=None, hess=None, hessp=None, bounds=None, constraints=(), tol=None, callback=None, options=None)\n",
      "    Minimization of scalar function of one or more variables.\n",
      "    \n",
      "    In general, the optimization problems are of the form::\n",
      "    \n",
      "        minimize f(x) subject to\n",
      "    \n",
      "        g_i(x) >= 0,  i = 1,...,m\n",
      "        h_j(x)  = 0,  j = 1,...,p\n",
      "    \n",
      "    where x is a vector of one or more variables.\n",
      "    ``g_i(x)`` are the inequality constraints.\n",
      "    ``h_j(x)`` are the equality constrains.\n",
      "    \n",
      "    Optionally, the lower and upper bounds for each element in x can also be\n",
      "    specified using the `bounds` argument.\n",
      "    \n",
      "    Parameters\n",
      "    ----------\n",
      "    fun : callable\n",
      "        Objective function.\n",
      "    x0 : ndarray\n",
      "        Initial guess.\n",
      "    args : tuple, optional\n",
      "        Extra arguments passed to the objective function and its\n",
      "        derivatives (Jacobian, Hessian).\n",
      "    method : str or callable, optional\n",
      "        Type of solver.  Should be one of\n",
      "    \n",
      "            - 'Nelder-Mead' :ref:`(see here) <optimize.minimize-neldermead>`\n",
      "            - 'Powell'      :ref:`(see here) <optimize.minimize-powell>`\n",
      "            - 'CG'          :ref:`(see here) <optimize.minimize-cg>`\n",
      "            - 'BFGS'        :ref:`(see here) <optimize.minimize-bfgs>`\n",
      "            - 'Newton-CG'   :ref:`(see here) <optimize.minimize-newtoncg>`\n",
      "            - 'L-BFGS-B'    :ref:`(see here) <optimize.minimize-lbfgsb>`\n",
      "            - 'TNC'         :ref:`(see here) <optimize.minimize-tnc>`\n",
      "            - 'COBYLA'      :ref:`(see here) <optimize.minimize-cobyla>`\n",
      "            - 'SLSQP'       :ref:`(see here) <optimize.minimize-slsqp>`\n",
      "            - 'dogleg'      :ref:`(see here) <optimize.minimize-dogleg>`\n",
      "            - 'trust-ncg'   :ref:`(see here) <optimize.minimize-trustncg>`\n",
      "            - custom - a callable object (added in version 0.14.0),\n",
      "              see below for description.\n",
      "    \n",
      "        If not given, chosen to be one of ``BFGS``, ``L-BFGS-B``, ``SLSQP``,\n",
      "        depending if the problem has constraints or bounds.\n",
      "    jac : bool or callable, optional\n",
      "        Jacobian (gradient) of objective function. Only for CG, BFGS,\n",
      "        Newton-CG, L-BFGS-B, TNC, SLSQP, dogleg, trust-ncg.\n",
      "        If `jac` is a Boolean and is True, `fun` is assumed to return the\n",
      "        gradient along with the objective function. If False, the\n",
      "        gradient will be estimated numerically.\n",
      "        `jac` can also be a callable returning the gradient of the\n",
      "        objective. In this case, it must accept the same arguments as `fun`.\n",
      "    hess, hessp : callable, optional\n",
      "        Hessian (matrix of second-order derivatives) of objective function or\n",
      "        Hessian of objective function times an arbitrary vector p.  Only for\n",
      "        Newton-CG, dogleg, trust-ncg.\n",
      "        Only one of `hessp` or `hess` needs to be given.  If `hess` is\n",
      "        provided, then `hessp` will be ignored.  If neither `hess` nor\n",
      "        `hessp` is provided, then the Hessian product will be approximated\n",
      "        using finite differences on `jac`. `hessp` must compute the Hessian\n",
      "        times an arbitrary vector.\n",
      "    bounds : sequence, optional\n",
      "        Bounds for variables (only for L-BFGS-B, TNC and SLSQP).\n",
      "        ``(min, max)`` pairs for each element in ``x``, defining\n",
      "        the bounds on that parameter. Use None for one of ``min`` or\n",
      "        ``max`` when there is no bound in that direction.\n",
      "    constraints : dict or sequence of dict, optional\n",
      "        Constraints definition (only for COBYLA and SLSQP).\n",
      "        Each constraint is defined in a dictionary with fields:\n",
      "    \n",
      "            type : str\n",
      "                Constraint type: 'eq' for equality, 'ineq' for inequality.\n",
      "            fun : callable\n",
      "                The function defining the constraint.\n",
      "            jac : callable, optional\n",
      "                The Jacobian of `fun` (only for SLSQP).\n",
      "            args : sequence, optional\n",
      "                Extra arguments to be passed to the function and Jacobian.\n",
      "    \n",
      "        Equality constraint means that the constraint function result is to\n",
      "        be zero whereas inequality means that it is to be non-negative.\n",
      "        Note that COBYLA only supports inequality constraints.\n",
      "    tol : float, optional\n",
      "        Tolerance for termination. For detailed control, use solver-specific\n",
      "        options.\n",
      "    options : dict, optional\n",
      "        A dictionary of solver options. All methods accept the following\n",
      "        generic options:\n",
      "    \n",
      "            maxiter : int\n",
      "                Maximum number of iterations to perform.\n",
      "            disp : bool\n",
      "                Set to True to print convergence messages.\n",
      "    \n",
      "        For method-specific options, see :func:`show_options()`.\n",
      "    callback : callable, optional\n",
      "        Called after each iteration, as ``callback(xk)``, where ``xk`` is the\n",
      "        current parameter vector.\n",
      "    \n",
      "    Returns\n",
      "    -------\n",
      "    res : OptimizeResult\n",
      "        The optimization result represented as a ``OptimizeResult`` object.\n",
      "        Important attributes are: ``x`` the solution array, ``success`` a\n",
      "        Boolean flag indicating if the optimizer exited successfully and\n",
      "        ``message`` which describes the cause of the termination. See\n",
      "        `OptimizeResult` for a description of other attributes.\n",
      "    \n",
      "    \n",
      "    See also\n",
      "    --------\n",
      "    minimize_scalar : Interface to minimization algorithms for scalar\n",
      "        univariate functions\n",
      "    show_options : Additional options accepted by the solvers\n",
      "    \n",
      "    Notes\n",
      "    -----\n",
      "    This section describes the available solvers that can be selected by the\n",
      "    'method' parameter. The default method is *BFGS*.\n",
      "    \n",
      "    **Unconstrained minimization**\n",
      "    \n",
      "    Method :ref:`Nelder-Mead <optimize.minimize-neldermead>` uses the\n",
      "    Simplex algorithm [1]_, [2]_. This algorithm is robust in many\n",
      "    applications. However, if numerical computation of derivative can be\n",
      "    trusted, other algorithms using the first and/or second derivatives\n",
      "    information might be preferred for their better performance in\n",
      "    general.\n",
      "    \n",
      "    Method :ref:`Powell <optimize.minimize-powell>` is a modification\n",
      "    of Powell's method [3]_, [4]_ which is a conjugate direction\n",
      "    method. It performs sequential one-dimensional minimizations along\n",
      "    each vector of the directions set (`direc` field in `options` and\n",
      "    `info`), which is updated at each iteration of the main\n",
      "    minimization loop. The function need not be differentiable, and no\n",
      "    derivatives are taken.\n",
      "    \n",
      "    Method :ref:`CG <optimize.minimize-cg>` uses a nonlinear conjugate\n",
      "    gradient algorithm by Polak and Ribiere, a variant of the\n",
      "    Fletcher-Reeves method described in [5]_ pp.  120-122. Only the\n",
      "    first derivatives are used.\n",
      "    \n",
      "    Method :ref:`BFGS <optimize.minimize-bfgs>` uses the quasi-Newton\n",
      "    method of Broyden, Fletcher, Goldfarb, and Shanno (BFGS) [5]_\n",
      "    pp. 136. It uses the first derivatives only. BFGS has proven good\n",
      "    performance even for non-smooth optimizations. This method also\n",
      "    returns an approximation of the Hessian inverse, stored as\n",
      "    `hess_inv` in the OptimizeResult object.\n",
      "    \n",
      "    Method :ref:`Newton-CG <optimize.minimize-newtoncg>` uses a\n",
      "    Newton-CG algorithm [5]_ pp. 168 (also known as the truncated\n",
      "    Newton method). It uses a CG method to the compute the search\n",
      "    direction. See also *TNC* method for a box-constrained\n",
      "    minimization with a similar algorithm.\n",
      "    \n",
      "    Method :ref:`dogleg <optimize.minimize-dogleg>` uses the dog-leg\n",
      "    trust-region algorithm [5]_ for unconstrained minimization. This\n",
      "    algorithm requires the gradient and Hessian; furthermore the\n",
      "    Hessian is required to be positive definite.\n",
      "    \n",
      "    Method :ref:`trust-ncg <optimize.minimize-trustncg>` uses the\n",
      "    Newton conjugate gradient trust-region algorithm [5]_ for\n",
      "    unconstrained minimization. This algorithm requires the gradient\n",
      "    and either the Hessian or a function that computes the product of\n",
      "    the Hessian with a given vector.\n",
      "    \n",
      "    **Constrained minimization**\n",
      "    \n",
      "    Method :ref:`L-BFGS-B <optimize.minimize-lbfgsb>` uses the L-BFGS-B\n",
      "    algorithm [6]_, [7]_ for bound constrained minimization.\n",
      "    \n",
      "    Method :ref:`TNC <optimize.minimize-tnc>` uses a truncated Newton\n",
      "    algorithm [5]_, [8]_ to minimize a function with variables subject\n",
      "    to bounds. This algorithm uses gradient information; it is also\n",
      "    called Newton Conjugate-Gradient. It differs from the *Newton-CG*\n",
      "    method described above as it wraps a C implementation and allows\n",
      "    each variable to be given upper and lower bounds.\n",
      "    \n",
      "    Method :ref:`COBYLA <optimize.minimize-cobyla>` uses the\n",
      "    Constrained Optimization BY Linear Approximation (COBYLA) method\n",
      "    [9]_, [10]_, [11]_. The algorithm is based on linear\n",
      "    approximations to the objective function and each constraint. The\n",
      "    method wraps a FORTRAN implementation of the algorithm. The\n",
      "    constraints functions 'fun' may return either a single number\n",
      "    or an array or list of numbers.\n",
      "    \n",
      "    Method :ref:`SLSQP <optimize.minimize-slsqp>` uses Sequential\n",
      "    Least SQuares Programming to minimize a function of several\n",
      "    variables with any combination of bounds, equality and inequality\n",
      "    constraints. The method wraps the SLSQP Optimization subroutine\n",
      "    originally implemented by Dieter Kraft [12]_. Note that the\n",
      "    wrapper handles infinite values in bounds by converting them into\n",
      "    large floating values.\n",
      "    \n",
      "    **Custom minimizers**\n",
      "    \n",
      "    It may be useful to pass a custom minimization method, for example\n",
      "    when using a frontend to this method such as `scipy.optimize.basinhopping`\n",
      "    or a different library.  You can simply pass a callable as the ``method``\n",
      "    parameter.\n",
      "    \n",
      "    The callable is called as ``method(fun, x0, args, **kwargs, **options)``\n",
      "    where ``kwargs`` corresponds to any other parameters passed to `minimize`\n",
      "    (such as `callback`, `hess`, etc.), except the `options` dict, which has\n",
      "    its contents also passed as `method` parameters pair by pair.  Also, if\n",
      "    `jac` has been passed as a bool type, `jac` and `fun` are mangled so that\n",
      "    `fun` returns just the function values and `jac` is converted to a function\n",
      "    returning the Jacobian.  The method shall return an ``OptimizeResult``\n",
      "    object.\n",
      "    \n",
      "    The provided `method` callable must be able to accept (and possibly ignore)\n",
      "    arbitrary parameters; the set of parameters accepted by `minimize` may\n",
      "    expand in future versions and then these parameters will be passed to\n",
      "    the method.  You can find an example in the scipy.optimize tutorial.\n",
      "    \n",
      "    .. versionadded:: 0.11.0\n",
      "    \n",
      "    References\n",
      "    ----------\n",
      "    .. [1] Nelder, J A, and R Mead. 1965. A Simplex Method for Function\n",
      "        Minimization. The Computer Journal 7: 308-13.\n",
      "    .. [2] Wright M H. 1996. Direct search methods: Once scorned, now\n",
      "        respectable, in Numerical Analysis 1995: Proceedings of the 1995\n",
      "        Dundee Biennial Conference in Numerical Analysis (Eds. D F\n",
      "        Griffiths and G A Watson). Addison Wesley Longman, Harlow, UK.\n",
      "        191-208.\n",
      "    .. [3] Powell, M J D. 1964. An efficient method for finding the minimum of\n",
      "       a function of several variables without calculating derivatives. The\n",
      "       Computer Journal 7: 155-162.\n",
      "    .. [4] Press W, S A Teukolsky, W T Vetterling and B P Flannery.\n",
      "       Numerical Recipes (any edition), Cambridge University Press.\n",
      "    .. [5] Nocedal, J, and S J Wright. 2006. Numerical Optimization.\n",
      "       Springer New York.\n",
      "    .. [6] Byrd, R H and P Lu and J. Nocedal. 1995. A Limited Memory\n",
      "       Algorithm for Bound Constrained Optimization. SIAM Journal on\n",
      "       Scientific and Statistical Computing 16 (5): 1190-1208.\n",
      "    .. [7] Zhu, C and R H Byrd and J Nocedal. 1997. L-BFGS-B: Algorithm\n",
      "       778: L-BFGS-B, FORTRAN routines for large scale bound constrained\n",
      "       optimization. ACM Transactions on Mathematical Software 23 (4):\n",
      "       550-560.\n",
      "    .. [8] Nash, S G. Newton-Type Minimization Via the Lanczos Method.\n",
      "       1984. SIAM Journal of Numerical Analysis 21: 770-778.\n",
      "    .. [9] Powell, M J D. A direct search optimization method that models\n",
      "       the objective and constraint functions by linear interpolation.\n",
      "       1994. Advances in Optimization and Numerical Analysis, eds. S. Gomez\n",
      "       and J-P Hennart, Kluwer Academic (Dordrecht), 51-67.\n",
      "    .. [10] Powell M J D. Direct search algorithms for optimization\n",
      "       calculations. 1998. Acta Numerica 7: 287-336.\n",
      "    .. [11] Powell M J D. A view of algorithms for optimization without\n",
      "       derivatives. 2007.Cambridge University Technical Report DAMTP\n",
      "       2007/NA03\n",
      "    .. [12] Kraft, D. A software package for sequential quadratic\n",
      "       programming. 1988. Tech. Rep. DFVLR-FB 88-28, DLR German Aerospace\n",
      "       Center -- Institute for Flight Mechanics, Koln, Germany.\n",
      "    \n",
      "    Examples\n",
      "    --------\n",
      "    Let us consider the problem of minimizing the Rosenbrock function. This\n",
      "    function (and its respective derivatives) is implemented in `rosen`\n",
      "    (resp. `rosen_der`, `rosen_hess`) in the `scipy.optimize`.\n",
      "    \n",
      "    >>> from scipy.optimize import minimize, rosen, rosen_der\n",
      "    \n",
      "    A simple application of the *Nelder-Mead* method is:\n",
      "    \n",
      "    >>> x0 = [1.3, 0.7, 0.8, 1.9, 1.2]\n",
      "    >>> res = minimize(rosen, x0, method='Nelder-Mead', tol=1e-6)\n",
      "    >>> res.x\n",
      "    array([ 1.,  1.,  1.,  1.,  1.])\n",
      "    \n",
      "    Now using the *BFGS* algorithm, using the first derivative and a few\n",
      "    options:\n",
      "    \n",
      "    >>> res = minimize(rosen, x0, method='BFGS', jac=rosen_der,\n",
      "    ...                options={'gtol': 1e-6, 'disp': True})\n",
      "    Optimization terminated successfully.\n",
      "             Current function value: 0.000000\n",
      "             Iterations: 26\n",
      "             Function evaluations: 31\n",
      "             Gradient evaluations: 31\n",
      "    >>> res.x\n",
      "    array([ 1.,  1.,  1.,  1.,  1.])\n",
      "    >>> print(res.message)\n",
      "    Optimization terminated successfully.\n",
      "    >>> res.hess_inv\n",
      "    array([[ 0.00749589,  0.01255155,  0.02396251,  0.04750988,  0.09495377],  # may vary\n",
      "           [ 0.01255155,  0.02510441,  0.04794055,  0.09502834,  0.18996269],\n",
      "           [ 0.02396251,  0.04794055,  0.09631614,  0.19092151,  0.38165151],\n",
      "           [ 0.04750988,  0.09502834,  0.19092151,  0.38341252,  0.7664427 ],\n",
      "           [ 0.09495377,  0.18996269,  0.38165151,  0.7664427,   1.53713523]])\n",
      "    \n",
      "    \n",
      "    Next, consider a minimization problem with several constraints (namely\n",
      "    Example 16.4 from [5]_). The objective function is:\n",
      "    \n",
      "    >>> fun = lambda x: (x[0] - 1)**2 + (x[1] - 2.5)**2\n",
      "    \n",
      "    There are three constraints defined as:\n",
      "    \n",
      "    >>> cons = ({'type': 'ineq', 'fun': lambda x:  x[0] - 2 * x[1] + 2},\n",
      "    ...         {'type': 'ineq', 'fun': lambda x: -x[0] - 2 * x[1] + 6},\n",
      "    ...         {'type': 'ineq', 'fun': lambda x: -x[0] + 2 * x[1] + 2})\n",
      "    \n",
      "    And variables must be positive, hence the following bounds:\n",
      "    \n",
      "    >>> bnds = ((0, None), (0, None))\n",
      "    \n",
      "    The optimization problem is solved using the SLSQP method as:\n",
      "    \n",
      "    >>> res = minimize(fun, (2, 0), method='SLSQP', bounds=bnds,\n",
      "    ...                constraints=cons)\n",
      "    \n",
      "    It should converge to the theoretical solution (1.4 ,1.7).\n",
      "\n"
     ]
    }
   ],
   "source": [
    "help(minimize)"
   ]
  },
  {
   "cell_type": "markdown",
   "metadata": {},
   "source": [
    "Эта функция имеет стандартный интерфейс: нужно передать callable объект, который вычисляет значение и градиент целевой функции, а также точку старта оптимизации - начальное приближение (одномерный numpy-массив). Поэтому нам понадобятся функции для сбора и задания всех весов нашей нейросети (именно для них мы всегда записывали параметры слоя в список layer.params)"
   ]
  },
  {
   "cell_type": "code",
   "execution_count": 24,
   "metadata": {
    "collapsed": true
   },
   "outputs": [],
   "source": [
    "def get_weights(network):\n",
    "    weights = []\n",
    "    for layer in network:\n",
    "        for param in layer.params:\n",
    "            weights += param.ravel().tolist()\n",
    "    return np.array(weights)\n",
    "\n",
    "def set_weights(weights, network):\n",
    "    i = 0\n",
    "    for layer in network:\n",
    "        for param in layer.params:\n",
    "            l = param.size\n",
    "            param[:] = weights[i:i+l].\\\n",
    "                             reshape(param.shape)\n",
    "            i += l\n",
    "        "
   ]
  },
  {
   "cell_type": "markdown",
   "metadata": {},
   "source": [
    "Вам нужно реализовать ту самую функцию, которую мы будем передавать в minimize. Эта функция должна брать на вход текущую точку (вектор всех параметров), а также список дополнительных параметров (мы будем передавать через них нашу сеть и обучающие данные) и возвращать значение критерия качества (кросс-энтропия) и его градиент по параметрам модели."
   ]
  },
  {
   "cell_type": "code",
   "execution_count": 25,
   "metadata": {
    "collapsed": true
   },
   "outputs": [],
   "source": [
    "def compute_loss_grad(weights, args):\n",
    "    \"\"\"\n",
    "    takes current weights and computes cross-entropy and gradients\n",
    "    weights shape: [num_parameters]\n",
    "    output 1: loss (scalar)\n",
    "    output 2: gradint w.r.t. weights, shape: [num_parameters]\n",
    "    \n",
    "    hint: firstly perform forward pass through the whole network\n",
    "    then compute loss and its gradients\n",
    "    then perform backward pass, transmitting first backward output\n",
    "    to the previos layer and saving second backward output in a list\n",
    "    finally flatten all the gradients in this list\n",
    "    (in the order from the first to the last layer)\n",
    "    \n",
    "    Do not forget to set weights of the network!\n",
    "    \"\"\"\n",
    "    network, X, y = args\n",
    "    set_weights(weights, network)\n",
    "    x = X\n",
    "    for l in network:\n",
    "        x = l.forward(x)\n",
    "        \n",
    "    my = np.zeros_like(x)\n",
    "    my[np.arange(len(x)), y] = 1\n",
    "    \n",
    "    loss = crossentropy(x, my)\n",
    "    dloss = grad_crossentropy(x, my)\n",
    "    \n",
    "    grad_output = dloss\n",
    "    params = []\n",
    "    for l in reversed(network):\n",
    "        grad_output, param = l.backward(grad_output)\n",
    "        params.append(param)\n",
    "        \n",
    "    params = reversed(params)\n",
    "    flatten_params = np.array([item for par in params for item in par])\n",
    "    return loss, flatten_params\n",
    "    "
   ]
  },
  {
   "cell_type": "markdown",
   "metadata": {},
   "source": [
    "Теперь мы готовы обучать нашу нейросеть. "
   ]
  },
  {
   "cell_type": "code",
   "execution_count": 26,
   "metadata": {
    "collapsed": true
   },
   "outputs": [],
   "source": [
    "weights = get_weights(network)"
   ]
  },
  {
   "cell_type": "code",
   "execution_count": 27,
   "metadata": {},
   "outputs": [],
   "source": [
    "res = minimize(compute_loss_grad, weights,  # fun and start point\n",
    "               args=[network, X_train, y_train], # args passed to fun\n",
    "               method=\"L-BFGS-B\", # optimization method\n",
    "               jac=True) # says that gradient are computed in fun"
   ]
  },
  {
   "cell_type": "code",
   "execution_count": 28,
   "metadata": {},
   "outputs": [
    {
     "data": {
      "text/plain": [
       "dict_keys(['fun', 'jac', 'nfev', 'nit', 'status', 'message', 'x', 'success', 'hess_inv'])"
      ]
     },
     "execution_count": 28,
     "metadata": {},
     "output_type": "execute_result"
    }
   ],
   "source": [
    "res.keys()"
   ]
  },
  {
   "cell_type": "code",
   "execution_count": 29,
   "metadata": {},
   "outputs": [
    {
     "data": {
      "text/plain": [
       "164"
      ]
     },
     "execution_count": 29,
     "metadata": {},
     "output_type": "execute_result"
    }
   ],
   "source": [
    "res[\"nit\"] # number of iterations (should be >> 10)"
   ]
  },
  {
   "cell_type": "code",
   "execution_count": 30,
   "metadata": {},
   "outputs": [
    {
     "data": {
      "text/plain": [
       "True"
      ]
     },
     "execution_count": 30,
     "metadata": {},
     "output_type": "execute_result"
    }
   ],
   "source": [
    "res[\"success\"] # should be True"
   ]
  },
  {
   "cell_type": "code",
   "execution_count": 31,
   "metadata": {},
   "outputs": [
    {
     "data": {
      "text/plain": [
       "array([ 0.00472387, -0.0039238 ,  0.01275838, ..., -1.06551648,\n",
       "       -2.81310987, -0.5219706 ])"
      ]
     },
     "execution_count": 31,
     "metadata": {},
     "output_type": "execute_result"
    }
   ],
   "source": [
    "res[\"x\"] # learned weights"
   ]
  },
  {
   "cell_type": "markdown",
   "metadata": {},
   "source": [
    "Выведите качество на обучении (X_train, y_train) и на контроле (X_test, y_test). Не забудьте установить веса!"
   ]
  },
  {
   "cell_type": "code",
   "execution_count": 32,
   "metadata": {},
   "outputs": [
    {
     "name": "stdout",
     "output_type": "stream",
     "text": [
      "Train accuracy:  1.0\n",
      "Test accuracy:  0.9577777777777777\n"
     ]
    }
   ],
   "source": [
    "set_weights(res[\"x\"], network)\n",
    "\n",
    "y_pred = predict(network, X_train)\n",
    "y_pred_test = predict(network, X_test)\n",
    "\n",
    "train_accuracy = np.count_nonzero(y_pred == y_train) / len(y_train)\n",
    "test_accuracy = np.count_nonzero(y_pred_test == y_test) / len(y_test)\n",
    "print(\"Train accuracy: \", train_accuracy)\n",
    "print(\"Test accuracy: \", test_accuracy)"
   ]
  },
  {
   "cell_type": "markdown",
   "metadata": {},
   "source": [
    "У minimize есть также аргумент callback - в нее можно передать функцию, которая будет вызываться после каждой итерации оптимизации. Такую функцию удобно оформить в виде метода класса, который будет сохранять качество на обучении контроле после каждой итерации. Реализуйте этот метод в классе Callback:"
   ]
  },
  {
   "cell_type": "code",
   "execution_count": 33,
   "metadata": {
    "collapsed": true
   },
   "outputs": [],
   "source": [
    "class Callback:\n",
    "    def __init__(self, network, X_train, y_train, X_test, y_test, print=False):\n",
    "        self.network = network\n",
    "        self.X_train = X_train\n",
    "        self.X_test = X_test\n",
    "        self.y_train = y_train\n",
    "        self.y_test = y_test\n",
    "        self.print = print\n",
    "        self.train_acc = []\n",
    "        self.test_acc = []\n",
    "        \n",
    "    def call(self, weights):\n",
    "        \"\"\"\n",
    "        computes quality on train and test set with given weights\n",
    "        and saves to self.train_acc and self.test_acc\n",
    "        if self.print is True, also prints these 2 values\n",
    "        \"\"\"\n",
    "        set_weights(weights, self.network)\n",
    "\n",
    "        y_pred = predict(self.network, self.X_train)\n",
    "        y_pred_test = predict(self.network, self.X_test)\n",
    "        \n",
    "        train_accuracy = np.count_nonzero(y_pred == self.y_train) / len(self.y_train)\n",
    "        test_accuracy = np.count_nonzero(y_pred_test == self.y_test) / len(self.y_test)\n",
    "        \n",
    "        self.train_acc.append(train_accuracy)\n",
    "        self.test_acc.append(test_accuracy)\n",
    "        \n",
    "        if self.print:\n",
    "            print(\"Train accuracy: \", train_accuracy)\n",
    "            print(\"Test accuracy: \", test_accuracy) "
   ]
  },
  {
   "cell_type": "code",
   "execution_count": 34,
   "metadata": {},
   "outputs": [
    {
     "name": "stdout",
     "output_type": "stream",
     "text": [
      "Train accuracy:  0.17520415738678544\n",
      "Test accuracy:  0.16444444444444445\n",
      "Train accuracy:  0.2071269487750557\n",
      "Test accuracy:  0.18222222222222223\n",
      "Train accuracy:  0.2056421677802524\n",
      "Test accuracy:  0.18222222222222223\n",
      "Train accuracy:  0.19376391982182628\n",
      "Test accuracy:  0.17333333333333334\n",
      "Train accuracy:  0.19821826280623608\n",
      "Test accuracy:  0.17555555555555555\n",
      "Train accuracy:  0.24944320712694878\n",
      "Test accuracy:  0.23555555555555555\n",
      "Train accuracy:  0.20861172976985895\n",
      "Test accuracy:  0.22\n",
      "Train accuracy:  0.22345953971789162\n",
      "Test accuracy:  0.24444444444444444\n",
      "Train accuracy:  0.36971046770601335\n",
      "Test accuracy:  0.38666666666666666\n",
      "Train accuracy:  0.4766146993318486\n",
      "Test accuracy:  0.4577777777777778\n",
      "Train accuracy:  0.4974016332590943\n",
      "Test accuracy:  0.4488888888888889\n",
      "Train accuracy:  0.5412026726057907\n",
      "Test accuracy:  0.5222222222222223\n",
      "Train accuracy:  0.5493689680772086\n",
      "Test accuracy:  0.5466666666666666\n",
      "Train accuracy:  0.6755753526354863\n",
      "Test accuracy:  0.6733333333333333\n",
      "Train accuracy:  0.6755753526354863\n",
      "Test accuracy:  0.6711111111111111\n",
      "Train accuracy:  0.6577579806978471\n",
      "Test accuracy:  0.6533333333333333\n",
      "Train accuracy:  0.7052709725315516\n",
      "Test accuracy:  0.6933333333333334\n",
      "Train accuracy:  0.7461024498886414\n",
      "Test accuracy:  0.7377777777777778\n",
      "Train accuracy:  0.7661469933184856\n",
      "Test accuracy:  0.7733333333333333\n",
      "Train accuracy:  0.7557535263548627\n",
      "Test accuracy:  0.7444444444444445\n",
      "Train accuracy:  0.7809948032665182\n",
      "Test accuracy:  0.7533333333333333\n",
      "Train accuracy:  0.7884187082405345\n",
      "Test accuracy:  0.7622222222222222\n",
      "Train accuracy:  0.7980697847067557\n",
      "Test accuracy:  0.7733333333333333\n",
      "Train accuracy:  0.8069784706755754\n",
      "Test accuracy:  0.78\n",
      "Train accuracy:  0.8121752041573868\n",
      "Test accuracy:  0.8088888888888889\n",
      "Train accuracy:  0.8277654046028211\n",
      "Test accuracy:  0.8222222222222222\n",
      "Train accuracy:  0.8389012620638456\n",
      "Test accuracy:  0.8288888888888889\n",
      "Train accuracy:  0.85003711952487\n",
      "Test accuracy:  0.8355555555555556\n",
      "Train accuracy:  0.852264291017075\n",
      "Test accuracy:  0.8688888888888889\n",
      "Train accuracy:  0.8596881959910914\n",
      "Test accuracy:  0.8688888888888889\n",
      "Train accuracy:  0.8663697104677061\n",
      "Test accuracy:  0.8711111111111111\n",
      "Train accuracy:  0.8752783964365256\n",
      "Test accuracy:  0.8777777777777778\n",
      "Train accuracy:  0.8767631774313289\n",
      "Test accuracy:  0.8844444444444445\n",
      "Train accuracy:  0.882702301410542\n",
      "Test accuracy:  0.8933333333333333\n",
      "Train accuracy:  0.8916109873793615\n",
      "Test accuracy:  0.8911111111111111\n",
      "Train accuracy:  0.8953229398663697\n",
      "Test accuracy:  0.9066666666666666\n",
      "Train accuracy:  0.9012620638455828\n",
      "Test accuracy:  0.9088888888888889\n",
      "Train accuracy:  0.902746844840386\n",
      "Test accuracy:  0.9111111111111111\n",
      "Train accuracy:  0.9012620638455828\n",
      "Test accuracy:  0.9044444444444445\n",
      "Train accuracy:  0.9123979213066072\n",
      "Test accuracy:  0.9066666666666666\n",
      "Train accuracy:  0.910913140311804\n",
      "Test accuracy:  0.9155555555555556\n",
      "Train accuracy:  0.9205642167780252\n",
      "Test accuracy:  0.9111111111111111\n",
      "Train accuracy:  0.9205642167780252\n",
      "Test accuracy:  0.9\n",
      "Train accuracy:  0.9279881217520416\n",
      "Test accuracy:  0.9044444444444445\n",
      "Train accuracy:  0.9287305122494433\n",
      "Test accuracy:  0.9133333333333333\n",
      "Train accuracy:  0.9383815887156645\n",
      "Test accuracy:  0.9244444444444444\n",
      "Train accuracy:  0.947290274684484\n",
      "Test accuracy:  0.9133333333333333\n",
      "Train accuracy:  0.949517446176689\n",
      "Test accuracy:  0.9177777777777778\n",
      "Train accuracy:  0.9502598366740905\n",
      "Test accuracy:  0.9222222222222223\n",
      "Train accuracy:  0.9584261321455085\n",
      "Test accuracy:  0.9177777777777778\n",
      "Train accuracy:  0.9576837416481069\n",
      "Test accuracy:  0.92\n",
      "Train accuracy:  0.9658500371195249\n",
      "Test accuracy:  0.9222222222222223\n",
      "Train accuracy:  0.9658500371195249\n",
      "Test accuracy:  0.9311111111111111\n",
      "Train accuracy:  0.9665924276169265\n",
      "Test accuracy:  0.9355555555555556\n",
      "Train accuracy:  0.9643652561247216\n",
      "Test accuracy:  0.9333333333333333\n",
      "Train accuracy:  0.9680772086117297\n",
      "Test accuracy:  0.9333333333333333\n",
      "Train accuracy:  0.9695619896065331\n",
      "Test accuracy:  0.94\n",
      "Train accuracy:  0.9703043801039347\n",
      "Test accuracy:  0.9444444444444444\n",
      "Train accuracy:  0.9755011135857461\n",
      "Test accuracy:  0.9466666666666667\n",
      "Train accuracy:  0.9784706755753526\n",
      "Test accuracy:  0.9444444444444444\n",
      "Train accuracy:  0.9784706755753526\n",
      "Test accuracy:  0.9466666666666667\n",
      "Train accuracy:  0.9769858945805494\n",
      "Test accuracy:  0.9488888888888889\n",
      "Train accuracy:  0.9799554565701559\n",
      "Test accuracy:  0.9511111111111111\n",
      "Train accuracy:  0.9829250185597624\n",
      "Test accuracy:  0.9444444444444444\n",
      "Train accuracy:  0.985894580549369\n",
      "Test accuracy:  0.9466666666666667\n",
      "Train accuracy:  0.9873793615441723\n",
      "Test accuracy:  0.9466666666666667\n",
      "Train accuracy:  0.9866369710467706\n",
      "Test accuracy:  0.94\n",
      "Train accuracy:  0.9866369710467706\n",
      "Test accuracy:  0.9422222222222222\n",
      "Train accuracy:  0.985894580549369\n",
      "Test accuracy:  0.9422222222222222\n",
      "Train accuracy:  0.9866369710467706\n",
      "Test accuracy:  0.9488888888888889\n",
      "Train accuracy:  0.9888641425389755\n",
      "Test accuracy:  0.9466666666666667\n",
      "Train accuracy:  0.9896065330363771\n",
      "Test accuracy:  0.9511111111111111\n",
      "Train accuracy:  0.9896065330363771\n",
      "Test accuracy:  0.9511111111111111\n",
      "Train accuracy:  0.9896065330363771\n",
      "Test accuracy:  0.9488888888888889\n",
      "Train accuracy:  0.9903489235337788\n",
      "Test accuracy:  0.9511111111111111\n",
      "Train accuracy:  0.9933184855233853\n",
      "Test accuracy:  0.9555555555555556\n",
      "Train accuracy:  0.9925760950259837\n",
      "Test accuracy:  0.9488888888888889\n",
      "Train accuracy:  0.994060876020787\n",
      "Test accuracy:  0.9466666666666667\n",
      "Train accuracy:  0.9948032665181886\n",
      "Test accuracy:  0.9466666666666667\n",
      "Train accuracy:  0.994060876020787\n",
      "Test accuracy:  0.9466666666666667\n",
      "Train accuracy:  0.994060876020787\n",
      "Test accuracy:  0.9511111111111111\n",
      "Train accuracy:  0.9933184855233853\n",
      "Test accuracy:  0.9466666666666667\n",
      "Train accuracy:  0.9962880475129918\n",
      "Test accuracy:  0.9511111111111111\n",
      "Train accuracy:  0.9955456570155902\n",
      "Test accuracy:  0.9533333333333334\n",
      "Train accuracy:  0.9955456570155902\n",
      "Test accuracy:  0.9511111111111111\n",
      "Train accuracy:  0.9955456570155902\n",
      "Test accuracy:  0.9511111111111111\n",
      "Train accuracy:  0.9955456570155902\n",
      "Test accuracy:  0.9488888888888889\n",
      "Train accuracy:  0.9970304380103935\n",
      "Test accuracy:  0.9488888888888889\n",
      "Train accuracy:  0.9970304380103935\n",
      "Test accuracy:  0.9488888888888889\n",
      "Train accuracy:  0.9977728285077951\n",
      "Test accuracy:  0.9488888888888889\n",
      "Train accuracy:  0.9977728285077951\n",
      "Test accuracy:  0.9466666666666667\n",
      "Train accuracy:  0.9977728285077951\n",
      "Test accuracy:  0.9466666666666667\n",
      "Train accuracy:  0.9985152190051967\n",
      "Test accuracy:  0.9444444444444444\n",
      "Train accuracy:  0.9992576095025983\n",
      "Test accuracy:  0.9444444444444444\n",
      "Train accuracy:  1.0\n",
      "Test accuracy:  0.9466666666666667\n",
      "Train accuracy:  1.0\n",
      "Test accuracy:  0.9466666666666667\n",
      "Train accuracy:  1.0\n",
      "Test accuracy:  0.9444444444444444\n",
      "Train accuracy:  1.0\n",
      "Test accuracy:  0.9466666666666667\n",
      "Train accuracy:  1.0\n",
      "Test accuracy:  0.9488888888888889\n",
      "Train accuracy:  1.0\n",
      "Test accuracy:  0.9466666666666667\n",
      "Train accuracy:  1.0\n",
      "Test accuracy:  0.9466666666666667\n",
      "Train accuracy:  1.0\n",
      "Test accuracy:  0.9466666666666667\n",
      "Train accuracy:  1.0\n",
      "Test accuracy:  0.9444444444444444\n",
      "Train accuracy:  1.0\n",
      "Test accuracy:  0.9466666666666667\n",
      "Train accuracy:  1.0\n",
      "Test accuracy:  0.9466666666666667\n",
      "Train accuracy:  1.0\n",
      "Test accuracy:  0.9488888888888889\n",
      "Train accuracy:  1.0\n",
      "Test accuracy:  0.9511111111111111\n",
      "Train accuracy:  1.0\n",
      "Test accuracy:  0.9488888888888889\n",
      "Train accuracy:  1.0\n",
      "Test accuracy:  0.9488888888888889\n",
      "Train accuracy:  1.0\n",
      "Test accuracy:  0.9488888888888889\n",
      "Train accuracy:  1.0\n",
      "Test accuracy:  0.9511111111111111\n",
      "Train accuracy:  1.0\n",
      "Test accuracy:  0.9511111111111111\n",
      "Train accuracy:  1.0\n",
      "Test accuracy:  0.9511111111111111\n",
      "Train accuracy:  1.0\n",
      "Test accuracy:  0.9488888888888889\n",
      "Train accuracy:  1.0\n",
      "Test accuracy:  0.9488888888888889\n",
      "Train accuracy:  1.0\n",
      "Test accuracy:  0.9511111111111111\n",
      "Train accuracy:  1.0\n",
      "Test accuracy:  0.9466666666666667\n",
      "Train accuracy:  1.0\n",
      "Test accuracy:  0.9466666666666667\n",
      "Train accuracy:  1.0\n",
      "Test accuracy:  0.9488888888888889\n",
      "Train accuracy:  1.0\n",
      "Test accuracy:  0.9511111111111111\n",
      "Train accuracy:  1.0\n",
      "Test accuracy:  0.9511111111111111\n",
      "Train accuracy:  1.0\n",
      "Test accuracy:  0.9533333333333334\n",
      "Train accuracy:  1.0\n",
      "Test accuracy:  0.9533333333333334\n",
      "Train accuracy:  1.0\n",
      "Test accuracy:  0.9511111111111111\n",
      "Train accuracy:  1.0\n",
      "Test accuracy:  0.9511111111111111\n",
      "Train accuracy:  1.0\n",
      "Test accuracy:  0.9488888888888889\n",
      "Train accuracy:  1.0\n",
      "Test accuracy:  0.9511111111111111\n",
      "Train accuracy:  1.0\n",
      "Test accuracy:  0.9511111111111111\n",
      "Train accuracy:  1.0\n",
      "Test accuracy:  0.9511111111111111\n",
      "Train accuracy:  1.0\n"
     ]
    },
    {
     "name": "stdout",
     "output_type": "stream",
     "text": [
      "Test accuracy:  0.9511111111111111\n",
      "Train accuracy:  1.0\n",
      "Test accuracy:  0.9511111111111111\n",
      "Train accuracy:  1.0\n",
      "Test accuracy:  0.9511111111111111\n",
      "Train accuracy:  1.0\n",
      "Test accuracy:  0.9511111111111111\n",
      "Train accuracy:  1.0\n",
      "Test accuracy:  0.9511111111111111\n",
      "Train accuracy:  1.0\n",
      "Test accuracy:  0.9511111111111111\n",
      "Train accuracy:  1.0\n",
      "Test accuracy:  0.9511111111111111\n",
      "Train accuracy:  1.0\n",
      "Test accuracy:  0.9533333333333334\n",
      "Train accuracy:  1.0\n",
      "Test accuracy:  0.9533333333333334\n",
      "Train accuracy:  1.0\n",
      "Test accuracy:  0.9555555555555556\n",
      "Train accuracy:  1.0\n",
      "Test accuracy:  0.9555555555555556\n",
      "Train accuracy:  1.0\n",
      "Test accuracy:  0.9533333333333334\n",
      "Train accuracy:  1.0\n",
      "Test accuracy:  0.9511111111111111\n",
      "Train accuracy:  1.0\n",
      "Test accuracy:  0.9511111111111111\n",
      "Train accuracy:  1.0\n",
      "Test accuracy:  0.9488888888888889\n",
      "Train accuracy:  1.0\n",
      "Test accuracy:  0.9488888888888889\n",
      "Train accuracy:  1.0\n",
      "Test accuracy:  0.9488888888888889\n",
      "Train accuracy:  1.0\n",
      "Test accuracy:  0.9488888888888889\n",
      "Train accuracy:  1.0\n",
      "Test accuracy:  0.9488888888888889\n",
      "Train accuracy:  1.0\n",
      "Test accuracy:  0.9488888888888889\n",
      "Train accuracy:  1.0\n",
      "Test accuracy:  0.9511111111111111\n",
      "Train accuracy:  1.0\n",
      "Test accuracy:  0.9511111111111111\n",
      "Train accuracy:  1.0\n",
      "Test accuracy:  0.9511111111111111\n",
      "Train accuracy:  1.0\n",
      "Test accuracy:  0.9533333333333334\n",
      "Train accuracy:  1.0\n",
      "Test accuracy:  0.9533333333333334\n",
      "Train accuracy:  1.0\n",
      "Test accuracy:  0.9533333333333334\n",
      "Train accuracy:  1.0\n",
      "Test accuracy:  0.9533333333333334\n",
      "Train accuracy:  1.0\n",
      "Test accuracy:  0.9555555555555556\n",
      "Train accuracy:  1.0\n",
      "Test accuracy:  0.9555555555555556\n",
      "Train accuracy:  1.0\n",
      "Test accuracy:  0.9577777777777777\n",
      "Train accuracy:  1.0\n",
      "Test accuracy:  0.96\n",
      "Train accuracy:  1.0\n",
      "Test accuracy:  0.96\n",
      "Train accuracy:  1.0\n",
      "Test accuracy:  0.96\n",
      "Train accuracy:  1.0\n",
      "Test accuracy:  0.96\n",
      "Train accuracy:  1.0\n",
      "Test accuracy:  0.9577777777777777\n"
     ]
    }
   ],
   "source": [
    "cb = Callback(network, X_train, y_train, X_test, y_test, print=True)\n",
    "res = minimize(compute_loss_grad, weights,  \n",
    "               args=[network, X_train, y_train], \n",
    "               method=\"L-BFGS-B\",\n",
    "               jac=True,\n",
    "               callback=cb.call)"
   ]
  },
  {
   "cell_type": "markdown",
   "metadata": {},
   "source": [
    "Изобразите на графике кривую качества на обучени ии контроле по итерациям:"
   ]
  },
  {
   "cell_type": "code",
   "execution_count": 35,
   "metadata": {},
   "outputs": [
    {
     "data": {
      "text/plain": [
       "<matplotlib.legend.Legend at 0x10c33b3c8>"
      ]
     },
     "execution_count": 35,
     "metadata": {},
     "output_type": "execute_result"
    },
    {
     "data": {
      "image/png": "[encoded data removed]",
      "text/plain": [
       "<matplotlib.figure.Figure at 0x118a54898>"
      ]
     },
     "metadata": {},
     "output_type": "display_data"
    }
   ],
   "source": [
    "plt.plot(cb.train_acc, label=\"train acc\")\n",
    "plt.plot(cb.test_acc, label=\"test acc\")\n",
    "plt.xlabel(\"Iteration\")\n",
    "plt.ylabel(\"Accuracy\")\n",
    "plt.legend()"
   ]
  },
  {
   "cell_type": "markdown",
   "metadata": {},
   "source": [
    "### Эксперименты с числом слоев"
   ]
  },
  {
   "cell_type": "markdown",
   "metadata": {},
   "source": [
    "Ясно, что из-за случайного начального приближения с каждым запуском обучения мы будем получать различное качество. Попробуем обучать нашу нейросеть с разным числом слоев несколько раз.\n",
    "\n",
    "Заполните матрицы accs_train и accs_test. В позиции [i, j] должна стоять величина точности сети с $i+1$ полносвязными слоями при $j$-м запуске (все запуски идентичны)."
   ]
  },
  {
   "cell_type": "code",
   "execution_count": 36,
   "metadata": {
    "collapsed": true
   },
   "outputs": [],
   "source": [
    "accs_train = np.zeros((5, 5))\n",
    "accs_test = np.zeros((5, 5))"
   ]
  },
  {
   "cell_type": "code",
   "execution_count": 37,
   "metadata": {},
   "outputs": [],
   "source": [
    "import warnings\n",
    "warnings.filterwarnings('ignore')\n",
    "\n",
    "hidden_layers_size = 32\n",
    "for j in range(5):\n",
    "    for i in range(5):\n",
    "        networks = []\n",
    "        \n",
    "        if i == 0:  \n",
    "            networks.append(Dense(X_train.shape[1], 10))\n",
    "        else:\n",
    "            networks.append(Dense(X_train.shape[1], hidden_layers_size))\n",
    "            networks.append(ReLU())\n",
    "            \n",
    "        for k in range(i):\n",
    "            if k == i-1:\n",
    "                networks.append(Dense(hidden_layers_size, 10))\n",
    "            else:\n",
    "                networks.append(Dense(hidden_layers_size, hidden_layers_size))\n",
    "                networks.append(ReLU())\n",
    "       \n",
    "        networks.append(Softmax())\n",
    "#         print(i,j, len(networks))\n",
    "        weights = get_weights(networks)\n",
    "\n",
    "        cb = Callback(networks, X_train, y_train, X_test, y_test, print=False)\n",
    "        res = minimize(compute_loss_grad, weights,  \n",
    "                       args=[networks, X_train, y_train], \n",
    "                       method=\"L-BFGS-B\",\n",
    "                       jac=True,\n",
    "                       callback=cb.call)\n",
    "        set_weights(res[\"x\"], networks)\n",
    "\n",
    "        y_pred = predict(networks, X_train)\n",
    "        y_pred_test = predict(networks, X_test)\n",
    "\n",
    "        accs_train[i, j] = max(cb.train_acc)#np.count_nonzero(y_pred == y_train) / len(y_train)\n",
    "        accs_test[i, j] = max(cb.test_acc)#np.count_nonzero(y_pred_test == y_test) / len(y_test)\n",
    "#         print(j)"
   ]
  },
  {
   "cell_type": "markdown",
   "metadata": {},
   "source": [
    "Построим боксплоты полученного качества (горизонтальная линия в каждом столбце - среднее, прямоугольник показывает разброс)."
   ]
  },
  {
   "cell_type": "code",
   "execution_count": 38,
   "metadata": {},
   "outputs": [
    {
     "data": {
      "text/plain": [
       "<matplotlib.text.Text at 0x118c0ee48>"
      ]
     },
     "execution_count": 38,
     "metadata": {},
     "output_type": "execute_result"
    },
    {
     "data": {
      "image/png": "[encoded data removed]",
      "text/plain": [
       "<matplotlib.figure.Figure at 0x118b8f4a8>"
      ]
     },
     "metadata": {},
     "output_type": "display_data"
    }
   ],
   "source": [
    "plt.boxplot(accs_test.T, showfliers=False)\n",
    "plt.xlabel(\"Num layers\")\n",
    "plt.ylabel(\"Test accuracy\")\n",
    "plt.title(\"Test quality in 5 runs\")"
   ]
  },
  {
   "cell_type": "markdown",
   "metadata": {},
   "source": [
    "Ответьте на вопросы (кратко в этой же ячейке):\n",
    "* Как изменяются качество на обучении и контроле и устойчивость процесса обучения при увеличении числа слоев?\n",
    "   * Качество сети возрастает с увеличением числа слоёв и числа нейронов в ней. Количество     нейронов в полносвязном слое - важный параметр сложности сети, от которого может существенно зависеть качество обучения и скорость сходимости. При чрезмерном увеличении числа весов сеть склонна к переобучению. Также необходимо отметить, что качество на обучении и контроле, а также устойчивость процесса во многом зависит от начальной инициализации весов.\n",
    "* Можно ли сказать, что логистическая регрессия (линейная модель) дает качество хуже, чем нелинейная модель?\n",
    "   * Линейная регрессионная модель не всегда способна качественно предсказывать значения зависимой переменной. Однако все зависит прежде всего от данных и различных зависимостей внутри них. Если данные можно разделить линейно, тогда логистическая регрессия даст хороший результат. Если рассматривать общие случаи и оценивать только качество, тогда наверное можно так сказать, однако есть еще множество факторов, такие как время работы, сложность модели, еее адаптируемость, которые очень важны при выборе модели, и порой надо делать выбор в их пользу.\n",
    "  \n",
    "  \n",
    "    \n",
    "  "
   ]
  },
  {
   "cell_type": "markdown",
   "metadata": {},
   "source": [
    "\\* Несколько фрагментов кода в задании написаны на основе материалов [курса по глубинному обучению на ФКН НИУ ВШЭ](https://www.hse.ru/ba/ami/courses/205504078.html)"
   ]
  }
 ],
 "metadata": {
  "kernelspec": {
   "display_name": "Python 3",
   "language": "python",
   "name": "python3"
  },
  "language_info": {
   "codemirror_mode": {
    "name": "ipython",
    "version": 3
   },
   "file_extension": ".py",
   "mimetype": "text/x-python",
   "name": "python",
   "nbconvert_exporter": "python",
   "pygments_lexer": "ipython3",
   "version": "3.6.1"
  }
 },
 "nbformat": 4,
 "nbformat_minor": 2
}
