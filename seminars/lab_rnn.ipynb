{
 "cells": [
  {
   "cell_type": "markdown",
   "metadata": {},
   "source": [
    "# Семинар по рекуррентным нейронным сетям\n",
    "На этом семинаре мы обучим несколько рекуррентных архитектур для решения задачи сентимент-анализа, то есть предсказания метки тональности предложения.\n",
    "\n",
    "В общем случае рекуррентная нейронная сеть предназначена для обработки последовательности произвольной длины. Однако при реализации метода оказывается проще зафиксировать длину последовательности (даже в pytorch с их динамическими графами :) Мы так и поступим.\n",
    "\n",
    "При выполнении задания вы обучите LSTM с разным уровнем \"коробочности\", а также познакомитесь с различными способами применения дропаута к рекуррентным архитектурам. В рекуррентных архитектурах вариантов, куда можно наложить бинарную маску шума, гораздо больше, чем в нейросетях прямого прохода.\n",
    "\n",
    "Задание сделано так, чтобы его можно было выполнять на CPU, однако RNN - это ресурсоемкая вещь, поэтому на GPU с ними работать приятнее. Можете попробовать использовать [https://colab.research.google.com](https://colab.research.google.com) - бесплатное облако с GPU."
   ]
  },
  {
   "cell_type": "markdown",
   "metadata": {},
   "source": [
    "### Гиперпараметры"
   ]
  },
  {
   "cell_type": "code",
   "execution_count": 1,
   "metadata": {
    "collapsed": true
   },
   "outputs": [],
   "source": [
    "vocab_size = 20000 \n",
    "index_from = 3\n",
    "n_hidden = 32 # 128\n",
    "n_emb = 32 # 128\n",
    "seq_len = 32 # 200\n",
    "# small network on small data for seminar purposes\n",
    "# after # normal size\n",
    "\n",
    "batch_size = 128\n",
    "learning_rate = 0.001\n",
    "num_epochs = 30"
   ]
  },
  {
   "cell_type": "markdown",
   "metadata": {},
   "source": [
    "### Загрузка данных\n",
    "Функция load_matrix_imdb скачивает матричные данные, перемешивает и загружает их в numpy-массивы.\n",
    "\n",
    "Если у вас не установлен wget, скачайте [архив imdb.npz](https://s3.amazonaws.com/text-datasets/imdb.npz)"
   ]
  },
  {
   "cell_type": "code",
   "execution_count": 4,
   "metadata": {
    "collapsed": true
   },
   "outputs": [],
   "source": [
    "from rnn_utils import load_matrix_imdb\n",
    "import numpy as np\n",
    "import torch\n",
    "import torch.utils.data"
   ]
  },
  {
   "cell_type": "code",
   "execution_count": 6,
   "metadata": {},
   "outputs": [],
   "source": [
    "np.random.seed(0)\n",
    "(X_train, y_train), (X_test, y_test) = load_matrix_imdb(num_words=vocab_size,\n",
    "                                                        maxlen=seq_len)"
   ]
  },
  {
   "cell_type": "code",
   "execution_count": 7,
   "metadata": {},
   "outputs": [
    {
     "data": {
      "text/plain": [
       "{0, 1}"
      ]
     },
     "execution_count": 7,
     "metadata": {},
     "output_type": "execute_result"
    }
   ],
   "source": [
    "set(y_train) # binary classification"
   ]
  },
  {
   "cell_type": "code",
   "execution_count": 8,
   "metadata": {},
   "outputs": [
    {
     "data": {
      "text/plain": [
       "((25000, 32), (25000, 32))"
      ]
     },
     "execution_count": 8,
     "metadata": {},
     "output_type": "execute_result"
    }
   ],
   "source": [
    "X_train.shape, X_test.shape"
   ]
  },
  {
   "cell_type": "code",
   "execution_count": 9,
   "metadata": {},
   "outputs": [
    {
     "data": {
      "text/plain": [
       "array([  1.00000000e+00,   1.40000000e+01,   2.20000000e+01,\n",
       "         1.60000000e+01,   4.30000000e+01,   5.30000000e+02,\n",
       "         9.73000000e+02,   1.62200000e+03,   1.38500000e+03,\n",
       "         6.50000000e+01,   4.58000000e+02,   4.46800000e+03,\n",
       "         6.60000000e+01,   3.94100000e+03,   4.00000000e+00,\n",
       "         1.73000000e+02,   3.60000000e+01,   2.56000000e+02,\n",
       "         5.00000000e+00,   2.50000000e+01,   1.00000000e+02,\n",
       "         4.30000000e+01,   8.38000000e+02,   1.12000000e+02,\n",
       "         5.00000000e+01,   6.70000000e+02,   2.00000000e+00,\n",
       "         9.00000000e+00,   3.50000000e+01,   4.80000000e+02,\n",
       "         2.84000000e+02,   5.00000000e+00])"
      ]
     },
     "execution_count": 9,
     "metadata": {},
     "output_type": "execute_result"
    }
   ],
   "source": [
    "X_train[0] # sequence of coded words"
   ]
  },
  {
   "cell_type": "code",
   "execution_count": 10,
   "metadata": {},
   "outputs": [
    {
     "data": {
      "text/plain": [
       "array([1, 0, 0, ..., 0, 1, 0])"
      ]
     },
     "execution_count": 10,
     "metadata": {},
     "output_type": "execute_result"
    }
   ],
   "source": [
    "y_train"
   ]
  },
  {
   "cell_type": "code",
   "execution_count": 11,
   "metadata": {
    "collapsed": true
   },
   "outputs": [],
   "source": [
    "train_dset = torch.utils.data.TensorDataset(torch.tensor(X_train, dtype=torch.long), \n",
    "                               torch.tensor(y_train, dtype=torch.long))"
   ]
  },
  {
   "cell_type": "code",
   "execution_count": 12,
   "metadata": {
    "collapsed": true
   },
   "outputs": [],
   "source": [
    "test_dset = torch.utils.data.TensorDataset(torch.tensor(X_test, dtype=torch.long), \n",
    "                               torch.tensor(y_test, dtype=torch.long))"
   ]
  },
  {
   "cell_type": "code",
   "execution_count": 13,
   "metadata": {
    "collapsed": true
   },
   "outputs": [],
   "source": [
    "train_loader = torch.utils.data.DataLoader(train_dset,\n",
    "                          batch_size=batch_size,\n",
    "                          shuffle=True,\n",
    "                          num_workers=4\n",
    "                         )"
   ]
  },
  {
   "cell_type": "code",
   "execution_count": 14,
   "metadata": {
    "collapsed": true
   },
   "outputs": [],
   "source": [
    "test_loader = torch.utils.data.DataLoader(test_dset,\n",
    "                          batch_size=batch_size,\n",
    "                          shuffle=True,\n",
    "                          num_workers=4\n",
    "                         )"
   ]
  },
  {
   "cell_type": "markdown",
   "metadata": {},
   "source": [
    "### Сборка и обучение RNN в pytorch"
   ]
  },
  {
   "cell_type": "code",
   "execution_count": 15,
   "metadata": {
    "collapsed": true
   },
   "outputs": [],
   "source": [
    "import os\n",
    "import torch.optim as optim\n",
    "import torch.nn as nn"
   ]
  },
  {
   "cell_type": "code",
   "execution_count": 16,
   "metadata": {
    "collapsed": true
   },
   "outputs": [],
   "source": [
    "device = torch.device(\"cuda\" if torch.cuda.is_available() else \"cpu\")"
   ]
  },
  {
   "cell_type": "markdown",
   "metadata": {},
   "source": [
    "Наша нейросеть будет обрабатывать входную последовательность по словам (word level). Мы будем использовать простую и стандарную рекуррентную архитектуру для сентимент-анализа: слой представлений, слой LSTM и полносвязный слой, предсказывающий выход по последнему скрытому состоянию.\n",
    "\n",
    "Ниже дан код для сборки и обучения нашей нейросети. Обратите внимание на ### pay attention here, указывающие на особенности кода при использовании рекуррентных слоев. \n",
    "\n",
    "Чтобы потом было удобно проводить сравнение времени работы разных моделей, запустите код ниже и измерьте время обучения на вашей системе."
   ]
  },
  {
   "cell_type": "code",
   "execution_count": 17,
   "metadata": {
    "collapsed": true
   },
   "outputs": [],
   "source": [
    "class RNNClassifier(nn.Module):\n",
    "    def __init__(self, embedding_dim, hidden_dim, vocab_size, label_size, \\\n",
    "                 batch_size, rec_layer=nn.LSTM, embedding=nn.Embedding, \\\n",
    "                 dropout=None):\n",
    "        super(RNNClassifier, self).__init__()\n",
    "        self.hidden_dim = hidden_dim\n",
    "        self.batch_size = batch_size\n",
    "\n",
    "        self.word_embeddings = embedding(vocab_size, embedding_dim)\n",
    "        if dropout:\n",
    "            self.rnn = rec_layer(embedding_dim, hidden_dim, dropout=dropout)\n",
    "        else:\n",
    "            self.rnn = rec_layer(embedding_dim, hidden_dim)\n",
    "        self.hidden2label = nn.Linear(hidden_dim, label_size)\n",
    "    \n",
    "    def forward(self, sentences):\n",
    "        embedding = self.word_embeddings(sentences)\n",
    "        out, hidden = self.rnn(embedding) # pay attention here!\n",
    "        res = self.hidden2label(out[-1])\n",
    "        return torch.sigmoid(res)\n",
    "    "
   ]
  },
  {
   "cell_type": "markdown",
   "metadata": {},
   "source": [
    "[Исходный код LSTM](http://pytorch.org/docs/master/_modules/torch/nn/modules/rnn.html#LSTM)"
   ]
  },
  {
   "cell_type": "code",
   "execution_count": 18,
   "metadata": {
    "collapsed": true
   },
   "outputs": [],
   "source": [
    "model = RNNClassifier(embedding_dim=n_emb,\n",
    "                       hidden_dim=n_hidden,\n",
    "                       vocab_size=vocab_size,\n",
    "                       label_size=1,\n",
    "                       batch_size=batch_size, \n",
    "                       rec_layer=nn.LSTM,\n",
    "                       dropout=None).to(device)"
   ]
  },
  {
   "cell_type": "code",
   "execution_count": 19,
   "metadata": {
    "collapsed": true
   },
   "outputs": [],
   "source": [
    "optimizer = optim.RMSprop(model.parameters(), lr=learning_rate)\n",
    "lossfun = nn.BCELoss(reduction='sum')"
   ]
  },
  {
   "cell_type": "code",
   "execution_count": 20,
   "metadata": {
    "collapsed": true
   },
   "outputs": [],
   "source": [
    "def train_epoch(train_loader, model, lossfun, optimizer, device):\n",
    "    model.train()\n",
    "    for it, traindata in enumerate(train_loader):\n",
    "        train_inputs, train_labels = traindata\n",
    "        train_inputs = train_inputs.to(device) \n",
    "        train_labels = train_labels.to(device)\n",
    "        train_labels = torch.squeeze(train_labels)\n",
    "\n",
    "        model.zero_grad()        \n",
    "        output = model(train_inputs.t()) # pay attention here!\n",
    "\n",
    "        loss = lossfun(output.view(-1), train_labels.float())\n",
    "        loss.backward()\n",
    "        optimizer.step()\n",
    "\n",
    "def evaluate(loader, model, lossfun, device):\n",
    "    model.eval()\n",
    "    total_acc = 0.0\n",
    "    total_loss = 0.0\n",
    "    total = 0.0\n",
    "    for it, data in enumerate(loader):\n",
    "        inputs, labels = data\n",
    "        inputs = inputs.to(device) \n",
    "        labels = labels.to(device)\n",
    "        labels = torch.squeeze(labels)\n",
    "\n",
    "        output = model(inputs.t()) # pay attention here!\n",
    "        loss = lossfun(output.view(-1), labels.float())\n",
    "        total_loss += loss.item()\n",
    "\n",
    "        # calc testing acc        \n",
    "        pred = output.view(-1) > 0.5\n",
    "        correct = pred == labels.byte()\n",
    "        total_acc += torch.sum(correct).item() / len(correct)\n",
    "\n",
    "    total = it + 1\n",
    "    return total_loss / total, total_acc / total\n",
    "    \n",
    "\n",
    "def train(train_loader, test_loader, model, lossfun, optimizer, \\\n",
    "          device, num_epochs):\n",
    "    train_loss_ = []\n",
    "    test_loss_ = []\n",
    "    train_acc_ = []\n",
    "    test_acc_ = []\n",
    "    for epoch in range(num_epochs):\n",
    "        train_epoch(train_loader, model, lossfun, optimizer, device)\n",
    "        train_loss, train_acc = evaluate(train_loader, model, lossfun, device)\n",
    "        train_loss_.append(train_loss)\n",
    "        train_acc_.append(train_acc)\n",
    "        test_loss, test_acc = evaluate(test_loader, model, lossfun, device)\n",
    "        test_loss_.append(test_loss)\n",
    "        test_acc_.append(test_acc)\n",
    "\n",
    "        print(f'Epoch: {epoch+1:3d}/{num_epochs:3d} '\n",
    "              f'Training Loss: {train_loss_[epoch]:.3f}, Testing Loss: {test_loss_[epoch]:.3f}, '\n",
    "              f'Training Acc: {train_acc_[epoch]:.3f}, Testing Acc: {test_acc_[epoch]:.3f}')\n",
    "\n",
    "    return train_loss_, train_acc_, test_loss_, test_acc_"
   ]
  },
  {
   "cell_type": "code",
   "execution_count": 21,
   "metadata": {},
   "outputs": [
    {
     "name": "stdout",
     "output_type": "stream",
     "text": [
      "Epoch:   1/ 30 Training Loss: 81.943, Testing Loss: 84.106, Training Acc: 0.640, Testing Acc: 0.609\n",
      "Epoch:   2/ 30 Training Loss: 74.694, Testing Loss: 79.745, Training Acc: 0.702, Testing Acc: 0.651\n",
      "Epoch:   3/ 30 Training Loss: 68.774, Testing Loss: 77.482, Training Acc: 0.731, Testing Acc: 0.674\n",
      "Epoch:   4/ 30 Training Loss: 62.600, Testing Loss: 74.766, Training Acc: 0.768, Testing Acc: 0.689\n",
      "Epoch:   5/ 30 Training Loss: 58.975, Testing Loss: 74.408, Training Acc: 0.787, Testing Acc: 0.698\n",
      "Epoch:   6/ 30 Training Loss: 54.464, Testing Loss: 75.640, Training Acc: 0.806, Testing Acc: 0.706\n",
      "Epoch:   7/ 30 Training Loss: 51.978, Testing Loss: 73.408, Training Acc: 0.821, Testing Acc: 0.705\n",
      "Epoch:   8/ 30 Training Loss: 49.261, Testing Loss: 77.581, Training Acc: 0.828, Testing Acc: 0.709\n",
      "Epoch:   9/ 30 Training Loss: 44.459, Testing Loss: 80.636, Training Acc: 0.850, Testing Acc: 0.712\n",
      "Epoch:  10/ 30 Training Loss: 42.276, Testing Loss: 76.176, Training Acc: 0.865, Testing Acc: 0.711\n",
      "Epoch:  11/ 30 Training Loss: 40.108, Testing Loss: 78.185, Training Acc: 0.875, Testing Acc: 0.709\n",
      "Epoch:  12/ 30 Training Loss: 35.755, Testing Loss: 84.612, Training Acc: 0.886, Testing Acc: 0.711\n",
      "Epoch:  13/ 30 Training Loss: 36.791, Testing Loss: 96.833, Training Acc: 0.878, Testing Acc: 0.701\n",
      "Epoch:  14/ 30 Training Loss: 30.720, Testing Loss: 92.065, Training Acc: 0.905, Testing Acc: 0.711\n",
      "Epoch:  15/ 30 Training Loss: 28.587, Testing Loss: 99.830, Training Acc: 0.910, Testing Acc: 0.708\n",
      "Epoch:  16/ 30 Training Loss: 27.671, Testing Loss: 94.222, Training Acc: 0.918, Testing Acc: 0.707\n",
      "Epoch:  17/ 30 Training Loss: 24.194, Testing Loss: 100.471, Training Acc: 0.933, Testing Acc: 0.705\n",
      "Epoch:  18/ 30 Training Loss: 21.812, Testing Loss: 109.684, Training Acc: 0.939, Testing Acc: 0.705\n",
      "Epoch:  19/ 30 Training Loss: 22.615, Testing Loss: 119.202, Training Acc: 0.934, Testing Acc: 0.698\n",
      "Epoch:  20/ 30 Training Loss: 18.887, Testing Loss: 121.851, Training Acc: 0.946, Testing Acc: 0.700\n",
      "Epoch:  21/ 30 Training Loss: 16.711, Testing Loss: 131.139, Training Acc: 0.954, Testing Acc: 0.699\n",
      "Epoch:  22/ 30 Training Loss: 14.979, Testing Loss: 133.325, Training Acc: 0.961, Testing Acc: 0.699\n",
      "Epoch:  23/ 30 Training Loss: 13.315, Testing Loss: 133.065, Training Acc: 0.969, Testing Acc: 0.697\n",
      "Epoch:  24/ 30 Training Loss: 11.255, Testing Loss: 151.214, Training Acc: 0.973, Testing Acc: 0.696\n",
      "Epoch:  25/ 30 Training Loss: 10.538, Testing Loss: 156.895, Training Acc: 0.975, Testing Acc: 0.695\n",
      "Epoch:  26/ 30 Training Loss: 9.408, Testing Loss: 156.381, Training Acc: 0.978, Testing Acc: 0.695\n",
      "Epoch:  27/ 30 Training Loss: 9.077, Testing Loss: 164.990, Training Acc: 0.979, Testing Acc: 0.692\n",
      "Epoch:  28/ 30 Training Loss: 9.213, Testing Loss: 167.923, Training Acc: 0.978, Testing Acc: 0.690\n",
      "Epoch:  29/ 30 Training Loss: 6.369, Testing Loss: 180.949, Training Acc: 0.987, Testing Acc: 0.690\n",
      "Epoch:  30/ 30 Training Loss: 6.073, Testing Loss: 186.234, Training Acc: 0.987, Testing Acc: 0.689\n",
      "CPU times: user 9min 57s, sys: 1min 31s, total: 11min 29s\n",
      "Wall time: 10min 3s\n"
     ]
    }
   ],
   "source": [
    "%time a, b, c, d = train(train_loader, test_loader, model, lossfun, \\\n",
    "                   optimizer, device, num_epochs)"
   ]
  },
  {
   "cell_type": "markdown",
   "metadata": {},
   "source": [
    "Нерегуляризованные LSTM часто быстро переобучаются (и мы это видим по точности на контроле). Чтобы с этим бороться, часто используют L2-регуляризацию и дропаут.\n",
    "Однако способов накладывать дропаут на рекуррентный слой достаточно много, и далеко не все хорошо работают. По [ссылке](https://medium.com/@bingobee01/a-review-of-dropout-as-applied-to-rnns-72e79ecd5b7b) доступен хороший обзор дропаутов для RNN.\n",
    "\n",
    "Мы реализуем два варианта дропаута для RNN (и третий дополнительно). Заодно увидим, что для реализации различных усовершенствований рекуррентной архитектуры приходится \"вскрывать\" слой до различной \"глубины\"."
   ]
  },
  {
   "cell_type": "markdown",
   "metadata": {},
   "source": [
    "### Реализация дропаута по статье Гала и Гарамани\n",
    "Начнем с дропаута, описанного в [статье Гала и Гарамани](https://arxiv.org/abs/1512.05287).\n",
    "Для этого нам потребуется перейти от использования слоя nn.LSTM, полностью скрывающего от нас рекуррентную логику, к использованию слоя nn.LSTMCell, обрабатывающего лишь один временной шаг нашей последовательности (а всю логику вокруг придется реализовать самостоятельно). \n",
    "\n",
    "Допишите класс RNNLayer. При dropout=0 ваш класс должен работать как обычный слой LSTM, а при dropout > 0 накладывать бинарную маску на входной и скрытый вектор на каждом временном шаге, причем эта маска должна быть одинаковой во все моменты времени.\n",
    "\n",
    "Дропаут Гала и Гарамани в виде формул (m обознаает маску дропаута):\n",
    "$$\n",
    "h_{t-1} = h_{t-1}*m_h, \\, x_t = x_t * m_x\n",
    "$$\n",
    "(далее обычный шаг рекуррентной архитектуры, например LSTM)\n",
    "$$\n",
    "i = \\sigma(h_{t-1}W^i + x_t U^i+b_i) \\quad\n",
    "o = \\sigma(h_{t-1}W^o + x_t U^o+b_o) \n",
    "$$\n",
    "$$\n",
    "f = \\sigma(h_{t-1}W^f + x_t U^f+b_f) \\quad \n",
    "g = tanh(h_{t-1} W^g + x_t U^g+b_g) \n",
    "$$\n",
    "$$\n",
    "c_t = f \\odot c_{t-1} +  i \\odot  g \\quad\n",
    "h_t =  o \\odot tanh(c_t) \\nonumber\n",
    "$$"
   ]
  },
  {
   "cell_type": "code",
   "execution_count": 42,
   "metadata": {
    "collapsed": true
   },
   "outputs": [],
   "source": [
    "def init_h0_c0(num_objects, hidden_size, some_existing_tensor):\n",
    "    \"\"\"\n",
    "    return h0 and c0, use some_existing_tensor.new_zeros() to gen them\n",
    "    h0 shape: num_objects x hidden_size\n",
    "    c0 shape: num_objects x hidden_size\n",
    "    \"\"\"\n",
    "    ### your code here\n",
    "    h0 = some_existing_tensor.new_zeros((num_objects, hidden_size))\n",
    "    c0 = some_existing_tensor.new_zeros((num_objects, hidden_size))\n",
    "    return h0, c0"
   ]
  },
  {
   "cell_type": "code",
   "execution_count": 68,
   "metadata": {},
   "outputs": [],
   "source": [
    "def gen_dropout_mask(input_size, hidden_size, is_training, p, some_existing_tensor):\n",
    "    \"\"\"\n",
    "    is_training: if True, gen masks from Bernoulli\n",
    "                 if False, gen masks consisting of (1-p)\n",
    "    \n",
    "    return dropout masks of size input_size, hidden_size if p is not None\n",
    "    return one masks if p is None\n",
    "    \"\"\"\n",
    "    ### your code here\n",
    "    mask0 = some_existing_tensor.new_ones(input_size)\n",
    "    mask1 = some_existing_tensor.new_ones(hidden_size)\n",
    "    if p:\n",
    "        if is_training:\n",
    "            mask0 *= p\n",
    "            mask0 = torch.bernoulli_(mask0)\n",
    "            mask1 *= p\n",
    "            mask1 = torch.bernoulli_(mask1)\n",
    "        else:\n",
    "            mask0 *= (1-p)\n",
    "            #mask0 = torch.bernoulli_(mask0)\n",
    "            mask1 *= (1-p)\n",
    "            #mask1 = torch.bernoulli_(mask1)\n",
    "    return mask0, mask1"
   ]
  },
  {
   "cell_type": "code",
   "execution_count": 54,
   "metadata": {
    "collapsed": true
   },
   "outputs": [],
   "source": [
    "class RNNLayer(nn.Module):\n",
    "    def __init__(self, input_size, hidden_size, dropout=None):\n",
    "        super(RNNLayer, self).__init__()\n",
    "        self.hidden_size = hidden_size\n",
    "        self.input_size = input_size\n",
    "        self.dropout = dropout\n",
    "        self.rnn_cell = nn.LSTMCell(input_size, hidden_size)\n",
    "        \n",
    "    def forward(self, inp):\n",
    "        # initialize h_0, c_0\n",
    "        h_0, c_0 = init_h0_c0(inp.shape[1], self.hidden_size, inp)\n",
    "        \n",
    "        # gen masks\n",
    "        input_mask, hidden_mask = gen_dropout_mask(self.input_size, \\\n",
    "                                                   self.hidden_size, \\\n",
    "                                                   self.training, \\\n",
    "                                                   self.dropout, \\\n",
    "                                                   inp)\n",
    "        \n",
    "        \n",
    "        ### your code here\n",
    "        ### implement recurrent logic and return what nn.LSTM returns\n",
    "        ### do not forget to apply generated dropout masks!\n",
    "        out = []\n",
    "        h, c = h_0, c_0\n",
    "        for i in range(inp.shape[0]):\n",
    "            h, c = self.rnn_cell(inp[i]*input_mask, (h*hidden_mask, c))\n",
    "            out.append(h)\n",
    "        return out, (h, c)"
   ]
  },
  {
   "cell_type": "markdown",
   "metadata": {},
   "source": [
    "Протестируйте реализованную модель с выключенным дропаутом (слой RNNLayer надо передать в RNNClassifier в качестве rec_layer). Замерьте время обучения (%time). Сильно ли оно увеличилось по сравнению с nn.LSTM (LSTM \"из коробки\")?"
   ]
  },
  {
   "cell_type": "code",
   "execution_count": 52,
   "metadata": {},
   "outputs": [
    {
     "name": "stdout",
     "output_type": "stream",
     "text": [
      "Epoch:   1/ 30 Training Loss: 83.817, Testing Loss: 85.211, Training Acc: 0.619, Testing Acc: 0.597\n",
      "Epoch:   2/ 30 Training Loss: 75.802, Testing Loss: 79.930, Training Acc: 0.689, Testing Acc: 0.651\n",
      "Epoch:   3/ 30 Training Loss: 69.843, Testing Loss: 77.057, Training Acc: 0.730, Testing Acc: 0.669\n",
      "Epoch:   4/ 30 Training Loss: 64.326, Testing Loss: 74.675, Training Acc: 0.762, Testing Acc: 0.687\n",
      "Epoch:   5/ 30 Training Loss: 59.394, Testing Loss: 73.797, Training Acc: 0.784, Testing Acc: 0.698\n",
      "Epoch:   6/ 30 Training Loss: 56.637, Testing Loss: 75.094, Training Acc: 0.790, Testing Acc: 0.698\n",
      "Epoch:   7/ 30 Training Loss: 51.663, Testing Loss: 75.264, Training Acc: 0.819, Testing Acc: 0.708\n",
      "Epoch:   8/ 30 Training Loss: 48.004, Testing Loss: 76.165, Training Acc: 0.835, Testing Acc: 0.709\n",
      "Epoch:   9/ 30 Training Loss: 45.135, Testing Loss: 77.664, Training Acc: 0.849, Testing Acc: 0.710\n",
      "Epoch:  10/ 30 Training Loss: 44.126, Testing Loss: 78.651, Training Acc: 0.854, Testing Acc: 0.699\n",
      "Epoch:  11/ 30 Training Loss: 39.180, Testing Loss: 83.040, Training Acc: 0.874, Testing Acc: 0.708\n",
      "Epoch:  12/ 30 Training Loss: 39.334, Testing Loss: 88.234, Training Acc: 0.866, Testing Acc: 0.711\n",
      "Epoch:  13/ 30 Training Loss: 32.953, Testing Loss: 88.957, Training Acc: 0.897, Testing Acc: 0.712\n",
      "Epoch:  14/ 30 Training Loss: 30.304, Testing Loss: 94.983, Training Acc: 0.907, Testing Acc: 0.705\n",
      "Epoch:  15/ 30 Training Loss: 29.752, Testing Loss: 98.791, Training Acc: 0.909, Testing Acc: 0.696\n",
      "Epoch:  16/ 30 Training Loss: 26.526, Testing Loss: 96.417, Training Acc: 0.923, Testing Acc: 0.704\n",
      "Epoch:  17/ 30 Training Loss: 24.183, Testing Loss: 107.525, Training Acc: 0.929, Testing Acc: 0.696\n",
      "Epoch:  18/ 30 Training Loss: 20.424, Testing Loss: 109.202, Training Acc: 0.945, Testing Acc: 0.700\n",
      "Epoch:  19/ 30 Training Loss: 19.128, Testing Loss: 112.381, Training Acc: 0.948, Testing Acc: 0.700\n",
      "Epoch:  20/ 30 Training Loss: 18.308, Testing Loss: 125.910, Training Acc: 0.948, Testing Acc: 0.701\n",
      "Epoch:  21/ 30 Training Loss: 15.267, Testing Loss: 122.083, Training Acc: 0.962, Testing Acc: 0.695\n",
      "Epoch:  22/ 30 Training Loss: 12.967, Testing Loss: 134.969, Training Acc: 0.969, Testing Acc: 0.695\n",
      "Epoch:  23/ 30 Training Loss: 12.319, Testing Loss: 134.890, Training Acc: 0.971, Testing Acc: 0.690\n",
      "Epoch:  24/ 30 Training Loss: 9.806, Testing Loss: 154.704, Training Acc: 0.977, Testing Acc: 0.693\n",
      "Epoch:  25/ 30 Training Loss: 9.275, Testing Loss: 155.780, Training Acc: 0.978, Testing Acc: 0.689\n",
      "Epoch:  26/ 30 Training Loss: 8.050, Testing Loss: 158.092, Training Acc: 0.982, Testing Acc: 0.688\n",
      "Epoch:  27/ 30 Training Loss: 6.914, Testing Loss: 168.177, Training Acc: 0.986, Testing Acc: 0.687\n",
      "Epoch:  28/ 30 Training Loss: 6.050, Testing Loss: 186.037, Training Acc: 0.987, Testing Acc: 0.693\n",
      "Epoch:  29/ 30 Training Loss: 5.461, Testing Loss: 180.957, Training Acc: 0.989, Testing Acc: 0.685\n",
      "Epoch:  30/ 30 Training Loss: 4.704, Testing Loss: 190.347, Training Acc: 0.991, Testing Acc: 0.687\n",
      "CPU times: user 10min 34s, sys: 1min 30s, total: 12min 5s\n",
      "Wall time: 10min 39s\n"
     ]
    }
   ],
   "source": [
    "model = RNNClassifier(embedding_dim=n_emb,\n",
    "                       hidden_dim=n_hidden,\n",
    "                       vocab_size=vocab_size,\n",
    "                       label_size=1,\n",
    "                       batch_size=batch_size, \n",
    "                       rec_layer=RNNLayer,\n",
    "                       dropout=None).to(device)\n",
    "\n",
    "optimizer = optim.RMSprop(model.parameters(), lr=learning_rate)\n",
    "lossfun = nn.BCELoss(reduction='sum')\n",
    "\n",
    "%time a, b, c, d = train(train_loader, test_loader, model, lossfun, \\\n",
    "                   optimizer, device, num_epochs)"
   ]
  },
  {
   "cell_type": "markdown",
   "metadata": {},
   "source": [
    "Протестируйте полученную модель c dropout=0.5, вновь замерив время обучения. Получилось ли побороть переобучение? Сильно ли дольше обучается данная модель по сравнению с предыдущей? (доп. время тратится на генерацию масок дропаута)."
   ]
  },
  {
   "cell_type": "code",
   "execution_count": 71,
   "metadata": {},
   "outputs": [
    {
     "name": "stdout",
     "output_type": "stream",
     "text": [
      "Epoch:   1/ 30 Training Loss: 88.140, Testing Loss: 88.214, Training Acc: 0.533, Testing Acc: 0.527\n",
      "Epoch:   2/ 30 Training Loss: 87.613, Testing Loss: 87.859, Training Acc: 0.555, Testing Acc: 0.541\n",
      "Epoch:   3/ 30 Training Loss: 85.724, Testing Loss: 86.419, Training Acc: 0.600, Testing Acc: 0.577\n",
      "Epoch:   4/ 30 Training Loss: 83.533, Testing Loss: 84.832, Training Acc: 0.630, Testing Acc: 0.604\n",
      "Epoch:   5/ 30 Training Loss: 82.476, Testing Loss: 84.109, Training Acc: 0.645, Testing Acc: 0.614\n",
      "Epoch:   6/ 30 Training Loss: 80.211, Testing Loss: 82.637, Training Acc: 0.662, Testing Acc: 0.630\n",
      "Epoch:   7/ 30 Training Loss: 78.882, Testing Loss: 81.773, Training Acc: 0.674, Testing Acc: 0.637\n",
      "Epoch:   8/ 30 Training Loss: 77.066, Testing Loss: 80.740, Training Acc: 0.690, Testing Acc: 0.648\n",
      "Epoch:   9/ 30 Training Loss: 75.296, Testing Loss: 79.787, Training Acc: 0.703, Testing Acc: 0.657\n",
      "Epoch:  10/ 30 Training Loss: 74.299, Testing Loss: 79.022, Training Acc: 0.708, Testing Acc: 0.663\n",
      "Epoch:  11/ 30 Training Loss: 74.336, Testing Loss: 79.187, Training Acc: 0.712, Testing Acc: 0.661\n",
      "Epoch:  12/ 30 Training Loss: 71.027, Testing Loss: 77.446, Training Acc: 0.726, Testing Acc: 0.674\n",
      "Epoch:  13/ 30 Training Loss: 70.053, Testing Loss: 77.217, Training Acc: 0.730, Testing Acc: 0.681\n",
      "Epoch:  14/ 30 Training Loss: 68.830, Testing Loss: 76.230, Training Acc: 0.742, Testing Acc: 0.686\n",
      "Epoch:  15/ 30 Training Loss: 66.983, Testing Loss: 75.286, Training Acc: 0.754, Testing Acc: 0.693\n",
      "Epoch:  16/ 30 Training Loss: 66.616, Testing Loss: 75.026, Training Acc: 0.756, Testing Acc: 0.693\n",
      "Epoch:  17/ 30 Training Loss: 64.951, Testing Loss: 74.614, Training Acc: 0.761, Testing Acc: 0.696\n",
      "Epoch:  18/ 30 Training Loss: 63.293, Testing Loss: 73.702, Training Acc: 0.769, Testing Acc: 0.702\n",
      "Epoch:  19/ 30 Training Loss: 63.260, Testing Loss: 73.338, Training Acc: 0.774, Testing Acc: 0.703\n",
      "Epoch:  20/ 30 Training Loss: 61.726, Testing Loss: 72.751, Training Acc: 0.779, Testing Acc: 0.707\n",
      "Epoch:  21/ 30 Training Loss: 60.181, Testing Loss: 72.263, Training Acc: 0.783, Testing Acc: 0.710\n",
      "Epoch:  22/ 30 Training Loss: 59.792, Testing Loss: 72.339, Training Acc: 0.784, Testing Acc: 0.713\n",
      "Epoch:  23/ 30 Training Loss: 57.682, Testing Loss: 71.223, Training Acc: 0.795, Testing Acc: 0.717\n",
      "Epoch:  24/ 30 Training Loss: 57.872, Testing Loss: 71.164, Training Acc: 0.797, Testing Acc: 0.716\n",
      "Epoch:  25/ 30 Training Loss: 56.558, Testing Loss: 71.210, Training Acc: 0.798, Testing Acc: 0.718\n",
      "Epoch:  26/ 30 Training Loss: 56.667, Testing Loss: 71.307, Training Acc: 0.799, Testing Acc: 0.717\n",
      "Epoch:  27/ 30 Training Loss: 53.924, Testing Loss: 70.283, Training Acc: 0.812, Testing Acc: 0.724\n",
      "Epoch:  28/ 30 Training Loss: 54.712, Testing Loss: 70.469, Training Acc: 0.811, Testing Acc: 0.720\n",
      "Epoch:  29/ 30 Training Loss: 53.591, Testing Loss: 70.230, Training Acc: 0.817, Testing Acc: 0.722\n",
      "Epoch:  30/ 30 Training Loss: 52.681, Testing Loss: 69.888, Training Acc: 0.818, Testing Acc: 0.723\n",
      "CPU times: user 10min 58s, sys: 1min 32s, total: 12min 30s\n",
      "Wall time: 11min 14s\n"
     ]
    }
   ],
   "source": [
    "model = RNNClassifier(embedding_dim=n_emb,\n",
    "                       hidden_dim=n_hidden,\n",
    "                       vocab_size=vocab_size,\n",
    "                       label_size=1,\n",
    "                       batch_size=batch_size, \n",
    "                       rec_layer=RNNLayer,\n",
    "                       dropout=0.5).to(device)\n",
    "\n",
    "optimizer = optim.RMSprop(model.parameters(), lr=learning_rate)\n",
    "lossfun = nn.BCELoss(reduction='sum')\n",
    "\n",
    "%time a, b, c, d = train(train_loader, test_loader, model, lossfun, \\\n",
    "                   optimizer, device, num_epochs)"
   ]
  },
  {
   "cell_type": "markdown",
   "metadata": {},
   "source": [
    "### Реализация дропаута по статье Гала и Гарамани. Дубль 2"
   ]
  },
  {
   "cell_type": "markdown",
   "metadata": {},
   "source": [
    "<начало взлома pytorch>"
   ]
  },
  {
   "cell_type": "markdown",
   "metadata": {},
   "source": [
    "При разворачивании цикла по времени средствами python обучение рекуррентной нейросети сильно замедляется. Однако для реализации дропаута Гала и Гарамани необязательно явно задавать в коде домножение нейронов на маски. Можно схитрить и обойтись использованием слоя nn.LSTM: перед вызовом forward слоя nn.LSTM подменять его веса на веса, домноженные по строкам на маски. А обучаемые веса хранить отдельно. Именно так этот дропаут реализован в библиотеке fastai, код из которой использован в ячейке ниже.\n",
    "\n",
    "Такой слой реализуется в виде обертки над nn.LSTM. Допишите класс:"
   ]
  },
  {
   "cell_type": "code",
   "execution_count": 53,
   "metadata": {
    "collapsed": true
   },
   "outputs": [],
   "source": [
    "import warnings"
   ]
  },
  {
   "cell_type": "code",
   "execution_count": 65,
   "metadata": {
    "collapsed": true
   },
   "outputs": [],
   "source": [
    "class FastRNNLayer(nn.Module):\n",
    "    def __init__(self, input_size, hidden_size, dropout=0):\n",
    "        super(FastRNNLayer, self).__init__()\n",
    "        self.module = nn.LSTM(input_size, hidden_size)\n",
    "        self.dropout = dropout\n",
    "        self.layer_names = ['weight_hh_l0', 'weight_ih_l0']\n",
    "        for layer in self.layer_names:\n",
    "            # Makes a copy of the weights of the selected layers.\n",
    "            w = getattr(self.module, layer)\n",
    "            self.register_parameter(f'{layer}_raw', nn.Parameter(w.data))\n",
    "            \n",
    "    def _setweights(self):\n",
    "        \"Apply dropout to the raw weights.\"\n",
    "        ### your code here\n",
    "        ### generate input_mask and hidden_mask (use function gen_dropout_mask)\n",
    "        input_mask, hidden_mask = gen_dropout_mask(self.module.input_size, \\\n",
    "                                                   self.module.hidden_size, \\\n",
    "                                                   self.training, \\\n",
    "                                                   self.dropout, \\\n",
    "                                                   self.module.weight_hh_l0.data)\n",
    "        for layer, mask in zip(self.layer_names, (hidden_mask, input_mask)):\n",
    "            raw_w = getattr(self, f'{layer}_raw')\n",
    "            self.module._parameters[layer] = raw_w * mask\n",
    "\n",
    "    def forward(self, *args):\n",
    "        with warnings.catch_warnings():\n",
    "            #To avoid the warning that comes because the weights aren't flattened.\n",
    "            warnings.simplefilter(\"ignore\")\n",
    "            \n",
    "            ### your code here\n",
    "            ### set new weights of self.module and call its forward\n",
    "            self._setweights()\n",
    "            return self.module.forward(*args)\n",
    "\n",
    "    def reset(self):\n",
    "        if hasattr(self.module, 'reset'): self.module.reset()"
   ]
  },
  {
   "cell_type": "markdown",
   "metadata": {},
   "source": [
    "Протестируйте полученный слой (вновь подставив его в RNNClassifier в качестве rec_layer) с dropout=0.5. Сравните время обучения с предыдущими моделями. Проследите, чтобы качество получилось такое же, как при первой реализации этого дропаута."
   ]
  },
  {
   "cell_type": "code",
   "execution_count": 70,
   "metadata": {},
   "outputs": [
    {
     "name": "stdout",
     "output_type": "stream",
     "text": [
      "Epoch:   1/ 30 Training Loss: 88.126, Testing Loss: 88.234, Training Acc: 0.533, Testing Acc: 0.523\n",
      "Epoch:   2/ 30 Training Loss: 87.568, Testing Loss: 87.864, Training Acc: 0.554, Testing Acc: 0.542\n",
      "Epoch:   3/ 30 Training Loss: 85.890, Testing Loss: 86.674, Training Acc: 0.594, Testing Acc: 0.572\n",
      "Epoch:   4/ 30 Training Loss: 84.923, Testing Loss: 85.988, Training Acc: 0.614, Testing Acc: 0.586\n",
      "Epoch:   5/ 30 Training Loss: 82.680, Testing Loss: 84.413, Training Acc: 0.639, Testing Acc: 0.604\n",
      "Epoch:   6/ 30 Training Loss: 80.518, Testing Loss: 83.125, Training Acc: 0.655, Testing Acc: 0.620\n",
      "Epoch:   7/ 30 Training Loss: 78.116, Testing Loss: 81.429, Training Acc: 0.676, Testing Acc: 0.638\n",
      "Epoch:   8/ 30 Training Loss: 76.502, Testing Loss: 80.371, Training Acc: 0.691, Testing Acc: 0.649\n",
      "Epoch:   9/ 30 Training Loss: 74.534, Testing Loss: 79.262, Training Acc: 0.705, Testing Acc: 0.657\n",
      "Epoch:  10/ 30 Training Loss: 73.071, Testing Loss: 78.453, Training Acc: 0.714, Testing Acc: 0.663\n",
      "Epoch:  11/ 30 Training Loss: 71.388, Testing Loss: 77.660, Training Acc: 0.725, Testing Acc: 0.670\n",
      "Epoch:  12/ 30 Training Loss: 69.258, Testing Loss: 76.599, Training Acc: 0.736, Testing Acc: 0.678\n",
      "Epoch:  13/ 30 Training Loss: 68.520, Testing Loss: 76.217, Training Acc: 0.745, Testing Acc: 0.680\n",
      "Epoch:  14/ 30 Training Loss: 67.154, Testing Loss: 75.343, Training Acc: 0.750, Testing Acc: 0.690\n",
      "Epoch:  15/ 30 Training Loss: 66.272, Testing Loss: 75.049, Training Acc: 0.756, Testing Acc: 0.690\n",
      "Epoch:  16/ 30 Training Loss: 64.877, Testing Loss: 74.337, Training Acc: 0.762, Testing Acc: 0.694\n",
      "Epoch:  17/ 30 Training Loss: 62.570, Testing Loss: 73.222, Training Acc: 0.774, Testing Acc: 0.703\n",
      "Epoch:  18/ 30 Training Loss: 61.989, Testing Loss: 72.814, Training Acc: 0.777, Testing Acc: 0.706\n",
      "Epoch:  19/ 30 Training Loss: 60.825, Testing Loss: 72.164, Training Acc: 0.783, Testing Acc: 0.710\n",
      "Epoch:  20/ 30 Training Loss: 60.059, Testing Loss: 71.891, Training Acc: 0.787, Testing Acc: 0.713\n",
      "Epoch:  21/ 30 Training Loss: 59.189, Testing Loss: 71.442, Training Acc: 0.791, Testing Acc: 0.716\n",
      "Epoch:  22/ 30 Training Loss: 57.478, Testing Loss: 70.770, Training Acc: 0.797, Testing Acc: 0.718\n",
      "Epoch:  23/ 30 Training Loss: 56.773, Testing Loss: 70.597, Training Acc: 0.801, Testing Acc: 0.716\n",
      "Epoch:  24/ 30 Training Loss: 56.726, Testing Loss: 70.364, Training Acc: 0.804, Testing Acc: 0.719\n",
      "Epoch:  25/ 30 Training Loss: 55.967, Testing Loss: 70.509, Training Acc: 0.802, Testing Acc: 0.719\n",
      "Epoch:  26/ 30 Training Loss: 54.075, Testing Loss: 69.537, Training Acc: 0.813, Testing Acc: 0.725\n",
      "Epoch:  27/ 30 Training Loss: 52.922, Testing Loss: 70.026, Training Acc: 0.816, Testing Acc: 0.724\n",
      "Epoch:  28/ 30 Training Loss: 51.714, Testing Loss: 69.468, Training Acc: 0.823, Testing Acc: 0.726\n",
      "Epoch:  29/ 30 Training Loss: 51.550, Testing Loss: 68.932, Training Acc: 0.824, Testing Acc: 0.726\n",
      "Epoch:  30/ 30 Training Loss: 50.982, Testing Loss: 69.390, Training Acc: 0.823, Testing Acc: 0.726\n",
      "CPU times: user 10min 24s, sys: 1min 31s, total: 11min 56s\n",
      "Wall time: 10min 43s\n"
     ]
    }
   ],
   "source": [
    "model = RNNClassifier(embedding_dim=n_emb,\n",
    "                       hidden_dim=n_hidden,\n",
    "                       vocab_size=vocab_size,\n",
    "                       label_size=1,\n",
    "                       batch_size=batch_size, \n",
    "                       rec_layer=FastRNNLayer,\n",
    "                       dropout=0.5).to(device)\n",
    "\n",
    "optimizer = optim.RMSprop(model.parameters(), lr=learning_rate)\n",
    "lossfun = nn.BCELoss(reduction='sum')\n",
    "\n",
    "%time a, b, c, d = train(train_loader, test_loader, model, lossfun, \\\n",
    "                   optimizer, device, num_epochs)"
   ]
  },
  {
   "cell_type": "markdown",
   "metadata": {},
   "source": [
    "</конец взлома pytorch>"
   ]
  },
  {
   "cell_type": "markdown",
   "metadata": {},
   "source": [
    "### Реализация дропаута по статье Семениуты и др\n",
    "Перейдем к реализации дропаута для LSTM по статье [Semeniuta et al](http://www.aclweb.org/anthology/C16-1165). \n",
    "\n",
    "Этот метод применения дропаута не менее популярен, чем предыдущий. Его особенность состоит в том, что он придуман специально для гейтовых архитектур. В контексте LSTM этот дропаут накладывается только на информационный поток (m_h - маска дропаута):\n",
    "$$\n",
    "i = \\sigma(h_{t-1}W^i + x_t U^i+b_i) \\quad\n",
    "o = \\sigma(h_{t-1}W^o + x_t U^o+b_o) \n",
    "$$\n",
    "$$\n",
    "f = \\sigma(h_{t-1}W^f + x_t U^f+b_f) \\quad \n",
    "g = tanh(h_{t-1} W^g + x_t U^g+b_g) \n",
    "$$\n",
    "$$\n",
    "c_t = f \\odot c_{t-1} +  i \\odot g \\odot {\\bf m_h} \\quad\n",
    "h_t =  o \\odot tanh(c_t) \\nonumber\n",
    "$$\n",
    "На входы $x_t$ маска накладывается как в предыдущем дропауте. Впрочем, на входы маску можно наложить вообще до вызова рекуррентного слоя.\n",
    "\n",
    "Согласно статье, маска дропаута может быть как одинаковая, так и разная для всех моментов времени. Мы сделаем одинаковую.\n",
    "\n",
    "Для реализации этого дропаута можно: а) самостоятельно реализовать LSTM (интерфейса LSTMCell не хватит) б) снова воспользоваться трюком с установкой весов (но тут мы опираемся на свойство hanh(0)=0, к тому же, трюк в данном случае выглядит менее тривиально, чем с дропаутом Гала). Предлагается реализовать дрпоаут по сценираю а. Допишите класс:"
   ]
  },
  {
   "cell_type": "code",
   "execution_count": null,
   "metadata": {
    "collapsed": true
   },
   "outputs": [],
   "source": [
    "class HandmadeLSTM(nn.Module):\n",
    "    def __init__(self, input_size, hidden_size, dropout=0.):\n",
    "        super(HandmadeLSTM, self).__init__()\n",
    "        self.input_size = input_size\n",
    "        self.hidden_size = hidden_size\n",
    "        self.dropout = dropout\n",
    "        self.input_weights = nn.Linear(input_size, 4 * hidden_size)\n",
    "        self.hidden_weights = nn.Linear(hidden_size, 4 * hidden_size)\n",
    "        \n",
    "        self.reset_params()\n",
    "\n",
    "\n",
    "    def reset_params(self):\n",
    "        \"\"\"\n",
    "        initialization as in Pytorch\n",
    "        do not forget to call this method!\n",
    "        \"\"\"\n",
    "        stdv = 1.0 / np.sqrt(self.hidden_size)\n",
    "        for weight in self.parameters():\n",
    "            weight.data.uniform_(0, stdv)\n",
    "            \n",
    "\n",
    "    def forward(self, inp, hidden=None):\n",
    "        ### your code here\n",
    "        # use functions init_h0_c0 and gen_dropout_masks defined above"
   ]
  },
  {
   "cell_type": "markdown",
   "metadata": {},
   "source": [
    "Протестируйте вашу реализацию без дропаута (проконтролируйте качество и сравните время обучения с временем обучения nn.LSTM и RNNLayer), а также с dropout=0.5. Сравните качество модели с таким дропаутом с качеством модели с дропаутом Гала и Гарамани."
   ]
  },
  {
   "cell_type": "code",
   "execution_count": null,
   "metadata": {
    "collapsed": true
   },
   "outputs": [],
   "source": []
  },
  {
   "cell_type": "code",
   "execution_count": null,
   "metadata": {
    "collapsed": true
   },
   "outputs": [],
   "source": []
  },
  {
   "cell_type": "code",
   "execution_count": null,
   "metadata": {
    "collapsed": true
   },
   "outputs": [],
   "source": []
  },
  {
   "cell_type": "markdown",
   "metadata": {
    "collapsed": true
   },
   "source": [
    "### Zoneout\n",
    "Это еще одна модификация идеи дропаута применительно к рекуррентным нейросетям. В Zoneout на каждом временном шаге с вероятностью p компонента скрытого состояния обновляется, а с вероятностью 1-p берется с предыдущего шага. \n",
    "В Виде формул (m^t_h - бинарная маска):\n",
    " \n",
    "(сначала обычный рекуррентный переход, например LSTM)\n",
    "$$\n",
    "i = \\sigma(h_{t-1}W^i + x_t U^i+b_i) \\quad\n",
    "o = \\sigma(h_{t-1}W^o + x_t U^o+b_o) \n",
    "$$\n",
    "$$\n",
    "f = \\sigma(h_{t-1}W^f + x_t U^f+b_f) \\quad \n",
    "g = tanh(h_{t-1} W^g + x_t U^g+b_g) \n",
    "$$\n",
    "$$\n",
    "c_t = f \\odot c_{t-1} +  i \\odot  g \\quad\n",
    "h_t =  o \\odot tanh(c_t) \\nonumber\n",
    "$$\n",
    "Затем Zoneout:\n",
    "$$\n",
    "h_t = h_t * m_h^t + h_{t-1}*(1-m_h^t)\n",
    "$$\n",
    "В этом методе маска уже должна быть разная во все моменты времени (иначе метод упрощается до дропаута Гала и Гарамани). На входы $x_t$ вновь можно накладывать маску до начала работы рекуррентного слоя.  \n",
    "\n",
    "Если у вас осталось время, вы можете реализовать этот метод. Выберите основу из трех рассмотренных случаев самостоятельно.\n"
   ]
  },
  {
   "cell_type": "code",
   "execution_count": null,
   "metadata": {
    "collapsed": true
   },
   "outputs": [],
   "source": []
  }
 ],
 "metadata": {
  "kernelspec": {
   "display_name": "Python 3",
   "language": "python",
   "name": "python3"
  },
  "language_info": {
   "codemirror_mode": {
    "name": "ipython",
    "version": 3
   },
   "file_extension": ".py",
   "mimetype": "text/x-python",
   "name": "python",
   "nbconvert_exporter": "python",
   "pygments_lexer": "ipython3",
   "version": "3.6.1"
  },
  "varInspector": {
   "cols": {
    "lenName": 16,
    "lenType": 16,
    "lenVar": 40
   },
   "kernels_config": {
    "python": {
     "delete_cmd_postfix": "",
     "delete_cmd_prefix": "del ",
     "library": "var_list.py",
     "varRefreshCmd": "print(var_dic_list())"
    },
    "r": {
     "delete_cmd_postfix": ") ",
     "delete_cmd_prefix": "rm(",
     "library": "var_list.r",
     "varRefreshCmd": "cat(var_dic_list()) "
    }
   },
   "position": {
    "height": "313px",
    "left": "926px",
    "right": "27px",
    "top": "120px",
    "width": "343px"
   },
   "types_to_exclude": [
    "module",
    "function",
    "builtin_function_or_method",
    "instance",
    "_Feature"
   ],
   "window_display": false
  }
 },
 "nbformat": 4,
 "nbformat_minor": 2
}
