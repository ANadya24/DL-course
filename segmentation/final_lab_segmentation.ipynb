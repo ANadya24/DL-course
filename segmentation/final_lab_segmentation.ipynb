{
 "cells": [
  {
   "cell_type": "markdown",
   "metadata": {
    "colab_type": "text",
    "id": "Z2D3HCTds8Td"
   },
   "source": [
    "![img](https://upload.wikimedia.org/wikipedia/commons/9/96/Pytorch_logo.png)"
   ]
  },
  {
   "cell_type": "code",
   "execution_count": 1,
   "metadata": {
    "colab": {},
    "colab_type": "code",
    "collapsed": true,
    "id": "toleW6Qvs8Th"
   },
   "outputs": [],
   "source": [
    "%matplotlib inline\n",
    "\n",
    "import numpy as np\n",
    "import matplotlib.pyplot as plt\n",
    "from tqdm import tqdm, tqdm_notebook"
   ]
  },
  {
   "cell_type": "markdown",
   "metadata": {
    "colab_type": "text",
    "id": "_IO97C-ns8Ty"
   },
   "source": [
    "На этом занятии помимо базового функционала `pytorch` будет использоваться библиотека для зрения **`torchvision`**."
   ]
  },
  {
   "cell_type": "markdown",
   "metadata": {
    "colab_type": "text",
    "id": "QXGR9MJKs8T1"
   },
   "source": [
    "# Pytorch как конструктор"
   ]
  },
  {
   "cell_type": "markdown",
   "metadata": {
    "colab_type": "text",
    "id": "LtoglMuqs8T4"
   },
   "source": [
    "## Работа с датасетами\n",
    "\n",
    "Для загрузки данных pytorch опирается на такую сущность, как **`Dataset`**.\n",
    "\n",
    "Этот абстрактный класс определен в `torch.utils.data.dataset`:\n",
    "\n",
    "```python\n",
    "class Dataset(object):\n",
    "    \"\"\"An abstract class representing a Dataset.\n",
    "\n",
    "    All other datasets should subclass it. All subclasses should override\n",
    "    ``__len__``, that provides the size of the dataset, and ``__getitem__``,\n",
    "    supporting integer indexing in range from 0 to len(self) exclusive.\n",
    "    \"\"\"\n",
    "\n",
    "    def __getitem__(self, index):\n",
    "        raise NotImplementedError\n",
    "\n",
    "    def __len__(self):\n",
    "        raise NotImplementedError\n",
    "\n",
    "    def __add__(self, other):\n",
    "        return ConcatDataset([self, other])\n",
    "```\n",
    "При определении нового источника данных мы создаем наследника данного класса и реализуем методы `__getitem__` и `__len__`.\n",
    "\n",
    "Пример готового такого класса — `torchvision.datasets.ImageFolder`, который позволяет создать датасет на основе директории с imagenet-подобной структурой поддиректорий (`./train/{class}` и `./val/{class}`):\n",
    "\n",
    "```python\n",
    "imagenet = torchvision.datasets.ImageFolder('path/to/imagenet_root/')\n",
    "```\n",
    "\n",
    "Кастомный пример — датасет, загружающий изображения на основе путей и классов из текстового файла:"
   ]
  },
  {
   "cell_type": "code",
   "execution_count": 5,
   "metadata": {
    "colab": {},
    "colab_type": "code",
    "collapsed": true,
    "id": "dSpujKT_s8T6"
   },
   "outputs": [],
   "source": [
    "from torch.utils.data import Dataset\n",
    "# default_loader - стандартная функция для загрузки изображений, использует accimage или PIL\n",
    "from torchvision.datasets.folder import default_loader\n",
    "\n",
    "class TxtList(Dataset):\n",
    "    def __init__(self, path, transform=None, loader=default_loader):\n",
    "        with open(path) as fin:\n",
    "            self.imgs = [s.strip().split() for s in fin.readlines()]\n",
    "\n",
    "        print(f'=> Found {len(self.imgs)} entries in {path}')\n",
    "\n",
    "        self.classes = sorted(set([_[1] for _ in self.imgs]))\n",
    "        self.class_to_idx = {cls: idx for idx, cls in enumerate(self.classes)}\n",
    "        self.transform = transform\n",
    "        self.loader = loader\n",
    "\n",
    "    def __getitem__(self, index):\n",
    "        path, target = self.imgs[index]\n",
    "        target = self.class_to_idx[target]\n",
    "        img = self.loader(path)\n",
    "        if self.transform is not None:\n",
    "            img = self.transform(img)\n",
    "\n",
    "        return img, target\n",
    "\n",
    "    def __len__(self):\n",
    "        return len(self.imgs)"
   ]
  },
  {
   "cell_type": "code",
   "execution_count": 6,
   "metadata": {
    "colab": {},
    "colab_type": "code",
    "collapsed": true,
    "id": "HGso_bmUs8T_"
   },
   "outputs": [],
   "source": [
    "!echo '/tmp/1.jpg\\tcat' > /tmp/dataset.tsv\n",
    "!echo '/tmp/2.jpg\\tcat' >> /tmp/dataset.tsv\n",
    "!echo '/tmp/3.jpg\\tdog' >> /tmp/dataset.tsv\n",
    "!echo '/tmp/4.jpg\\tcat' >> /tmp/dataset.tsv"
   ]
  },
  {
   "cell_type": "code",
   "execution_count": 7,
   "metadata": {
    "colab": {},
    "colab_type": "code",
    "id": "uPujDDKvs8UE"
   },
   "outputs": [
    {
     "name": "stdout",
     "output_type": "stream",
     "text": [
      "=> Found 4 entries in /tmp/dataset.tsv\n"
     ]
    }
   ],
   "source": [
    "catdog = TxtList('/tmp/dataset.tsv')"
   ]
  },
  {
   "cell_type": "code",
   "execution_count": 8,
   "metadata": {
    "colab": {},
    "colab_type": "code",
    "id": "xhQsxGobs8UR"
   },
   "outputs": [
    {
     "data": {
      "text/plain": [
       "['cat', 'dog']"
      ]
     },
     "execution_count": 8,
     "metadata": {},
     "output_type": "execute_result"
    }
   ],
   "source": [
    "catdog.classes"
   ]
  },
  {
   "cell_type": "code",
   "execution_count": 9,
   "metadata": {
    "colab": {},
    "colab_type": "code",
    "id": "HwZTdXCXs8UX"
   },
   "outputs": [
    {
     "data": {
      "text/plain": [
       "[['/tmp/1.jpg', 'cat'],\n",
       " ['/tmp/2.jpg', 'cat'],\n",
       " ['/tmp/3.jpg', 'dog'],\n",
       " ['/tmp/4.jpg', 'cat']]"
      ]
     },
     "execution_count": 9,
     "metadata": {},
     "output_type": "execute_result"
    }
   ],
   "source": [
    "catdog.imgs"
   ]
  },
  {
   "cell_type": "code",
   "execution_count": 10,
   "metadata": {
    "colab": {},
    "colab_type": "code",
    "id": "Uvl29rNMs8Ud"
   },
   "outputs": [
    {
     "data": {
      "text/plain": [
       "4"
      ]
     },
     "execution_count": 10,
     "metadata": {},
     "output_type": "execute_result"
    }
   ],
   "source": [
    "len(catdog)"
   ]
  },
  {
   "cell_type": "code",
   "execution_count": 11,
   "metadata": {
    "colab": {},
    "colab_type": "code",
    "id": "8pCouikes8Up"
   },
   "outputs": [
    {
     "ename": "FileNotFoundError",
     "evalue": "[Errno 2] No such file or directory: '/tmp/1.jpg'",
     "output_type": "error",
     "traceback": [
      "\u001b[0;31m---------------------------------------------------------------------------\u001b[0m",
      "\u001b[0;31mFileNotFoundError\u001b[0m                         Traceback (most recent call last)",
      "\u001b[0;32m<ipython-input-11-09c24881b9b8>\u001b[0m in \u001b[0;36m<module>\u001b[0;34m\u001b[0m\n\u001b[1;32m      1\u001b[0m \u001b[0;31m# FileNotFoundError\u001b[0m\u001b[0;34m\u001b[0m\u001b[0;34m\u001b[0m\u001b[0m\n\u001b[0;32m----> 2\u001b[0;31m \u001b[0mcatdog\u001b[0m\u001b[0;34m[\u001b[0m\u001b[0;36m0\u001b[0m\u001b[0;34m]\u001b[0m\u001b[0;34m\u001b[0m\u001b[0m\n\u001b[0m",
      "\u001b[0;32m<ipython-input-5-625a7e4cd763>\u001b[0m in \u001b[0;36m__getitem__\u001b[0;34m(self, index)\u001b[0m\n\u001b[1;32m     18\u001b[0m         \u001b[0mpath\u001b[0m\u001b[0;34m,\u001b[0m \u001b[0mtarget\u001b[0m \u001b[0;34m=\u001b[0m \u001b[0mself\u001b[0m\u001b[0;34m.\u001b[0m\u001b[0mimgs\u001b[0m\u001b[0;34m[\u001b[0m\u001b[0mindex\u001b[0m\u001b[0;34m]\u001b[0m\u001b[0;34m\u001b[0m\u001b[0m\n\u001b[1;32m     19\u001b[0m         \u001b[0mtarget\u001b[0m \u001b[0;34m=\u001b[0m \u001b[0mself\u001b[0m\u001b[0;34m.\u001b[0m\u001b[0mclass_to_idx\u001b[0m\u001b[0;34m[\u001b[0m\u001b[0mtarget\u001b[0m\u001b[0;34m]\u001b[0m\u001b[0;34m\u001b[0m\u001b[0m\n\u001b[0;32m---> 20\u001b[0;31m         \u001b[0mimg\u001b[0m \u001b[0;34m=\u001b[0m \u001b[0mself\u001b[0m\u001b[0;34m.\u001b[0m\u001b[0mloader\u001b[0m\u001b[0;34m(\u001b[0m\u001b[0mpath\u001b[0m\u001b[0;34m)\u001b[0m\u001b[0;34m\u001b[0m\u001b[0m\n\u001b[0m\u001b[1;32m     21\u001b[0m         \u001b[0;32mif\u001b[0m \u001b[0mself\u001b[0m\u001b[0;34m.\u001b[0m\u001b[0mtransform\u001b[0m \u001b[0;32mis\u001b[0m \u001b[0;32mnot\u001b[0m \u001b[0;32mNone\u001b[0m\u001b[0;34m:\u001b[0m\u001b[0;34m\u001b[0m\u001b[0m\n\u001b[1;32m     22\u001b[0m             \u001b[0mimg\u001b[0m \u001b[0;34m=\u001b[0m \u001b[0mself\u001b[0m\u001b[0;34m.\u001b[0m\u001b[0mtransform\u001b[0m\u001b[0;34m(\u001b[0m\u001b[0mimg\u001b[0m\u001b[0;34m)\u001b[0m\u001b[0;34m\u001b[0m\u001b[0m\n",
      "\u001b[0;32m~/anaconda/lib/python3.6/site-packages/torchvision/datasets/folder.py\u001b[0m in \u001b[0;36mdefault_loader\u001b[0;34m(path)\u001b[0m\n\u001b[1;32m    145\u001b[0m         \u001b[0;32mreturn\u001b[0m \u001b[0maccimage_loader\u001b[0m\u001b[0;34m(\u001b[0m\u001b[0mpath\u001b[0m\u001b[0;34m)\u001b[0m\u001b[0;34m\u001b[0m\u001b[0m\n\u001b[1;32m    146\u001b[0m     \u001b[0;32melse\u001b[0m\u001b[0;34m:\u001b[0m\u001b[0;34m\u001b[0m\u001b[0m\n\u001b[0;32m--> 147\u001b[0;31m         \u001b[0;32mreturn\u001b[0m \u001b[0mpil_loader\u001b[0m\u001b[0;34m(\u001b[0m\u001b[0mpath\u001b[0m\u001b[0;34m)\u001b[0m\u001b[0;34m\u001b[0m\u001b[0m\n\u001b[0m\u001b[1;32m    148\u001b[0m \u001b[0;34m\u001b[0m\u001b[0m\n\u001b[1;32m    149\u001b[0m \u001b[0;34m\u001b[0m\u001b[0m\n",
      "\u001b[0;32m~/anaconda/lib/python3.6/site-packages/torchvision/datasets/folder.py\u001b[0m in \u001b[0;36mpil_loader\u001b[0;34m(path)\u001b[0m\n\u001b[1;32m    126\u001b[0m \u001b[0;32mdef\u001b[0m \u001b[0mpil_loader\u001b[0m\u001b[0;34m(\u001b[0m\u001b[0mpath\u001b[0m\u001b[0;34m)\u001b[0m\u001b[0;34m:\u001b[0m\u001b[0;34m\u001b[0m\u001b[0m\n\u001b[1;32m    127\u001b[0m     \u001b[0;31m# open path as file to avoid ResourceWarning (https://github.com/python-pillow/Pillow/issues/835)\u001b[0m\u001b[0;34m\u001b[0m\u001b[0;34m\u001b[0m\u001b[0m\n\u001b[0;32m--> 128\u001b[0;31m     \u001b[0;32mwith\u001b[0m \u001b[0mopen\u001b[0m\u001b[0;34m(\u001b[0m\u001b[0mpath\u001b[0m\u001b[0;34m,\u001b[0m \u001b[0;34m'rb'\u001b[0m\u001b[0;34m)\u001b[0m \u001b[0;32mas\u001b[0m \u001b[0mf\u001b[0m\u001b[0;34m:\u001b[0m\u001b[0;34m\u001b[0m\u001b[0m\n\u001b[0m\u001b[1;32m    129\u001b[0m         \u001b[0mimg\u001b[0m \u001b[0;34m=\u001b[0m \u001b[0mImage\u001b[0m\u001b[0;34m.\u001b[0m\u001b[0mopen\u001b[0m\u001b[0;34m(\u001b[0m\u001b[0mf\u001b[0m\u001b[0;34m)\u001b[0m\u001b[0;34m\u001b[0m\u001b[0m\n\u001b[1;32m    130\u001b[0m         \u001b[0;32mreturn\u001b[0m \u001b[0mimg\u001b[0m\u001b[0;34m.\u001b[0m\u001b[0mconvert\u001b[0m\u001b[0;34m(\u001b[0m\u001b[0;34m'RGB'\u001b[0m\u001b[0;34m)\u001b[0m\u001b[0;34m\u001b[0m\u001b[0m\n",
      "\u001b[0;31mFileNotFoundError\u001b[0m: [Errno 2] No such file or directory: '/tmp/1.jpg'"
     ]
    }
   ],
   "source": [
    "# FileNotFoundError\n",
    "catdog[0]"
   ]
  },
  {
   "cell_type": "markdown",
   "metadata": {
    "colab_type": "text",
    "id": "z51iccMbs8Uu"
   },
   "source": [
    "`torchvision` также содержит и другие готовые классы для стандартных датасетов: \n",
    "http://pytorch.org/docs/master/torchvision/datasets.html.\n",
    "\n",
    "Некоторые из них можно сразу и загрузить — например, **MNIST**:"
   ]
  },
  {
   "cell_type": "code",
   "execution_count": 18,
   "metadata": {
    "colab": {},
    "colab_type": "code",
    "collapsed": true,
    "id": "UuBE5vAfs8Uv"
   },
   "outputs": [],
   "source": [
    "![ -d '/tmp/mnist/' ] && rm -r '/tmp/mnist/'"
   ]
  },
  {
   "cell_type": "code",
   "execution_count": 19,
   "metadata": {
    "colab": {
     "base_uri": "https://localhost:8080/",
     "height": 151
    },
    "colab_type": "code",
    "executionInfo": {
     "elapsed": 2062,
     "status": "ok",
     "timestamp": 1539519677896,
     "user": {
      "displayName": "Надежда Аношина",
      "photoUrl": "",
      "userId": "07079479764260119372"
     },
     "user_tz": -180
    },
    "id": "AekhIkPEs8Uz",
    "outputId": "702bccab-cb00-4761-9fa4-4bdfc23df1a6"
   },
   "outputs": [
    {
     "name": "stdout",
     "output_type": "stream",
     "text": [
      "Downloading http://yann.lecun.com/exdb/mnist/train-images-idx3-ubyte.gz\n",
      "Downloading http://yann.lecun.com/exdb/mnist/train-labels-idx1-ubyte.gz\n",
      "Downloading http://yann.lecun.com/exdb/mnist/t10k-images-idx3-ubyte.gz\n",
      "Downloading http://yann.lecun.com/exdb/mnist/t10k-labels-idx1-ubyte.gz\n",
      "Processing...\n",
      "Done!\n",
      "CPU times: user 251 ms, sys: 195 ms, total: 446 ms\n",
      "Wall time: 3.65 s\n"
     ]
    }
   ],
   "source": [
    "from torchvision.datasets import MNIST\n",
    "\n",
    "%time mnist = MNIST('/tmp/mnist/', train=True, download=True)"
   ]
  },
  {
   "cell_type": "code",
   "execution_count": 20,
   "metadata": {
    "colab": {
     "base_uri": "https://localhost:8080/",
     "height": 34
    },
    "colab_type": "code",
    "executionInfo": {
     "elapsed": 855,
     "status": "ok",
     "timestamp": 1539519693267,
     "user": {
      "displayName": "Надежда Аношина",
      "photoUrl": "",
      "userId": "07079479764260119372"
     },
     "user_tz": -180
    },
    "id": "xtNCTI5Bs8U4",
    "outputId": "083ce676-f04e-4a22-d90a-ed8fa0db3780"
   },
   "outputs": [
    {
     "data": {
      "text/plain": [
       "60000"
      ]
     },
     "execution_count": 20,
     "metadata": {},
     "output_type": "execute_result"
    }
   ],
   "source": [
    "len(mnist)"
   ]
  },
  {
   "cell_type": "code",
   "execution_count": 21,
   "metadata": {
    "colab": {
     "base_uri": "https://localhost:8080/",
     "height": 34
    },
    "colab_type": "code",
    "executionInfo": {
     "elapsed": 892,
     "status": "ok",
     "timestamp": 1539519695489,
     "user": {
      "displayName": "Надежда Аношина",
      "photoUrl": "",
      "userId": "07079479764260119372"
     },
     "user_tz": -180
    },
    "id": "qRyag4kKs8U9",
    "outputId": "aa663c8b-2e04-4ab3-9674-6688597234b8"
   },
   "outputs": [
    {
     "name": "stdout",
     "output_type": "stream",
     "text": [
      "tensor(5)\n"
     ]
    }
   ],
   "source": [
    "image, target = mnist[0]\n",
    "print(target)"
   ]
  },
  {
   "cell_type": "code",
   "execution_count": 22,
   "metadata": {
    "colab": {
     "base_uri": "https://localhost:8080/",
     "height": 265
    },
    "colab_type": "code",
    "executionInfo": {
     "elapsed": 1123,
     "status": "ok",
     "timestamp": 1539519699434,
     "user": {
      "displayName": "Надежда Аношина",
      "photoUrl": "",
      "userId": "07079479764260119372"
     },
     "user_tz": -180
    },
    "id": "mbgeEoQds8VF",
    "outputId": "06fdf33c-435a-4c72-b011-e6ac797f6529",
    "scrolled": true
   },
   "outputs": [
    {
     "data": {
      "image/png": "[encoded data removed]",
      "text/plain": [
       "<Figure size 432x288 with 1 Axes>"
      ]
     },
     "metadata": {
      "needs_background": "light"
     },
     "output_type": "display_data"
    }
   ],
   "source": [
    "plt.imshow(np.array(image), 'gray')\n",
    "plt.show()"
   ]
  },
  {
   "cell_type": "markdown",
   "metadata": {
    "colab_type": "text",
    "id": "aOevEbnps8VL"
   },
   "source": [
    "## <font color='#cc6666'>Внимание, задача!</font>"
   ]
  },
  {
   "cell_type": "markdown",
   "metadata": {
    "colab_type": "text",
    "id": "oa4CX7Q6s8VM"
   },
   "source": [
    "Релизуйте ниже датасет **`UrlList`**, конструктор которого на вход принимает список ссылок на изображения."
   ]
  },
  {
   "cell_type": "code",
   "execution_count": 23,
   "metadata": {
    "colab": {},
    "colab_type": "code",
    "collapsed": true,
    "id": "V2uHU08ls8VN"
   },
   "outputs": [],
   "source": [
    "import requests\n",
    "from PIL import Image\n",
    "\n",
    "def my_default_loader(path):\n",
    "    return Image.open(path).convert('RGB')\n",
    "\n",
    "class UrlList(Dataset):\n",
    "    def __init__(self, url_list, transform=None, loader=my_default_loader):\n",
    "        self.imgs = []\n",
    "        for url in url_list:\n",
    "            self.imgs.append(requests.get(url, stream=True).raw)\n",
    "\n",
    "        print(f'=> Found {len(self.imgs)} entries in list')\n",
    "\n",
    "        self.transform = transform\n",
    "        self.loader = loader\n",
    "        \n",
    "    def __getitem__(self, index):\n",
    "        path = self.imgs[index]\n",
    "        img = self.loader(path)\n",
    "        if self.transform is not None:\n",
    "            img = self.transform(img)\n",
    "\n",
    "        return img\n",
    "\n",
    "    def __len__(self):\n",
    "        return len(self.imgs)"
   ]
  },
  {
   "cell_type": "markdown",
   "metadata": {
    "colab_type": "text",
    "id": "_vkBHNtUs8VQ"
   },
   "source": [
    "Покажите его работу на примере:"
   ]
  },
  {
   "cell_type": "code",
   "execution_count": 24,
   "metadata": {
    "colab": {},
    "colab_type": "code",
    "id": "KLDWYPMKs8VR"
   },
   "outputs": [
    {
     "name": "stdout",
     "output_type": "stream",
     "text": [
      "=> Found 8 entries in list\n",
      "8\n"
     ]
    },
    {
     "data": {
      "image/png": "[encoded data removed]",
      "text/plain": [
       "<Figure size 432x288 with 1 Axes>"
      ]
     },
     "metadata": {
      "needs_background": "light"
     },
     "output_type": "display_data"
    }
   ],
   "source": [
    "url_list = [\n",
    "    'http://farm3.static.flickr.com/2072/2088622613_2660469c6c.jpg',#cat\n",
    "    'http://farm2.static.flickr.com/1245/1259825348_6a2aa94e8d.jpg',\n",
    "    'http://farm1.static.flickr.com/180/392497682_a04247e176.jpg',#dog\n",
    "    'http://farm1.static.flickr.com/105/288106053_7539c6de2b.jpg',\n",
    "    'http://farm2.static.flickr.com/1104/1133697429_1545da51ed.jpg',\n",
    "    'http://farm1.static.flickr.com/135/331620804_e315322a82.jpg',#cat\n",
    "    'http://farm1.static.flickr.com/228/473323308_9dba272940.jpg', #dog\n",
    "    'http://farm1.static.flickr.com/51/139716834_dcf481d509.jpg'\n",
    "]\n",
    "\n",
    "catdog2 = UrlList(url_list)\n",
    "print(len(catdog2))\n",
    "plt.imshow(catdog2[3])\n",
    "plt.show()"
   ]
  },
  {
   "cell_type": "markdown",
   "metadata": {
    "colab_type": "text",
    "id": "_VyWjeqTs8VW"
   },
   "source": [
    "## Преобразования данных\n",
    "\n",
    "Конструктор примера, приведенного выше, также как и стандартного `ImageFolder`, принимают параметр `transform` (и `target_transform`).\n",
    "\n",
    "Они служат для того, чтобы загружаемые изображения (обычно это `PIL.Image`) или таргеты преобразовывать в тензоры нужного вида.\n",
    "\n",
    "В `torchvision` входит модуль `transforms` для стандартных примеров таких преобразований:"
   ]
  },
  {
   "cell_type": "code",
   "execution_count": 25,
   "metadata": {
    "colab": {},
    "colab_type": "code",
    "collapsed": true,
    "id": "Jwg46qp4s8VX"
   },
   "outputs": [],
   "source": [
    "from torchvision import transforms"
   ]
  },
  {
   "cell_type": "markdown",
   "metadata": {
    "colab_type": "text",
    "id": "Nqn3wRe0s8Vb"
   },
   "source": [
    "Например, `transforms.ToTensor()` преобразует `PIL`-изображение типа uint8 с доменом [0, 256) в тензор с доменом [0, 1]."
   ]
  },
  {
   "cell_type": "code",
   "execution_count": 26,
   "metadata": {
    "colab": {},
    "colab_type": "code",
    "collapsed": true,
    "id": "lKmCY1aQs8Vc"
   },
   "outputs": [],
   "source": [
    "to_tensor = transforms.ToTensor()"
   ]
  },
  {
   "cell_type": "code",
   "execution_count": 27,
   "metadata": {
    "colab": {
     "base_uri": "https://localhost:8080/",
     "height": 34
    },
    "colab_type": "code",
    "executionInfo": {
     "elapsed": 1338,
     "status": "ok",
     "timestamp": 1539519731476,
     "user": {
      "displayName": "Надежда Аношина",
      "photoUrl": "",
      "userId": "07079479764260119372"
     },
     "user_tz": -180
    },
    "id": "Qfg0c1Cfs8Vf",
    "outputId": "786369fe-2667-4422-eb31-4f1b95bd75a6"
   },
   "outputs": [
    {
     "data": {
      "text/plain": [
       "(torch.Size([1, 28, 28]), tensor(0.), tensor(1.))"
      ]
     },
     "execution_count": 27,
     "metadata": {},
     "output_type": "execute_result"
    }
   ],
   "source": [
    "pil_image = mnist[0][0]\n",
    "th_image = to_tensor(pil_image)\n",
    "th_image.shape, th_image.min(), th_image.max()"
   ]
  },
  {
   "cell_type": "markdown",
   "metadata": {
    "colab_type": "text",
    "id": "Mu7bf42As8Vj"
   },
   "source": [
    "А для того, чтобы нормализовывать изображения из ImageNet'а по стандартной схеме, можно объявить"
   ]
  },
  {
   "cell_type": "code",
   "execution_count": 28,
   "metadata": {
    "colab": {},
    "colab_type": "code",
    "collapsed": true,
    "id": "u1BYoQlus8Vk"
   },
   "outputs": [],
   "source": [
    "normalize = transforms.Normalize(mean=[0.485, 0.456, 0.406], std=[0.229, 0.224, 0.225])"
   ]
  },
  {
   "cell_type": "markdown",
   "metadata": {
    "colab_type": "text",
    "id": "vZWURn-fs8Vp"
   },
   "source": [
    "Для объединения нескольких преобразваний в одно есть `Compose`:"
   ]
  },
  {
   "cell_type": "code",
   "execution_count": 29,
   "metadata": {
    "colab": {},
    "colab_type": "code",
    "collapsed": true,
    "id": "Ytgp4wves8Vr"
   },
   "outputs": [],
   "source": [
    "crop_and_tensorize = transforms.Compose([\n",
    "    transforms.CenterCrop(16),\n",
    "    transforms.ToTensor(),\n",
    "])"
   ]
  },
  {
   "cell_type": "code",
   "execution_count": 30,
   "metadata": {
    "colab": {
     "base_uri": "https://localhost:8080/",
     "height": 265
    },
    "colab_type": "code",
    "executionInfo": {
     "elapsed": 1033,
     "status": "ok",
     "timestamp": 1539519740958,
     "user": {
      "displayName": "Надежда Аношина",
      "photoUrl": "",
      "userId": "07079479764260119372"
     },
     "user_tz": -180
    },
    "id": "t9LkFLkgs8Vw",
    "outputId": "315332f6-7f81-4d37-d507-1f9e6ecb6906"
   },
   "outputs": [
    {
     "data": {
      "image/png": "[encoded data removed]",
      "text/plain": [
       "<Figure size 432x288 with 1 Axes>"
      ]
     },
     "metadata": {
      "needs_background": "light"
     },
     "output_type": "display_data"
    }
   ],
   "source": [
    "plt.imshow(crop_and_tensorize(pil_image)[0].numpy(), 'gray')\n",
    "plt.show()"
   ]
  },
  {
   "cell_type": "markdown",
   "metadata": {
    "colab_type": "text",
    "id": "rTpxtV4Is8V3"
   },
   "source": [
    "При определении кастомного трансформера помимо конструктора нужно реализовать лишь метод `__call__`:\n",
    "\n",
    "```python\n",
    "class HorizontalFlip(object):\n",
    "    def __init__(self, mode=0):\n",
    "        self.method = mode\n",
    "\n",
    "    def __call__(self, img):\n",
    "        \"\"\"\n",
    "        Args:\n",
    "            img (PIL.Image): Image to be flipped.\n",
    "\n",
    "        Returns:\n",
    "            PIL.Image: Randomly flipped image.\n",
    "        \"\"\"\n",
    "        if self.method:\n",
    "            return img.transpose(Image.FLIP_LEFT_RIGHT)\n",
    "        return img\n",
    "\n",
    "```\n",
    "\n",
    "С полным списком стандартных преобразований можно ознакомиться в http://pytorch.org/docs/master/torchvision/transforms.html."
   ]
  },
  {
   "cell_type": "markdown",
   "metadata": {
    "colab_type": "text",
    "id": "Nv7Cp4t1s8V5"
   },
   "source": [
    "## <font color='#cc6666'>Внимание, задача!</font>\n",
    "\n",
    "Реализуйте класс-трансформер, осуществляющий с подаваемым на вход изображением случайное преобразование из группы диэдра $D_4$."
   ]
  },
  {
   "cell_type": "code",
   "execution_count": 31,
   "metadata": {
    "colab": {},
    "colab_type": "code",
    "collapsed": true,
    "id": "omjnp8Dfs8V7"
   },
   "outputs": [],
   "source": [
    "from PIL import Image\n",
    "from scipy.ndimage import interpolation\n",
    "class RandomD4(object):\n",
    "    def __call__(self, img):\n",
    "        tf_list = [\n",
    "            np.array([1, 0, 0, 1]).reshape((2, 2)),\n",
    "            np.array([0, -1, 1, 0]).reshape((2, 2)),\n",
    "            np.array([-1, 0, 0, -1]).reshape((2, 2)),\n",
    "            np.array([0, 1, -1, 0]).reshape((2, 2)),\n",
    "            np.array([1, 0, 0, -1]).reshape((2, 2)),\n",
    "            np.array([0, 1, 1, 0]).reshape((2, 2)),\n",
    "            np.array([-1, 0, 0, 1]).reshape((2, 2)),\n",
    "            np.array([0, -1, -1, 0]).reshape((2, 2)),\n",
    "        ]\n",
    "        x = tf_list[np.random.randint(0, 8)]\n",
    "        img = np.asarray(img)\n",
    "        iy = img.shape[0]\n",
    "        ix = img.shape[1]\n",
    "        offset = np.zeros((2,), dtype=np.float64)\n",
    "        offset[0] = float(iy) / 2.0 - 0.5\n",
    "        offset[1] = float(ix) / 2.0 - 0.5\n",
    "        tmp = np.array(offset)\n",
    "        offset = np.dot(x, offset)\n",
    "        offset = tmp - offset\n",
    "        tf_img = interpolation.affine_transform(img, x, offset)\n",
    "        return tf_img"
   ]
  },
  {
   "cell_type": "markdown",
   "metadata": {
    "colab_type": "text",
    "id": "zTIBeu9is8V-"
   },
   "source": [
    "Покажите его работу на примере из MNIST:"
   ]
  },
  {
   "cell_type": "code",
   "execution_count": 32,
   "metadata": {
    "colab": {
     "base_uri": "https://localhost:8080/",
     "height": 385
    },
    "colab_type": "code",
    "executionInfo": {
     "elapsed": 1086,
     "status": "ok",
     "timestamp": 1539519756981,
     "user": {
      "displayName": "Надежда Аношина",
      "photoUrl": "",
      "userId": "07079479764260119372"
     },
     "user_tz": -180
    },
    "id": "ROd02xYOs8WA",
    "outputId": "6a4d9434-a27b-4bf5-c6b9-5b56e2aff10d"
   },
   "outputs": [
    {
     "data": {
      "image/png": "[encoded data removed]",
      "text/plain": [
       "<Figure size 432x288 with 1 Axes>"
      ]
     },
     "metadata": {
      "needs_background": "light"
     },
     "output_type": "display_data"
    },
    {
     "data": {
      "image/png": "[encoded data removed]",
      "text/plain": [
       "<Figure size 432x288 with 1 Axes>"
      ]
     },
     "metadata": {
      "needs_background": "light"
     },
     "output_type": "display_data"
    }
   ],
   "source": [
    "transform = RandomD4()\n",
    "pil_image = mnist[0][0]\n",
    "th_image = transform(pil_image)\n",
    "plt.subplot(1,2,1)\n",
    "plt.imshow(np.array(pil_image), 'gray')\n",
    "plt.show()\n",
    "plt.subplot(1,2,2)\n",
    "plt.imshow(th_image, 'gray')\n",
    "plt.show()"
   ]
  },
  {
   "cell_type": "markdown",
   "metadata": {
    "colab_type": "text",
    "id": "GZFnapXJs8WF"
   },
   "source": [
    "## Загрузчики данных\n",
    "\n",
    "Основная магия, для которой и нужны датасеты в приведенном выше виде, это загрузчики:"
   ]
  },
  {
   "cell_type": "code",
   "execution_count": 33,
   "metadata": {
    "colab": {},
    "colab_type": "code",
    "collapsed": true,
    "id": "LIB1qoJqs8WG"
   },
   "outputs": [],
   "source": [
    "from torch.utils.data import DataLoader"
   ]
  },
  {
   "cell_type": "markdown",
   "metadata": {
    "colab_type": "text",
    "id": "1_DfGEmus8WJ"
   },
   "source": [
    "Загрузчики создаются на основе датасета и позволяют итерироваться по батчам из него.\n",
    "\n",
    "При этом батчи готовятся (загружаются картинки, обрабатываются и т.д.) сразу в нескольких фоновых процессах!\n",
    "\n",
    "Рассмотрим их на примере с MNIST, при этом добавим к нему трансформер, т.к. лоадеры работают с тензорами или скалярами, но не `PIL.Image`."
   ]
  },
  {
   "cell_type": "code",
   "execution_count": 34,
   "metadata": {
    "colab": {},
    "colab_type": "code",
    "collapsed": true,
    "id": "kT9fSLdxs8WL"
   },
   "outputs": [],
   "source": [
    "transformed_mnist = MNIST('/tmp/mnist/', train=True, transform=transforms.ToTensor())"
   ]
  },
  {
   "cell_type": "code",
   "execution_count": 35,
   "metadata": {
    "colab": {},
    "colab_type": "code",
    "collapsed": true,
    "id": "HDD0Z8a4s8WP"
   },
   "outputs": [],
   "source": [
    "mnist_loader = DataLoader(transformed_mnist, batch_size=16, shuffle=True, num_workers=4)  # замечение про shuffle"
   ]
  },
  {
   "cell_type": "markdown",
   "metadata": {
    "colab_type": "text",
    "id": "6W09CMXjs8WS"
   },
   "source": [
    "Стандартные параметры приведены выше. При добавлении **`pin_memory=True`** батчи еще и сразу раскладываются по видеокартам.\n",
    "\n",
    "Посмотрим на работу в деле:"
   ]
  },
  {
   "cell_type": "code",
   "execution_count": 36,
   "metadata": {
    "colab": {
     "base_uri": "https://localhost:8080/",
     "height": 34
    },
    "colab_type": "code",
    "executionInfo": {
     "elapsed": 13258,
     "status": "ok",
     "timestamp": 1539519782802,
     "user": {
      "displayName": "Надежда Аношина",
      "photoUrl": "",
      "userId": "07079479764260119372"
     },
     "user_tz": -180
    },
    "id": "RaY5BiCXs8WU",
    "outputId": "ccb36adb-6fbd-4b67-974d-a6a8d67f3047"
   },
   "outputs": [
    {
     "name": "stderr",
     "output_type": "stream",
     "text": [
      "100%|██████████| 3750/3750 [00:02<00:00, 1554.55it/s]\n"
     ]
    }
   ],
   "source": [
    "for images, targets in tqdm(mnist_loader):\n",
    "    pass"
   ]
  },
  {
   "cell_type": "markdown",
   "metadata": {
    "colab_type": "text",
    "id": "q6tW6Awjs8WZ"
   },
   "source": [
    "На выходе из лоадера получаем батчи:"
   ]
  },
  {
   "cell_type": "code",
   "execution_count": 37,
   "metadata": {
    "colab": {
     "base_uri": "https://localhost:8080/",
     "height": 34
    },
    "colab_type": "code",
    "executionInfo": {
     "elapsed": 1036,
     "status": "ok",
     "timestamp": 1539519786010,
     "user": {
      "displayName": "Надежда Аношина",
      "photoUrl": "",
      "userId": "07079479764260119372"
     },
     "user_tz": -180
    },
    "id": "Aor8vevxs8Wa",
    "outputId": "810ab8e3-f3bf-4bf7-ce58-836afbb0f6c7"
   },
   "outputs": [
    {
     "data": {
      "text/plain": [
       "torch.Size([16, 1, 28, 28])"
      ]
     },
     "execution_count": 37,
     "metadata": {},
     "output_type": "execute_result"
    }
   ],
   "source": [
    "images.shape"
   ]
  },
  {
   "cell_type": "code",
   "execution_count": 38,
   "metadata": {
    "colab": {
     "base_uri": "https://localhost:8080/",
     "height": 34
    },
    "colab_type": "code",
    "executionInfo": {
     "elapsed": 995,
     "status": "ok",
     "timestamp": 1539519788497,
     "user": {
      "displayName": "Надежда Аношина",
      "photoUrl": "",
      "userId": "07079479764260119372"
     },
     "user_tz": -180
    },
    "id": "DMmEXyMGs8We",
    "outputId": "d169de7f-e2a3-423b-918b-6bf5709107e3"
   },
   "outputs": [
    {
     "data": {
      "text/plain": [
       "torch.Size([16])"
      ]
     },
     "execution_count": 38,
     "metadata": {},
     "output_type": "execute_result"
    }
   ],
   "source": [
    "targets.shape"
   ]
  },
  {
   "cell_type": "markdown",
   "metadata": {
    "colab_type": "text",
    "id": "YrKxL2Njs8Wi"
   },
   "source": [
    "Количество батчей заранее известно (чему был рад `tqdm`):"
   ]
  },
  {
   "cell_type": "code",
   "execution_count": 39,
   "metadata": {
    "colab": {
     "base_uri": "https://localhost:8080/",
     "height": 34
    },
    "colab_type": "code",
    "executionInfo": {
     "elapsed": 1160,
     "status": "ok",
     "timestamp": 1539519793739,
     "user": {
      "displayName": "Надежда Аношина",
      "photoUrl": "",
      "userId": "07079479764260119372"
     },
     "user_tz": -180
    },
    "id": "EY4EgAh8s8Wi",
    "outputId": "0cdf73bd-b50a-417a-962b-1b6c86fa8715"
   },
   "outputs": [
    {
     "data": {
      "text/plain": [
       "3750"
      ]
     },
     "execution_count": 39,
     "metadata": {},
     "output_type": "execute_result"
    }
   ],
   "source": [
    "len(mnist_loader)"
   ]
  },
  {
   "cell_type": "markdown",
   "metadata": {
    "colab_type": "text",
    "id": "6kHiO_Ugs8Wq"
   },
   "source": [
    "Пример данных (при каждом повторении прохода по мнисту пример будет случайным):"
   ]
  },
  {
   "cell_type": "code",
   "execution_count": 40,
   "metadata": {
    "colab": {
     "base_uri": "https://localhost:8080/",
     "height": 265
    },
    "colab_type": "code",
    "executionInfo": {
     "elapsed": 963,
     "status": "ok",
     "timestamp": 1539519796609,
     "user": {
      "displayName": "Надежда Аношина",
      "photoUrl": "",
      "userId": "07079479764260119372"
     },
     "user_tz": -180
    },
    "id": "rm0A1leWs8Wr",
    "outputId": "5a2c4f91-fa8a-4849-e6cd-09b0bc860a62"
   },
   "outputs": [
    {
     "data": {
      "image/png": "[encoded data removed]",
      "text/plain": [
       "<Figure size 432x288 with 1 Axes>"
      ]
     },
     "metadata": {
      "needs_background": "light"
     },
     "output_type": "display_data"
    }
   ],
   "source": [
    "plt.imshow(images[0][0].numpy(), 'gray')\n",
    "plt.show()"
   ]
  },
  {
   "cell_type": "code",
   "execution_count": 41,
   "metadata": {
    "colab": {
     "base_uri": "https://localhost:8080/",
     "height": 34
    },
    "colab_type": "code",
    "executionInfo": {
     "elapsed": 702,
     "status": "ok",
     "timestamp": 1539519800537,
     "user": {
      "displayName": "Надежда Аношина",
      "photoUrl": "",
      "userId": "07079479764260119372"
     },
     "user_tz": -180
    },
    "id": "8Y05_-dks8Wv",
    "outputId": "bd716e1a-2cd8-4c2e-964b-9bb00c9b0e49"
   },
   "outputs": [
    {
     "name": "stdout",
     "output_type": "stream",
     "text": [
      "tensor(0)\n"
     ]
    }
   ],
   "source": [
    "print(targets[0])"
   ]
  },
  {
   "cell_type": "markdown",
   "metadata": {
    "colab_type": "text",
    "id": "0asL_CA9s8W1"
   },
   "source": [
    "## Создание моделей\n",
    "\n",
    "Для создания моделей наследуемся от `torch.nn.Module`, `torch.nn` также содержит стандартные \"кирпичики\" моделей.\n",
    "\n",
    "Функциональные версии кирпичей скрыты в `torch.nn.functional`."
   ]
  },
  {
   "cell_type": "code",
   "execution_count": 42,
   "metadata": {
    "colab": {},
    "colab_type": "code",
    "collapsed": true,
    "id": "LXQodYjJs8W5"
   },
   "outputs": [],
   "source": [
    "import torch.nn as nn\n",
    "import torch.nn.functional as F"
   ]
  },
  {
   "cell_type": "markdown",
   "metadata": {
    "colab_type": "text",
    "id": "u0pjTgZGs8W8"
   },
   "source": [
    "Для макспулинга, активаций, апсемплинга и некоторых других операций есть как \"модульные\", так и \"функциональные\" версии:\n",
    "* `nn.MaxPool2d` / `F.max_pool2d`\n",
    "* `nn.ReLU` / `F.relu`\n",
    "* `nn.Upsample(mode='bilinar')` / `F.upsample(mode='bilinar')` — **deprecated** в пользу `F.interpolate`\n",
    "\n",
    "При использовании модульных версий слоев во время создания простой модели можно обходиться `nn.Sequential` для их \"склейки\":"
   ]
  },
  {
   "cell_type": "code",
   "execution_count": 43,
   "metadata": {
    "colab": {
     "base_uri": "https://localhost:8080/",
     "height": 118
    },
    "colab_type": "code",
    "executionInfo": {
     "elapsed": 963,
     "status": "ok",
     "timestamp": 1539519812507,
     "user": {
      "displayName": "Надежда Аношина",
      "photoUrl": "",
      "userId": "07079479764260119372"
     },
     "user_tz": -180
    },
    "id": "phYHb4ZZs8W9",
    "outputId": "7104853e-d5fb-47eb-e27e-c80725f9b061"
   },
   "outputs": [
    {
     "name": "stdout",
     "output_type": "stream",
     "text": [
      "Sequential(\n",
      "  (0): Conv2d(3, 64, kernel_size=(3, 3), stride=(1, 1), padding=(1, 1))\n",
      "  (1): ReLU()\n",
      "  (2): Conv2d(64, 64, kernel_size=(3, 3), stride=(1, 1), padding=(1, 1))\n",
      "  (3): ReLU()\n",
      ")\n"
     ]
    }
   ],
   "source": [
    "layers = [\n",
    "    nn.Conv2d(3, 64, 3, padding=1),\n",
    "    nn.ReLU(),\n",
    "    nn.Conv2d(64, 64, 3, padding=1),\n",
    "    nn.ReLU()\n",
    "]\n",
    "unet_down1 = nn.Sequential(*layers)\n",
    "print(unet_down1)"
   ]
  },
  {
   "cell_type": "markdown",
   "metadata": {
    "colab_type": "text",
    "id": "UyWJ8jzus8XC"
   },
   "source": [
    "## Обучение моделей\n",
    "\n",
    "Для обучения моделей необходимо определить функцию потерь, их примеры содержатся все в том же модуле `torch.nn`:\n",
    "\n",
    "```python\n",
    "output = model(torch.cat(x, 1))\n",
    "target = torch.arange(1, 1001)\n",
    "criterion = nn.MSELoss()\n",
    "\n",
    "loss = criterion(output, target)\n",
    "print(loss)\n",
    "```"
   ]
  },
  {
   "cell_type": "markdown",
   "metadata": {
    "colab_type": "text",
    "id": "-bKwngwIs8XD"
   },
   "source": [
    "Веса обновлять можно как вручную (или воспользоваться реализованным ранее оптимизатором):\n",
    "\n",
    "```python\n",
    "learning_rate = 0.01\n",
    "for f in net.parameters():\n",
    "    f.data.sub_(f.grad.data * learning_rate)\n",
    "```"
   ]
  },
  {
   "cell_type": "markdown",
   "metadata": {
    "colab_type": "text",
    "id": "tlH4CzDEs8XE"
   },
   "source": [
    "Так и пользоваться стандартным оптимизатором из модуля `torch.optim`:\n",
    "```python\n",
    "import torch.optim as optim\n",
    "\n",
    "optimizer = optim.SGD(net.parameters(), lr=0.01)\n",
    "```"
   ]
  },
  {
   "cell_type": "markdown",
   "metadata": {
    "colab_type": "text",
    "id": "LJNR721As8XF"
   },
   "source": [
    "Для зануления градиентов теперь можно обращаться к оптимизатору:\n",
    "```python\n",
    "optimizer.zero_grad()\n",
    "```"
   ]
  },
  {
   "cell_type": "markdown",
   "metadata": {
    "colab_type": "text",
    "id": "lIiHie8ms8XG"
   },
   "source": [
    "Инференс, подсчет ошибки и бэкпроп делаем как раньше:\n",
    "```python\n",
    "output = net(x)\n",
    "loss = criterion(output, target)\n",
    "loss.backward()\n",
    "```"
   ]
  },
  {
   "cell_type": "markdown",
   "metadata": {
    "colab_type": "text",
    "id": "SAPDDX0Zs8XH"
   },
   "source": [
    "А для обновления весов используем оптимизатор:\n",
    "```python\n",
    "optimizer.step()\n",
    "```"
   ]
  },
  {
   "cell_type": "markdown",
   "metadata": {
    "colab_type": "text",
    "id": "soerslTMs8XI"
   },
   "source": [
    "Для работы с шагом обучения в **`optim`** есть подмодуль **`torch.optim.lr_scheduler`**:\n",
    "```python\n",
    "from torch.optim import lr_scheduler\n",
    "```"
   ]
  },
  {
   "cell_type": "markdown",
   "metadata": {
    "colab_type": "text",
    "id": "XA0B75qos8XJ"
   },
   "source": [
    "Например, обучение ResNet на ImageNet по стандартной схеме будет работать примерно так:\n",
    "```python\n",
    "scheduler = lr_scheduler.StepLR(optimizer, step_size=30, gamma=0.1)\n",
    "for epoch in range(100):\n",
    "     scheduler.step()  # == scheduler.step(epoch)\n",
    "     # train(...)\n",
    "     # validate(...)\n",
    "```"
   ]
  },
  {
   "cell_type": "markdown",
   "metadata": {
    "colab_type": "text",
    "id": "FN0mHIyFs8XK"
   },
   "source": [
    "# Pytorch в бою"
   ]
  },
  {
   "cell_type": "markdown",
   "metadata": {
    "colab_type": "text",
    "id": "F4gmspeLs8XL"
   },
   "source": [
    "## Создание модели сегментации на примере U-Net\n",
    "\n",
    "![img](https://lmb.informatik.uni-freiburg.de/people/ronneber/u-net/u-net-architecture.png)"
   ]
  },
  {
   "cell_type": "code",
   "execution_count": 44,
   "metadata": {
    "colab": {},
    "colab_type": "code",
    "collapsed": true,
    "id": "ZdRPdT2ds8XM"
   },
   "outputs": [],
   "source": [
    "import torch\n",
    "from torch import nn"
   ]
  },
  {
   "cell_type": "markdown",
   "metadata": {
    "colab_type": "text",
    "id": "4VthFYols8XP"
   },
   "source": [
    "Часто используемые свертки:"
   ]
  },
  {
   "cell_type": "code",
   "execution_count": 45,
   "metadata": {
    "colab": {},
    "colab_type": "code",
    "collapsed": true,
    "id": "JGyVI_lCs8XQ"
   },
   "outputs": [],
   "source": [
    "def conv3x3(in_channels, out_channels, dilation=1):\n",
    "    return nn.Conv2d(in_channels, out_channels, 3, padding=dilation, dilation=dilation)"
   ]
  },
  {
   "cell_type": "markdown",
   "metadata": {
    "colab_type": "text",
    "id": "xOWwLTabs8XT"
   },
   "source": [
    "Один **блок кодировщика** состоит из двух последовательных сверток, активаций и опционального батчнорма:"
   ]
  },
  {
   "cell_type": "code",
   "execution_count": 46,
   "metadata": {
    "colab": {},
    "colab_type": "code",
    "collapsed": true,
    "id": "tdWJXkScs8XU"
   },
   "outputs": [],
   "source": [
    "class EncoderBlock(nn.Module):\n",
    "    def __init__(self, in_channels, out_channels, batch_norm=False):\n",
    "        super().__init__()\n",
    "\n",
    "        self.batch_norm = batch_norm\n",
    "\n",
    "        self.conv1 = conv3x3(in_channels, out_channels)\n",
    "        if self.batch_norm:\n",
    "            self.bn1 = nn.BatchNorm2d(out_channels)\n",
    "        self.relu1 = nn.ReLU()\n",
    "        self.conv2 = conv3x3(out_channels, out_channels)\n",
    "        if self.batch_norm:\n",
    "            self.bn2 = nn.BatchNorm2d(out_channels)\n",
    "        self.relu2 = nn.ReLU()\n",
    "\n",
    "    def forward(self, x):\n",
    "        x = self.conv1(x)\n",
    "        if self.batch_norm:\n",
    "            x = self.bn1(x)\n",
    "        x = self.relu1(x)\n",
    "        x = self.conv2(x)\n",
    "        if self.batch_norm:\n",
    "            x = self.bn2(x)\n",
    "        x = self.relu2(x)\n",
    "        return x"
   ]
  },
  {
   "cell_type": "code",
   "execution_count": 47,
   "metadata": {
    "colab": {
     "base_uri": "https://localhost:8080/",
     "height": 118
    },
    "colab_type": "code",
    "executionInfo": {
     "elapsed": 1243,
     "status": "ok",
     "timestamp": 1539519829788,
     "user": {
      "displayName": "Надежда Аношина",
      "photoUrl": "",
      "userId": "07079479764260119372"
     },
     "user_tz": -180
    },
    "id": "hBy-T7kes8XY",
    "outputId": "28dfd19c-42b8-41fe-99f4-cc23be6e3f29"
   },
   "outputs": [
    {
     "data": {
      "text/plain": [
       "EncoderBlock(\n",
       "  (conv1): Conv2d(3, 64, kernel_size=(3, 3), stride=(1, 1), padding=(1, 1))\n",
       "  (relu1): ReLU()\n",
       "  (conv2): Conv2d(64, 64, kernel_size=(3, 3), stride=(1, 1), padding=(1, 1))\n",
       "  (relu2): ReLU()\n",
       ")"
      ]
     },
     "execution_count": 47,
     "metadata": {},
     "output_type": "execute_result"
    }
   ],
   "source": [
    "block = EncoderBlock(3, 64)\n",
    "block"
   ]
  },
  {
   "cell_type": "code",
   "execution_count": 48,
   "metadata": {
    "colab": {
     "base_uri": "https://localhost:8080/",
     "height": 34
    },
    "colab_type": "code",
    "executionInfo": {
     "elapsed": 2024,
     "status": "ok",
     "timestamp": 1539519832447,
     "user": {
      "displayName": "Надежда Аношина",
      "photoUrl": "",
      "userId": "07079479764260119372"
     },
     "user_tz": -180
    },
    "id": "u85BXo_Xs8Xd",
    "outputId": "9eaa3e0e-d199-424d-d3a0-a8144e8af374"
   },
   "outputs": [
    {
     "name": "stdout",
     "output_type": "stream",
     "text": [
      "torch.Size([4, 64, 128, 128])\n"
     ]
    }
   ],
   "source": [
    "x = torch.zeros(4, 3, 128, 128)\n",
    "\n",
    "with torch.no_grad():\n",
    "    print(block(x).shape)"
   ]
  },
  {
   "cell_type": "markdown",
   "metadata": {
    "colab_type": "text",
    "id": "t8PFAnrIs8Xh"
   },
   "source": [
    "Альтернативное объявление:"
   ]
  },
  {
   "cell_type": "code",
   "execution_count": 49,
   "metadata": {
    "colab": {},
    "colab_type": "code",
    "collapsed": true,
    "id": "D-FYtAVcs8Xi"
   },
   "outputs": [],
   "source": [
    "class EncoderBlock(nn.Module):\n",
    "    def __init__(self, in_channels, out_channels, batch_norm=False):\n",
    "        super().__init__()\n",
    "\n",
    "        self.block = nn.Sequential()\n",
    "        self.block.add_module('conv1', conv3x3(in_channels, out_channels))\n",
    "        if batch_norm:\n",
    "            self.block.add_module('bn1', nn.BatchNorm2d(out_channels))\n",
    "        self.block.add_module('relu1', nn.ReLU())\n",
    "        self.block.add_module('conv2', conv3x3(out_channels, out_channels))\n",
    "        if batch_norm:\n",
    "            self.block.add_module('bn2', nn.BatchNorm2d(out_channels))\n",
    "        self.block.add_module('relu2', nn.ReLU())\n",
    "\n",
    "    def forward(self, x):\n",
    "        return self.block(x)"
   ]
  },
  {
   "cell_type": "code",
   "execution_count": 50,
   "metadata": {
    "colab": {
     "base_uri": "https://localhost:8080/",
     "height": 151
    },
    "colab_type": "code",
    "executionInfo": {
     "elapsed": 1017,
     "status": "ok",
     "timestamp": 1539519835799,
     "user": {
      "displayName": "Надежда Аношина",
      "photoUrl": "",
      "userId": "07079479764260119372"
     },
     "user_tz": -180
    },
    "id": "6EAKNxygs8Xm",
    "outputId": "3d6853e2-d188-4131-bddd-6999e782443b"
   },
   "outputs": [
    {
     "data": {
      "text/plain": [
       "EncoderBlock(\n",
       "  (block): Sequential(\n",
       "    (conv1): Conv2d(3, 64, kernel_size=(3, 3), stride=(1, 1), padding=(1, 1))\n",
       "    (relu1): ReLU()\n",
       "    (conv2): Conv2d(64, 64, kernel_size=(3, 3), stride=(1, 1), padding=(1, 1))\n",
       "    (relu2): ReLU()\n",
       "  )\n",
       ")"
      ]
     },
     "execution_count": 50,
     "metadata": {},
     "output_type": "execute_result"
    }
   ],
   "source": [
    "block = EncoderBlock(3, 64)\n",
    "block"
   ]
  },
  {
   "cell_type": "code",
   "execution_count": 51,
   "metadata": {
    "colab": {
     "base_uri": "https://localhost:8080/",
     "height": 34
    },
    "colab_type": "code",
    "executionInfo": {
     "elapsed": 1528,
     "status": "ok",
     "timestamp": 1539519838221,
     "user": {
      "displayName": "Надежда Аношина",
      "photoUrl": "",
      "userId": "07079479764260119372"
     },
     "user_tz": -180
    },
    "id": "RlrRGFn7s8Xq",
    "outputId": "6957ef0a-9f24-4899-c188-6448dad7e879"
   },
   "outputs": [
    {
     "name": "stdout",
     "output_type": "stream",
     "text": [
      "torch.Size([4, 64, 128, 128])\n"
     ]
    }
   ],
   "source": [
    "x = torch.zeros(4, 3, 128, 128)\n",
    "\n",
    "with torch.no_grad():\n",
    "    print(block(x).shape)"
   ]
  },
  {
   "cell_type": "markdown",
   "metadata": {
    "colab_type": "text",
    "id": "lsrD9TQ5s8Xu"
   },
   "source": [
    "И \"функциональная версия\":"
   ]
  },
  {
   "cell_type": "code",
   "execution_count": 52,
   "metadata": {
    "colab": {},
    "colab_type": "code",
    "collapsed": true,
    "id": "7Jz47-tds8Xu"
   },
   "outputs": [],
   "source": [
    "def encoder_block(in_channels, out_channels, batch_norm=False):\n",
    "    block = nn.Sequential()\n",
    "    block.add_module('conv1', conv3x3(in_channels, out_channels))\n",
    "    if batch_norm:\n",
    "        block.add_module('bn1', nn.BatchNorm2d(out_channels))\n",
    "    block.add_module('relu1', nn.ReLU())\n",
    "    block.add_module('conv2', conv3x3(out_channels, out_channels))\n",
    "    if batch_norm:\n",
    "        block.add_module('bn2', nn.BatchNorm2d(out_channels))\n",
    "    block.add_module('relu2', nn.ReLU())\n",
    "    return block"
   ]
  },
  {
   "cell_type": "code",
   "execution_count": 53,
   "metadata": {
    "colab": {
     "base_uri": "https://localhost:8080/",
     "height": 118
    },
    "colab_type": "code",
    "executionInfo": {
     "elapsed": 780,
     "status": "ok",
     "timestamp": 1539519844396,
     "user": {
      "displayName": "Надежда Аношина",
      "photoUrl": "",
      "userId": "07079479764260119372"
     },
     "user_tz": -180
    },
    "id": "jvoCWgTos8Xy",
    "outputId": "15012b12-399a-4fdb-89e5-f40a306f2402"
   },
   "outputs": [
    {
     "data": {
      "text/plain": [
       "Sequential(\n",
       "  (conv1): Conv2d(3, 64, kernel_size=(3, 3), stride=(1, 1), padding=(1, 1))\n",
       "  (relu1): ReLU()\n",
       "  (conv2): Conv2d(64, 64, kernel_size=(3, 3), stride=(1, 1), padding=(1, 1))\n",
       "  (relu2): ReLU()\n",
       ")"
      ]
     },
     "execution_count": 53,
     "metadata": {},
     "output_type": "execute_result"
    }
   ],
   "source": [
    "block = encoder_block(3, 64)\n",
    "block"
   ]
  },
  {
   "cell_type": "code",
   "execution_count": 54,
   "metadata": {
    "colab": {
     "base_uri": "https://localhost:8080/",
     "height": 34
    },
    "colab_type": "code",
    "executionInfo": {
     "elapsed": 1302,
     "status": "ok",
     "timestamp": 1539519849451,
     "user": {
      "displayName": "Надежда Аношина",
      "photoUrl": "",
      "userId": "07079479764260119372"
     },
     "user_tz": -180
    },
    "id": "UsAu3PH7s8X3",
    "outputId": "69568421-22cb-479e-e1e8-298a1ab63628"
   },
   "outputs": [
    {
     "name": "stdout",
     "output_type": "stream",
     "text": [
      "torch.Size([4, 64, 128, 128])\n"
     ]
    }
   ],
   "source": [
    "x = torch.zeros(4, 3, 128, 128)\n",
    "\n",
    "with torch.no_grad():\n",
    "    print(block(x).shape)"
   ]
  },
  {
   "cell_type": "markdown",
   "metadata": {
    "colab_type": "text",
    "id": "d__n4X01s8X9"
   },
   "source": [
    "Кодировщик в целом состоит из рассмотренных блоков.\n",
    "\n",
    "Его конструкция определяется входными каналами, количеством фильтров в первом блоке и количеством блоков.\n",
    "\n",
    "Помним также, что для работы сети нам нужно запоминать промежуточные активации."
   ]
  },
  {
   "cell_type": "code",
   "execution_count": 55,
   "metadata": {
    "colab": {},
    "colab_type": "code",
    "collapsed": true,
    "id": "HdN4EEsNs8X-"
   },
   "outputs": [],
   "source": [
    "class Encoder(nn.Module):\n",
    "    def __init__(self, in_channels, num_filters, num_blocks):\n",
    "        super().__init__()\n",
    "\n",
    "        self.num_blocks = num_blocks\n",
    "        for i in range(num_blocks):\n",
    "            in_channels = in_channels if not i else num_filters * 2 ** (i - 1)\n",
    "            out_channels = num_filters * 2**i\n",
    "            self.add_module(f'block{i + 1}', encoder_block(in_channels, out_channels))\n",
    "            if i != num_blocks - 1:\n",
    "                self.add_module(f'pool{i + 1}', nn.MaxPool2d(2, 2))\n",
    "\n",
    "    def forward(self, x):\n",
    "        acts = []\n",
    "        for i in range(self.num_blocks):\n",
    "            x = self.__getattr__(f'block{i + 1}')(x)\n",
    "            acts.append(x)\n",
    "            if i != self.num_blocks - 1:\n",
    "                x = self.__getattr__(f'pool{i + 1}')(x)\n",
    "        return acts"
   ]
  },
  {
   "cell_type": "markdown",
   "metadata": {
    "colab_type": "text",
    "id": "0hcEtbu9s8YB"
   },
   "source": [
    "Здесь как раз помогает подход к построению через с **`add_module`**, т.к. их количество переменно."
   ]
  },
  {
   "cell_type": "code",
   "execution_count": 56,
   "metadata": {
    "colab": {
     "base_uri": "https://localhost:8080/",
     "height": 504
    },
    "colab_type": "code",
    "executionInfo": {
     "elapsed": 626,
     "status": "ok",
     "timestamp": 1539519853589,
     "user": {
      "displayName": "Надежда Аношина",
      "photoUrl": "",
      "userId": "07079479764260119372"
     },
     "user_tz": -180
    },
    "id": "zoL79TIDs8YC",
    "outputId": "9467f766-04e6-472d-dd7a-56e9a5abc454"
   },
   "outputs": [
    {
     "data": {
      "text/plain": [
       "Encoder(\n",
       "  (block1): Sequential(\n",
       "    (conv1): Conv2d(3, 8, kernel_size=(3, 3), stride=(1, 1), padding=(1, 1))\n",
       "    (relu1): ReLU()\n",
       "    (conv2): Conv2d(8, 8, kernel_size=(3, 3), stride=(1, 1), padding=(1, 1))\n",
       "    (relu2): ReLU()\n",
       "  )\n",
       "  (pool1): MaxPool2d(kernel_size=2, stride=2, padding=0, dilation=1, ceil_mode=False)\n",
       "  (block2): Sequential(\n",
       "    (conv1): Conv2d(8, 16, kernel_size=(3, 3), stride=(1, 1), padding=(1, 1))\n",
       "    (relu1): ReLU()\n",
       "    (conv2): Conv2d(16, 16, kernel_size=(3, 3), stride=(1, 1), padding=(1, 1))\n",
       "    (relu2): ReLU()\n",
       "  )\n",
       "  (pool2): MaxPool2d(kernel_size=2, stride=2, padding=0, dilation=1, ceil_mode=False)\n",
       "  (block3): Sequential(\n",
       "    (conv1): Conv2d(16, 32, kernel_size=(3, 3), stride=(1, 1), padding=(1, 1))\n",
       "    (relu1): ReLU()\n",
       "    (conv2): Conv2d(32, 32, kernel_size=(3, 3), stride=(1, 1), padding=(1, 1))\n",
       "    (relu2): ReLU()\n",
       "  )\n",
       "  (pool3): MaxPool2d(kernel_size=2, stride=2, padding=0, dilation=1, ceil_mode=False)\n",
       "  (block4): Sequential(\n",
       "    (conv1): Conv2d(32, 64, kernel_size=(3, 3), stride=(1, 1), padding=(1, 1))\n",
       "    (relu1): ReLU()\n",
       "    (conv2): Conv2d(64, 64, kernel_size=(3, 3), stride=(1, 1), padding=(1, 1))\n",
       "    (relu2): ReLU()\n",
       "  )\n",
       ")"
      ]
     },
     "execution_count": 56,
     "metadata": {},
     "output_type": "execute_result"
    }
   ],
   "source": [
    "encoder = Encoder(in_channels=3, num_filters=8, num_blocks=4)\n",
    "encoder"
   ]
  },
  {
   "cell_type": "code",
   "execution_count": 57,
   "metadata": {
    "colab": {
     "base_uri": "https://localhost:8080/",
     "height": 84
    },
    "colab_type": "code",
    "executionInfo": {
     "elapsed": 2709,
     "status": "ok",
     "timestamp": 1539519858136,
     "user": {
      "displayName": "Надежда Аношина",
      "photoUrl": "",
      "userId": "07079479764260119372"
     },
     "user_tz": -180
    },
    "id": "Q3TouInjs8YG",
    "outputId": "ecfc2754-312a-43c0-8c40-f93183932f78"
   },
   "outputs": [
    {
     "data": {
      "text/plain": [
       "[torch.Size([4, 8, 512, 512]),\n",
       " torch.Size([4, 16, 256, 256]),\n",
       " torch.Size([4, 32, 128, 128]),\n",
       " torch.Size([4, 64, 64, 64])]"
      ]
     },
     "execution_count": 57,
     "metadata": {},
     "output_type": "execute_result"
    }
   ],
   "source": [
    "x = torch.zeros(4, 3, 512, 512)\n",
    "\n",
    "[_.shape for _ in encoder(x)]"
   ]
  },
  {
   "cell_type": "markdown",
   "metadata": {
    "colab_type": "text",
    "id": "cUGauIiJs8YL"
   },
   "source": [
    "Блок декодировщика состоит из апскейлинга входа \"снизу\", объединения двух входов и сверток как в кодировщике:"
   ]
  },
  {
   "cell_type": "code",
   "execution_count": 58,
   "metadata": {
    "colab": {},
    "colab_type": "code",
    "collapsed": true,
    "id": "DU2bMofps8YM"
   },
   "outputs": [],
   "source": [
    "class DecoderBlock(nn.Module):\n",
    "    def __init__(self, out_channels):\n",
    "        super().__init__()\n",
    "\n",
    "        self.uppool = nn.Upsample(scale_factor=2, mode='bilinear')\n",
    "        self.upconv = conv3x3(out_channels * 2, out_channels)\n",
    "        self.conv1 = conv3x3(out_channels * 2, out_channels)\n",
    "        self.conv2 = conv3x3(out_channels, out_channels)\n",
    "\n",
    "    def forward(self, down, left):\n",
    "        x = self.uppool(down)\n",
    "        x = self.upconv(x)\n",
    "        x = torch.cat([left, x], 1)\n",
    "        x = self.conv1(x)\n",
    "        x = self.conv2(x)\n",
    "        return x"
   ]
  },
  {
   "cell_type": "code",
   "execution_count": 59,
   "metadata": {
    "colab": {},
    "colab_type": "code",
    "collapsed": true,
    "id": "KCD1ce-as8YP"
   },
   "outputs": [],
   "source": [
    "block = DecoderBlock(8)"
   ]
  },
  {
   "cell_type": "code",
   "execution_count": 60,
   "metadata": {
    "colab": {},
    "colab_type": "code",
    "collapsed": true,
    "id": "wDzhCmHZs8YR"
   },
   "outputs": [],
   "source": [
    "y = encoder(x)"
   ]
  },
  {
   "cell_type": "code",
   "execution_count": 61,
   "metadata": {
    "colab": {
     "base_uri": "https://localhost:8080/",
     "height": 34
    },
    "colab_type": "code",
    "executionInfo": {
     "elapsed": 737,
     "status": "ok",
     "timestamp": 1539519864259,
     "user": {
      "displayName": "Надежда Аношина",
      "photoUrl": "",
      "userId": "07079479764260119372"
     },
     "user_tz": -180
    },
    "id": "CTujw4tTs8YU",
    "outputId": "d6474a53-d7e8-4b81-ffea-7871b95287d6"
   },
   "outputs": [
    {
     "data": {
      "text/plain": [
       "(torch.Size([4, 16, 256, 256]), torch.Size([4, 8, 512, 512]))"
      ]
     },
     "execution_count": 61,
     "metadata": {},
     "output_type": "execute_result"
    }
   ],
   "source": [
    "y[1].shape, y[0].shape"
   ]
  },
  {
   "cell_type": "code",
   "execution_count": 62,
   "metadata": {
    "colab": {
     "base_uri": "https://localhost:8080/",
     "height": 121
    },
    "colab_type": "code",
    "executionInfo": {
     "elapsed": 4280,
     "status": "ok",
     "timestamp": 1539519870873,
     "user": {
      "displayName": "Надежда Аношина",
      "photoUrl": "",
      "userId": "07079479764260119372"
     },
     "user_tz": -180
    },
    "id": "oOCTE7Jis8YY",
    "outputId": "cad3ecd1-3ac9-463e-f6b4-41375342f7ef"
   },
   "outputs": [
    {
     "name": "stderr",
     "output_type": "stream",
     "text": [
      "/home/nadya/anaconda/lib/python3.6/site-packages/torch/nn/modules/upsampling.py:122: UserWarning: nn.Upsampling is deprecated. Use nn.functional.interpolate instead.\n",
      "  warnings.warn(\"nn.Upsampling is deprecated. Use nn.functional.interpolate instead.\")\n",
      "/home/nadya/anaconda/lib/python3.6/site-packages/torch/nn/functional.py:1961: UserWarning: Default upsampling behavior when mode=bilinear is changed to align_corners=False since 0.4.0. Please specify align_corners=True if the old behavior is desired. See the documentation of nn.Upsample for details.\n",
      "  \"See the documentation of nn.Upsample for details.\".format(mode))\n"
     ]
    },
    {
     "data": {
      "text/plain": [
       "torch.Size([4, 8, 512, 512])"
      ]
     },
     "execution_count": 62,
     "metadata": {},
     "output_type": "execute_result"
    }
   ],
   "source": [
    "block(y[1], y[0]).shape"
   ]
  },
  {
   "cell_type": "markdown",
   "metadata": {
    "colab_type": "text",
    "id": "um81uQYHs8Yf"
   },
   "source": [
    "Декодировщик собираем из таких блоков:"
   ]
  },
  {
   "cell_type": "code",
   "execution_count": 63,
   "metadata": {
    "colab": {},
    "colab_type": "code",
    "collapsed": true,
    "id": "hNN73DUAs8Yg"
   },
   "outputs": [],
   "source": [
    "class Decoder(nn.Module):\n",
    "    def __init__(self, num_filters, num_blocks):\n",
    "        super().__init__()\n",
    "\n",
    "        for i in range(num_blocks):\n",
    "            self.add_module(f'block{num_blocks - i}', DecoderBlock(num_filters * 2**i))\n",
    "\n",
    "    def forward(self, acts):\n",
    "        up = acts[-1]\n",
    "        for i, left in enumerate(acts[-2::-1]):\n",
    "            up = self.__getattr__(f'block{i + 1}')(up, left)\n",
    "        return up"
   ]
  },
  {
   "cell_type": "code",
   "execution_count": 64,
   "metadata": {
    "colab": {},
    "colab_type": "code",
    "collapsed": true,
    "id": "S4t6f6Uws8Yi"
   },
   "outputs": [],
   "source": [
    "decoder = Decoder(8, 3)"
   ]
  },
  {
   "cell_type": "code",
   "execution_count": 65,
   "metadata": {
    "colab": {
     "base_uri": "https://localhost:8080/",
     "height": 34
    },
    "colab_type": "code",
    "executionInfo": {
     "elapsed": 802,
     "status": "ok",
     "timestamp": 1539519880875,
     "user": {
      "displayName": "Надежда Аношина",
      "photoUrl": "",
      "userId": "07079479764260119372"
     },
     "user_tz": -180
    },
    "id": "uwpyX7Rus8Yl",
    "outputId": "4075ee3a-43e3-43c7-e729-7592dbd96bbe"
   },
   "outputs": [
    {
     "data": {
      "text/plain": [
       "torch.Size([4, 3, 512, 512])"
      ]
     },
     "execution_count": 65,
     "metadata": {},
     "output_type": "execute_result"
    }
   ],
   "source": [
    "x.shape"
   ]
  },
  {
   "cell_type": "code",
   "execution_count": 66,
   "metadata": {
    "colab": {
     "base_uri": "https://localhost:8080/",
     "height": 84
    },
    "colab_type": "code",
    "executionInfo": {
     "elapsed": 2895,
     "status": "ok",
     "timestamp": 1539519884523,
     "user": {
      "displayName": "Надежда Аношина",
      "photoUrl": "",
      "userId": "07079479764260119372"
     },
     "user_tz": -180
    },
    "id": "TDIburkrs8Yo",
    "outputId": "4adce53d-e22f-4101-dfe9-7c891482656c"
   },
   "outputs": [
    {
     "data": {
      "text/plain": [
       "[torch.Size([4, 8, 512, 512]),\n",
       " torch.Size([4, 16, 256, 256]),\n",
       " torch.Size([4, 32, 128, 128]),\n",
       " torch.Size([4, 64, 64, 64])]"
      ]
     },
     "execution_count": 66,
     "metadata": {},
     "output_type": "execute_result"
    }
   ],
   "source": [
    "[_.shape for _ in encoder(x)]"
   ]
  },
  {
   "cell_type": "code",
   "execution_count": 67,
   "metadata": {
    "colab": {
     "base_uri": "https://localhost:8080/",
     "height": 121
    },
    "colab_type": "code",
    "executionInfo": {
     "elapsed": 9309,
     "status": "ok",
     "timestamp": 1539519894144,
     "user": {
      "displayName": "Надежда Аношина",
      "photoUrl": "",
      "userId": "07079479764260119372"
     },
     "user_tz": -180
    },
    "id": "WUI_mTLTs8Ys",
    "outputId": "45218dc7-b5e3-4061-a5f9-105e0ccedca8"
   },
   "outputs": [
    {
     "data": {
      "text/plain": [
       "torch.Size([4, 8, 512, 512])"
      ]
     },
     "execution_count": 67,
     "metadata": {},
     "output_type": "execute_result"
    }
   ],
   "source": [
    "decoder(encoder(x)).shape"
   ]
  },
  {
   "cell_type": "markdown",
   "metadata": {
    "colab_type": "text",
    "id": "pnBBzYgjs8Yw"
   },
   "source": [
    "U-Net состоит из такого кодировщика и декодировщика, а также финального слоя классификации:"
   ]
  },
  {
   "cell_type": "code",
   "execution_count": 68,
   "metadata": {
    "colab": {},
    "colab_type": "code",
    "collapsed": true,
    "id": "bhDaXf56s8Yx"
   },
   "outputs": [],
   "source": [
    "class UNet(nn.Module):\n",
    "    def __init__(self, num_classes, in_channels=3, num_filters=64, num_blocks=4):\n",
    "        super().__init__()\n",
    "\n",
    "        print(f'=> Building {num_blocks}-blocks {num_filters}-filter U-Net')\n",
    "\n",
    "        self.encoder = Encoder(in_channels, num_filters, num_blocks)\n",
    "        self.decoder = Decoder(num_filters, num_blocks - 1)\n",
    "        self.final = nn.Conv2d(num_filters, num_classes, 1)\n",
    "\n",
    "    def forward(self, x):\n",
    "        acts = self.encoder(x)\n",
    "        x = self.decoder(acts)\n",
    "        x = self.final(x)\n",
    "        return x"
   ]
  },
  {
   "cell_type": "markdown",
   "metadata": {
    "colab_type": "text",
    "id": "EDKvqUN_s8Yz"
   },
   "source": [
    "\"Интеграционное тестирование\" (pytorch 0.3):"
   ]
  },
  {
   "cell_type": "code",
   "execution_count": null,
   "metadata": {
    "colab": {
     "base_uri": "https://localhost:8080/",
     "height": 171
    },
    "colab_type": "code",
    "collapsed": true,
    "executionInfo": {
     "elapsed": 4063,
     "status": "ok",
     "timestamp": 1539519912102,
     "user": {
      "displayName": "Надежда Аношина",
      "photoUrl": "",
      "userId": "07079479764260119372"
     },
     "user_tz": -180
    },
    "id": "ELv_6iY9s8Y0",
    "outputId": "3fea15a9-7034-454c-8beb-92e35c6ce5ef"
   },
   "outputs": [],
   "source": [
    "from torch.autograd import Variable\n",
    "\n",
    "model = UNet(num_classes=1)\n",
    "if torch.cuda.is_available():\n",
    "    model.cuda()\n",
    "\n",
    "images = Variable(torch.randn(4, 3, 416, 416), volatile=True)\n",
    "if torch.cuda.is_available():\n",
    "    images = images.cuda()\n",
    "\n",
    "model.forward(images).shape"
   ]
  },
  {
   "cell_type": "markdown",
   "metadata": {
    "colab_type": "text",
    "id": "Qr79xTFps8Y5"
   },
   "source": [
    "То же для **pytorch 0.4+**:"
   ]
  },
  {
   "cell_type": "code",
   "execution_count": 71,
   "metadata": {
    "colab": {
     "base_uri": "https://localhost:8080/",
     "height": 121
    },
    "colab_type": "code",
    "executionInfo": {
     "elapsed": 1113,
     "status": "ok",
     "timestamp": 1539519922076,
     "user": {
      "displayName": "Надежда Аношина",
      "photoUrl": "",
      "userId": "07079479764260119372"
     },
     "user_tz": -180
    },
    "id": "Zwfm5Vies8Y9",
    "outputId": "29414e7b-fdeb-4199-b30a-2c5621e5b5d6"
   },
   "outputs": [
    {
     "name": "stderr",
     "output_type": "stream",
     "text": [
      "/usr/local/lib/python3.6/dist-packages/torch/nn/modules/upsampling.py:122: UserWarning: nn.Upsampling is deprecated. Use nn.functional.interpolate instead.\n",
      "  warnings.warn(\"nn.Upsampling is deprecated. Use nn.functional.interpolate instead.\")\n",
      "/usr/local/lib/python3.6/dist-packages/torch/nn/functional.py:1961: UserWarning: Default upsampling behavior when mode=bilinear is changed to align_corners=False since 0.4.0. Please specify align_corners=True if the old behavior is desired. See the documentation of nn.Upsample for details.\n",
      "  \"See the documentation of nn.Upsample for details.\".format(mode))\n"
     ]
    },
    {
     "data": {
      "text/plain": [
       "torch.Size([4, 1, 416, 416])"
      ]
     },
     "execution_count": 71,
     "metadata": {
      "tags": []
     },
     "output_type": "execute_result"
    }
   ],
   "source": [
    "device = torch.device('cuda' if torch.cuda.is_available() else 'cpu')\n",
    "\n",
    "model.to(device)\n",
    "\n",
    "images = torch.randn(4, 3, 416, 416).to(device)\n",
    "\n",
    "model.forward(images).shape"
   ]
  },
  {
   "cell_type": "markdown",
   "metadata": {
    "colab_type": "text",
    "id": "oI-OJWgTs8ZA"
   },
   "source": [
    "На выходе получаем бинарную маску из линейных активаций.\n",
    "\n",
    "Для обучения такой модели используются функции потерь с **WithLogits** в названии.\n",
    "\n",
    "В вероятности их можно превращать с помощью `torch.sigmoid` (**0.4.1+**) (`torch.nn.functional.sigmoid` ранее)"
   ]
  },
  {
   "cell_type": "markdown",
   "metadata": {
    "colab_type": "text",
    "id": "xKeEFggXs8ZB"
   },
   "source": [
    "## Использование готового кодировщика"
   ]
  },
  {
   "cell_type": "markdown",
   "metadata": {
    "colab_type": "text",
    "id": "9yzXIUj-s8ZB"
   },
   "source": [
    "Структура блоков кодировщика рассмотренной только что сети сильно походит на таковую в сетях VGG:\n",
    "\n",
    "![img](https://www.pyimagesearch.com/wp-content/uploads/2017/03/imagenet_vgg16.png)\n",
    "\n",
    "Посмотрим на неё же из недр `torchvision`:"
   ]
  },
  {
   "cell_type": "code",
   "execution_count": 0,
   "metadata": {
    "colab": {},
    "colab_type": "code",
    "collapsed": true,
    "id": "REC8U2wZs8ZC"
   },
   "outputs": [],
   "source": [
    "from torchvision.models import vgg13"
   ]
  },
  {
   "cell_type": "markdown",
   "metadata": {
    "colab_type": "text",
    "id": "UtMzbv51s8ZE"
   },
   "source": [
    "VGG13 - версия сети с 2 сверткаим на каждый блок:"
   ]
  },
  {
   "cell_type": "code",
   "execution_count": 0,
   "metadata": {
    "colab": {},
    "colab_type": "code",
    "collapsed": true,
    "id": "w2iPo5MVs8ZF"
   },
   "outputs": [],
   "source": [
    "model = vgg13()"
   ]
  },
  {
   "cell_type": "code",
   "execution_count": 74,
   "metadata": {
    "colab": {
     "base_uri": "https://localhost:8080/",
     "height": 655
    },
    "colab_type": "code",
    "executionInfo": {
     "elapsed": 1732,
     "status": "ok",
     "timestamp": 1539519949515,
     "user": {
      "displayName": "Надежда Аношина",
      "photoUrl": "",
      "userId": "07079479764260119372"
     },
     "user_tz": -180
    },
    "id": "XAobPQtJs8ZH",
    "outputId": "ee46ec83-d461-49e5-cfbe-0de82b6e7918"
   },
   "outputs": [
    {
     "data": {
      "text/plain": [
       "VGG(\n",
       "  (features): Sequential(\n",
       "    (0): Conv2d(3, 64, kernel_size=(3, 3), stride=(1, 1), padding=(1, 1))\n",
       "    (1): ReLU(inplace)\n",
       "    (2): Conv2d(64, 64, kernel_size=(3, 3), stride=(1, 1), padding=(1, 1))\n",
       "    (3): ReLU(inplace)\n",
       "    (4): MaxPool2d(kernel_size=2, stride=2, padding=0, dilation=1, ceil_mode=False)\n",
       "    (5): Conv2d(64, 128, kernel_size=(3, 3), stride=(1, 1), padding=(1, 1))\n",
       "    (6): ReLU(inplace)\n",
       "    (7): Conv2d(128, 128, kernel_size=(3, 3), stride=(1, 1), padding=(1, 1))\n",
       "    (8): ReLU(inplace)\n",
       "    (9): MaxPool2d(kernel_size=2, stride=2, padding=0, dilation=1, ceil_mode=False)\n",
       "    (10): Conv2d(128, 256, kernel_size=(3, 3), stride=(1, 1), padding=(1, 1))\n",
       "    (11): ReLU(inplace)\n",
       "    (12): Conv2d(256, 256, kernel_size=(3, 3), stride=(1, 1), padding=(1, 1))\n",
       "    (13): ReLU(inplace)\n",
       "    (14): MaxPool2d(kernel_size=2, stride=2, padding=0, dilation=1, ceil_mode=False)\n",
       "    (15): Conv2d(256, 512, kernel_size=(3, 3), stride=(1, 1), padding=(1, 1))\n",
       "    (16): ReLU(inplace)\n",
       "    (17): Conv2d(512, 512, kernel_size=(3, 3), stride=(1, 1), padding=(1, 1))\n",
       "    (18): ReLU(inplace)\n",
       "    (19): MaxPool2d(kernel_size=2, stride=2, padding=0, dilation=1, ceil_mode=False)\n",
       "    (20): Conv2d(512, 512, kernel_size=(3, 3), stride=(1, 1), padding=(1, 1))\n",
       "    (21): ReLU(inplace)\n",
       "    (22): Conv2d(512, 512, kernel_size=(3, 3), stride=(1, 1), padding=(1, 1))\n",
       "    (23): ReLU(inplace)\n",
       "    (24): MaxPool2d(kernel_size=2, stride=2, padding=0, dilation=1, ceil_mode=False)\n",
       "  )\n",
       "  (classifier): Sequential(\n",
       "    (0): Linear(in_features=25088, out_features=4096, bias=True)\n",
       "    (1): ReLU(inplace)\n",
       "    (2): Dropout(p=0.5)\n",
       "    (3): Linear(in_features=4096, out_features=4096, bias=True)\n",
       "    (4): ReLU(inplace)\n",
       "    (5): Dropout(p=0.5)\n",
       "    (6): Linear(in_features=4096, out_features=1000, bias=True)\n",
       "  )\n",
       ")"
      ]
     },
     "execution_count": 74,
     "metadata": {
      "tags": []
     },
     "output_type": "execute_result"
    }
   ],
   "source": [
    "model"
   ]
  },
  {
   "cell_type": "markdown",
   "metadata": {
    "colab_type": "text",
    "id": "u_IQKFVIs8ZN"
   },
   "source": [
    "Классификатор нам не нужен, интересуют только признаки.\n",
    "\n",
    "Они в свою очередь делятся на блоки conv-relu-conv-relu + maxpooling.\n",
    "\n",
    "Реализуем кодировщик на основе вычленения нужных блоков:"
   ]
  },
  {
   "cell_type": "code",
   "execution_count": 0,
   "metadata": {
    "colab": {},
    "colab_type": "code",
    "collapsed": true,
    "id": "4-v4wG1ls8ZO"
   },
   "outputs": [],
   "source": [
    "class VGG13Encoder(nn.Module):\n",
    "    def __init__(self, num_blocks, pretrained=True):\n",
    "        super().__init__()\n",
    "\n",
    "        backbone = vgg13(pretrained=pretrained).features\n",
    "\n",
    "        self.num_blocks = num_blocks\n",
    "        for i in range(self.num_blocks):\n",
    "            block = nn.Sequential(*[backbone[j] for j in range(i * 5, i * 5 + 4)])\n",
    "            self.add_module(f'block{i + 1}', block)\n",
    "            if i != num_blocks - 1:\n",
    "                self.add_module(f'pool{i + 1}', nn.MaxPool2d(2, 2))\n",
    "\n",
    "    def forward(self, x):\n",
    "        acts = []\n",
    "        for i in range(self.num_blocks):\n",
    "            x = self.__getattr__(f'block{i + 1}')(x)\n",
    "            acts.append(x)\n",
    "            if i != self.num_blocks - 1:\n",
    "                x = self.__getattr__(f'pool{i + 1}')(x)\n",
    "        return acts"
   ]
  },
  {
   "cell_type": "code",
   "execution_count": 76,
   "metadata": {
    "colab": {
     "base_uri": "https://localhost:8080/",
     "height": 538
    },
    "colab_type": "code",
    "executionInfo": {
     "elapsed": 43868,
     "status": "ok",
     "timestamp": 1539519999709,
     "user": {
      "displayName": "Надежда Аношина",
      "photoUrl": "",
      "userId": "07079479764260119372"
     },
     "user_tz": -180
    },
    "id": "eRuKc4khs8ZQ",
    "outputId": "cf94bc13-2f94-422e-bdfd-2681a42297ea"
   },
   "outputs": [
    {
     "name": "stderr",
     "output_type": "stream",
     "text": [
      "Downloading: \"https://download.pytorch.org/models/vgg13-c768596a.pth\" to /root/.torch/models/vgg13-c768596a.pth\n",
      "100%|██████████| 532194478/532194478 [00:38<00:00, 13763174.86it/s]\n"
     ]
    },
    {
     "data": {
      "text/plain": [
       "VGG13Encoder(\n",
       "  (block1): Sequential(\n",
       "    (0): Conv2d(3, 64, kernel_size=(3, 3), stride=(1, 1), padding=(1, 1))\n",
       "    (1): ReLU(inplace)\n",
       "    (2): Conv2d(64, 64, kernel_size=(3, 3), stride=(1, 1), padding=(1, 1))\n",
       "    (3): ReLU(inplace)\n",
       "  )\n",
       "  (pool1): MaxPool2d(kernel_size=2, stride=2, padding=0, dilation=1, ceil_mode=False)\n",
       "  (block2): Sequential(\n",
       "    (0): Conv2d(64, 128, kernel_size=(3, 3), stride=(1, 1), padding=(1, 1))\n",
       "    (1): ReLU(inplace)\n",
       "    (2): Conv2d(128, 128, kernel_size=(3, 3), stride=(1, 1), padding=(1, 1))\n",
       "    (3): ReLU(inplace)\n",
       "  )\n",
       "  (pool2): MaxPool2d(kernel_size=2, stride=2, padding=0, dilation=1, ceil_mode=False)\n",
       "  (block3): Sequential(\n",
       "    (0): Conv2d(128, 256, kernel_size=(3, 3), stride=(1, 1), padding=(1, 1))\n",
       "    (1): ReLU(inplace)\n",
       "    (2): Conv2d(256, 256, kernel_size=(3, 3), stride=(1, 1), padding=(1, 1))\n",
       "    (3): ReLU(inplace)\n",
       "  )\n",
       "  (pool3): MaxPool2d(kernel_size=2, stride=2, padding=0, dilation=1, ceil_mode=False)\n",
       "  (block4): Sequential(\n",
       "    (0): Conv2d(256, 512, kernel_size=(3, 3), stride=(1, 1), padding=(1, 1))\n",
       "    (1): ReLU(inplace)\n",
       "    (2): Conv2d(512, 512, kernel_size=(3, 3), stride=(1, 1), padding=(1, 1))\n",
       "    (3): ReLU(inplace)\n",
       "  )\n",
       ")"
      ]
     },
     "execution_count": 76,
     "metadata": {
      "tags": []
     },
     "output_type": "execute_result"
    }
   ],
   "source": [
    "vgg_encoder = VGG13Encoder(num_blocks=4)\n",
    "vgg_encoder"
   ]
  },
  {
   "cell_type": "markdown",
   "metadata": {
    "colab_type": "text",
    "id": "cXUUSaPJs8ZT"
   },
   "source": [
    "Сравним с \"ванильным\" кодировщиком:"
   ]
  },
  {
   "cell_type": "code",
   "execution_count": 77,
   "metadata": {
    "colab": {
     "base_uri": "https://localhost:8080/",
     "height": 504
    },
    "colab_type": "code",
    "executionInfo": {
     "elapsed": 804,
     "status": "ok",
     "timestamp": 1539520113159,
     "user": {
      "displayName": "Надежда Аношина",
      "photoUrl": "",
      "userId": "07079479764260119372"
     },
     "user_tz": -180
    },
    "id": "DU6Yami-s8ZU",
    "outputId": "7a74286f-defe-40dd-9cbf-076fb640e96c"
   },
   "outputs": [
    {
     "data": {
      "text/plain": [
       "Encoder(\n",
       "  (block1): Sequential(\n",
       "    (conv1): Conv2d(3, 64, kernel_size=(3, 3), stride=(1, 1), padding=(1, 1))\n",
       "    (relu1): ReLU()\n",
       "    (conv2): Conv2d(64, 64, kernel_size=(3, 3), stride=(1, 1), padding=(1, 1))\n",
       "    (relu2): ReLU()\n",
       "  )\n",
       "  (pool1): MaxPool2d(kernel_size=2, stride=2, padding=0, dilation=1, ceil_mode=False)\n",
       "  (block2): Sequential(\n",
       "    (conv1): Conv2d(64, 128, kernel_size=(3, 3), stride=(1, 1), padding=(1, 1))\n",
       "    (relu1): ReLU()\n",
       "    (conv2): Conv2d(128, 128, kernel_size=(3, 3), stride=(1, 1), padding=(1, 1))\n",
       "    (relu2): ReLU()\n",
       "  )\n",
       "  (pool2): MaxPool2d(kernel_size=2, stride=2, padding=0, dilation=1, ceil_mode=False)\n",
       "  (block3): Sequential(\n",
       "    (conv1): Conv2d(128, 256, kernel_size=(3, 3), stride=(1, 1), padding=(1, 1))\n",
       "    (relu1): ReLU()\n",
       "    (conv2): Conv2d(256, 256, kernel_size=(3, 3), stride=(1, 1), padding=(1, 1))\n",
       "    (relu2): ReLU()\n",
       "  )\n",
       "  (pool3): MaxPool2d(kernel_size=2, stride=2, padding=0, dilation=1, ceil_mode=False)\n",
       "  (block4): Sequential(\n",
       "    (conv1): Conv2d(256, 512, kernel_size=(3, 3), stride=(1, 1), padding=(1, 1))\n",
       "    (relu1): ReLU()\n",
       "    (conv2): Conv2d(512, 512, kernel_size=(3, 3), stride=(1, 1), padding=(1, 1))\n",
       "    (relu2): ReLU()\n",
       "  )\n",
       ")"
      ]
     },
     "execution_count": 77,
     "metadata": {
      "tags": []
     },
     "output_type": "execute_result"
    }
   ],
   "source": [
    "encoder = Encoder(in_channels=3, num_filters=64, num_blocks=4)\n",
    "encoder"
   ]
  },
  {
   "cell_type": "markdown",
   "metadata": {
    "colab_type": "text",
    "id": "1HkfFfpts8ZX"
   },
   "source": [
    "Получили идентичную структуру!\n",
    "\n",
    "Только теперь у нас уже есть предобученные слои для выделения признаков в кодировщике."
   ]
  },
  {
   "cell_type": "markdown",
   "metadata": {
    "colab_type": "text",
    "id": "cn151VdLs8ZY"
   },
   "source": [
    "## <font color='#cc6666'>Внимание, задача!</font>\n",
    "\n",
    "\n",
    "**Реализуйте датасет** для игрушечной задачи сегментации, генерирующий такие данные:\n",
    "\n",
    "![img](https://raw.githubusercontent.com/jakeret/tf_unet/master/docs/toy_problem.png)"
   ]
  },
  {
   "cell_type": "markdown",
   "metadata": {
    "colab_type": "text",
    "id": "juQ5YmjPs8ZY"
   },
   "source": [
    "Т.е. необходимо генерировать цветные эллипсы на цветном фоне и к итоговой картинке добавлять шум разной природы.\n",
    "\n",
    "При этом датасет выдает как изображение, так и его бинарную маску."
   ]
  },
  {
   "cell_type": "code",
   "execution_count": 1,
   "metadata": {
    "colab": {},
    "colab_type": "code",
    "collapsed": true,
    "id": "1jL3Iw_2s8ZZ"
   },
   "outputs": [],
   "source": [
    "from PIL import Image, ImageDraw\n",
    "from torch.utils.data import Dataset\n",
    "from torchvision import transforms\n",
    "\n",
    "class Ellipses(Dataset):\n",
    "    \n",
    "    def __init__(self, Nx=512, Ny=512, count=None, rmin=4, rmax=50, border=100, sigma=20, length=10):\n",
    "        self.Nx = Nx\n",
    "        self.Ny = Ny\n",
    "        self.count = count\n",
    "        self.rmin = rmin\n",
    "        self.rmax = rmax\n",
    "        self.border = border\n",
    "        self.sigma = sigma\n",
    "        self.color_back = np.random.randint(0, 50, 3) \n",
    "        self.length = length\n",
    "        \n",
    "    def __getitem__(self, index):\n",
    "\n",
    "        image = Image.new(\"RGB\", (self.Nx, self.Ny), tuple(self.color_back))\n",
    "        draw = ImageDraw.Draw(image)\n",
    "        if self.count == None:\n",
    "            self.count = np.random.randint(5, 20)\n",
    "        for i in range(self.count):\n",
    "            x = np.random.randint(self.border, self.Nx - self.border)\n",
    "            y = np.random.randint(self.border, self.Ny - self.border)\n",
    "            rad = np.random.randint(self.rmin, self.rmax)\n",
    "            color = np.random.randint(50, 255, 3)\n",
    "            draw.ellipse((x, y, x + 2*rad, y + 2*rad), fill=tuple(color), outline=tuple(color))\n",
    "\n",
    "        image = np.array(image).astype('float')\n",
    "\n",
    "        gt = np.array(image == self.color_back)\n",
    "        gt = np.logical_and(gt[:,:,0], gt[:,:,1], gt[:,:,2])\n",
    "\n",
    "        gt = gt.astype('float')\n",
    "\n",
    "        image += np.random.normal(scale=self.sigma, size=image.shape)\n",
    "        image -= np.amin(image)\n",
    "        image /= np.amax(image)\n",
    "\n",
    "        totensor = transforms.ToTensor()\n",
    "        image = totensor(image)\n",
    "\n",
    "        return image, gt\n",
    "\n",
    "    def __len__(self):\n",
    "        return self.length"
   ]
  },
  {
   "cell_type": "code",
   "execution_count": 2,
   "metadata": {
    "colab": {
     "base_uri": "https://localhost:8080/",
     "height": 269
    },
    "colab_type": "code",
    "executionInfo": {
     "elapsed": 2090,
     "status": "ok",
     "timestamp": 1539631092326,
     "user": {
      "displayName": "Надежда Аношина",
      "photoUrl": "",
      "userId": "07079479764260119372"
     },
     "user_tz": -180
    },
    "id": "3dVGMmuzAZX6",
    "outputId": "b32c29bb-b55a-4f05-ece3-e493bd698b7f"
   },
   "outputs": [
    {
     "data": {
      "image/png": "[encoded data removed]",
      "text/plain": [
       "<Figure size 432x288 with 2 Axes>"
      ]
     },
     "metadata": {
      "needs_background": "light"
     },
     "output_type": "display_data"
    }
   ],
   "source": [
    "import numpy as np\n",
    "from matplotlib import pyplot as plt\n",
    "%matplotlib inline\n",
    "\n",
    "dataset = Ellipses()\n",
    "image, gt = dataset[0]\n",
    "\n",
    "plt.subplot(1,2,1)\n",
    "plt.imshow(image[0].numpy())\n",
    "plt.subplot(1,2,2)\n",
    "plt.imshow(gt, cmap='gray')\n",
    "plt.show()"
   ]
  },
  {
   "cell_type": "markdown",
   "metadata": {
    "colab_type": "text",
    "id": "i3hT24oks8Za"
   },
   "source": [
    "Определим вспомогательную функцию:"
   ]
  },
  {
   "cell_type": "code",
   "execution_count": 3,
   "metadata": {
    "colab": {},
    "colab_type": "code",
    "collapsed": true,
    "id": "xnKkj9m1s8Zb"
   },
   "outputs": [],
   "source": [
    "import hashlib\n",
    "\n",
    "def moy_variant(surname):\n",
    "    return int(hashlib.md5(surname.encode().lower()).hexdigest()[-1], 16) % 2"
   ]
  },
  {
   "cell_type": "code",
   "execution_count": 5,
   "metadata": {
    "colab": {
     "base_uri": "https://localhost:8080/",
     "height": 34
    },
    "colab_type": "code",
    "executionInfo": {
     "elapsed": 495,
     "status": "ok",
     "timestamp": 1539612028185,
     "user": {
      "displayName": "Надежда Аношина",
      "photoUrl": "",
      "userId": "07079479764260119372"
     },
     "user_tz": -180
    },
    "id": "1zVPYcY7RXyz",
    "outputId": "1c1f2473-6706-4b8c-86f6-7e1d48419282"
   },
   "outputs": [
    {
     "data": {
      "text/plain": [
       "1"
      ]
     },
     "execution_count": 5,
     "metadata": {},
     "output_type": "execute_result"
    }
   ],
   "source": [
    "moy_variant('Аношина')"
   ]
  },
  {
   "cell_type": "markdown",
   "metadata": {
    "colab_type": "text",
    "id": "RWKL3ku2s8Zd"
   },
   "source": [
    "Для решения этой задачи **реализуйте сеть EDANet** (https://arxiv.org/abs/1809.06323, если `moy_variant` от вашей фамилии на русском языке в именительном падеже выдает 1) **или BiSeNet** (https://arxiv.org/abs/1808.00897, иначе) на основе кодировщика двух предобученных сетей `torchvision` из семейств **ResNet и DenseNet**. В качестве лосса рекомендуется использовать `BCEWithLogitsLoss`."
   ]
  },
  {
   "cell_type": "code",
   "execution_count": 3,
   "metadata": {
    "colab": {},
    "colab_type": "code",
    "collapsed": true,
    "id": "xteLL32_s8Zf"
   },
   "outputs": [],
   "source": [
    "from torchvision.models import *\n",
    "import torchvision\n",
    "import torch\n",
    "from torch import nn\n",
    "import torch.nn.functional as F\n",
    "\n",
    "\n",
    "class EDAResNet(nn.Module):\n",
    "    def __init__(self, num_classes):\n",
    "        super().__init__()\n",
    "\n",
    "        model = resnet34(pretrained=True)\n",
    "        self.backbone = nn.Sequential(model.conv1, model.bn1, model.relu,\n",
    "                                      model.maxpool, model.layer1, model.layer2)\n",
    "          \n",
    "        self.project_layer = nn.Conv2d(128, num_classes, kernel_size=1)\n",
    "\n",
    "\n",
    "    def forward(self, x):\n",
    "        x = self.backbone(x)\n",
    "        x = self.project_layer(x)\n",
    "        \n",
    "        x = F.interpolate(x, scale_factor=8, mode='bilinear', align_corners=False)\n",
    "\n",
    "        return x\n",
    "\n",
    "class EDADenseNet(nn.Module):\n",
    "    def __init__(self, num_classes):\n",
    "        super().__init__()\n",
    "        \n",
    "        model = densenet121(pretrained=True).features\n",
    "        self.backbone = nn.Sequential(model.conv0, model.norm0, model.relu0,\n",
    "                                     model.pool0, model.denseblock1, model.transition1,\n",
    "                                     model.denseblock2)\n",
    "        self.project_layer = nn.Conv2d(512, num_classes, kernel_size=1)\n",
    "\n",
    "    def forward(self, x):\n",
    "        x = self.backbone(x)\n",
    "        x = self.project_layer(x)\n",
    "        x = F.interpolate(x, scale_factor=8, mode='bilinear', align_corners=False)\n",
    "        return x\n"
   ]
  },
  {
   "cell_type": "code",
   "execution_count": 4,
   "metadata": {
    "colab": {},
    "colab_type": "code",
    "collapsed": true,
    "id": "FVGhnJkT2E2X"
   },
   "outputs": [],
   "source": [
    "def dice_loss(input, target):\n",
    "    \n",
    "    intersection = (input * target).sum()\n",
    "    \n",
    "    return (2. * intersection) / (input.sum() + target.sum())"
   ]
  },
  {
   "cell_type": "code",
   "execution_count": 5,
   "metadata": {
    "collapsed": true
   },
   "outputs": [],
   "source": [
    "def train(model, opt, train_loader, test_loader, criterion, scheduler, n_epochs, \\\n",
    "          device, verbose=True):\n",
    "    it = 0\n",
    "    \n",
    "    for epoch in range(n_epochs):\n",
    "        model.eval()\n",
    "        scheduler.step()\n",
    "        for i, (images, labels) in enumerate(train_loader):\n",
    "            images = images.float()\n",
    "            labels = labels.float()\n",
    "            images = images.to(device)\n",
    "            labels = labels.to(device)\n",
    "\n",
    "            # Forward pass\n",
    "            outputs = model(images)\n",
    "            loss = criterion(outputs.squeeze(1), labels)\n",
    "\n",
    "            # Backward and optimize\n",
    "            optimizer.zero_grad()\n",
    "            loss.backward()\n",
    "            optimizer.step()\n",
    "            \n",
    "        with torch.no_grad():\n",
    "            total = 0\n",
    "            train_loss = 0\n",
    "            for images, labels in train_loader:\n",
    "                images = images.float()\n",
    "                labels = labels.float()\n",
    "                images = images.to(device)\n",
    "                labels = labels.to(device)\n",
    "                outputs = model(images)\n",
    "                total += labels.size(0)\n",
    "                train_loss += criterion(outputs.squeeze(1), labels)\n",
    "            train_loss = train_loss / total\n",
    "            writer.add_scalar('train_loss', train_loss, epoch)\n",
    "\n",
    "            total = 0\n",
    "            val_loss = 0\n",
    "            diceloss = 0\n",
    "            for images, labels in val_loader:\n",
    "                images = images.float()\n",
    "                labels = labels.float()\n",
    "                images = images.to(device)\n",
    "                labels = labels.to(device)\n",
    "                outputs = model(images)\n",
    "                total += labels.size(0)\n",
    "                val_loss += criterion(outputs.squeeze(1), labels)\n",
    "\n",
    "                outputs = (F.sigmoid(outputs) > 0.5).float()\n",
    "                diceloss += dice_loss(outputs, labels)\n",
    "                writer.add_image('images', outputs[0,0].cpu().detach().numpy(), it)\n",
    "                it += 1\n",
    "\n",
    "            val_loss = val_loss / total\n",
    "            diceloss = diceloss / total\n",
    "            writer.add_scalar('val_loss', val_loss, epoch)\n",
    "            writer.add_scalar('val_dice_loss', diceloss, epoch)\n",
    "    \n",
    "        if verbose:\n",
    "                 print (('Epoch [%d/%d], Loss (train/test): %.4f/%.4f')\n",
    "                       %(epoch+1, n_epochs, \\\n",
    "                         train_loss, val_loss))"
   ]
  },
  {
   "cell_type": "code",
   "execution_count": 12,
   "metadata": {
    "colab": {},
    "colab_type": "code",
    "collapsed": true,
    "id": "fz27tUsRll4x"
   },
   "outputs": [],
   "source": [
    "from torch.utils.data import DataLoader\n",
    "train_dataset = Ellipses(Nx=512, Ny=512, length=1000)\n",
    "val_dataset =  Ellipses(Nx=512, Ny=512, length=300)\n",
    "train_loader = DataLoader(train_dataset, batch_size=5, shuffle=False, num_workers=2)  # замечение про shuffle\n",
    "val_loader = DataLoader(val_dataset, batch_size=5, shuffle=False, num_workers=2)  # замечение про shuffle\n"
   ]
  },
  {
   "cell_type": "code",
   "execution_count": null,
   "metadata": {},
   "outputs": [
    {
     "name": "stdout",
     "output_type": "stream",
     "text": [
      "Epoch [1/20], Loss (train/test): 0.0014/0.0016\n",
      "Epoch [2/20], Loss (train/test): 0.0008/0.0008\n",
      "Epoch [3/20], Loss (train/test): 0.0010/0.0010\n",
      "Epoch [4/20], Loss (train/test): 0.0008/0.0008\n",
      "Epoch [5/20], Loss (train/test): 0.0007/0.0007\n",
      "Epoch [6/20], Loss (train/test): 0.0007/0.0007\n",
      "Epoch [7/20], Loss (train/test): 0.0006/0.0007\n",
      "Epoch [8/20], Loss (train/test): 0.0006/0.0007\n",
      "Epoch [9/20], Loss (train/test): 0.0006/0.0007\n",
      "Epoch [10/20], Loss (train/test): 0.0006/0.0007\n",
      "Epoch [11/20], Loss (train/test): 0.0006/0.0007\n",
      "Epoch [12/20], Loss (train/test): 0.0006/0.0007\n",
      "Epoch [13/20], Loss (train/test): 0.0006/0.0007\n",
      "Epoch [14/20], Loss (train/test): 0.0006/0.0007\n",
      "Epoch [15/20], Loss (train/test): 0.0006/0.0007\n",
      "Epoch [16/20], Loss (train/test): 0.0006/0.0007\n",
      "Epoch [17/20], Loss (train/test): 0.0006/0.0007\n"
     ]
    }
   ],
   "source": [
    "from tensorboardX import SummaryWriter\n",
    "from torch.optim import lr_scheduler\n",
    "device = torch.device('cuda' if torch.cuda.is_available() else 'cpu')\n",
    "# print(device)\n",
    "\n",
    "cnn = EDADenseNet(1)\n",
    "log_dir = 'logs/edanet/seg_log_densenet4'\n",
    "writer = SummaryWriter(log_dir)\n",
    "learning_rate = 0.001\n",
    "num_epochs = 20\n",
    "cnn = cnn.to(device)\n",
    "\n",
    "criterion = nn.BCEWithLogitsLoss()\n",
    "optimizer = torch.optim.Adam(cnn.parameters(), lr=learning_rate)\n",
    "scheduler = lr_scheduler.StepLR(optimizer, step_size=3, gamma=0.1)\n",
    "\n",
    "train(cnn, optimizer, train_loader, \\\n",
    "      val_loader, criterion, scheduler, num_epochs,\\\n",
    "      device, verbose=True)"
   ]
  },
  {
   "cell_type": "code",
   "execution_count": 12,
   "metadata": {
    "colab": {},
    "colab_type": "code",
    "collapsed": true,
    "id": "fz27tUsRll4x"
   },
   "outputs": [],
   "source": [
    "from torch.utils.data import DataLoader\n",
    "train_dataset = Ellipses(Nx=512, Ny=512, length=1000)\n",
    "val_dataset =  Ellipses(Nx=512, Ny=512, length=300)\n",
    "train_loader = DataLoader(train_dataset, batch_size=10, shuffle=False, num_workers=2)  # замечение про shuffle\n",
    "val_loader = DataLoader(val_dataset, batch_size=10, shuffle=False, num_workers=2)  # замечение про shuffle\n",
    "\n"
   ]
  },
  {
   "cell_type": "code",
   "execution_count": 13,
   "metadata": {
    "colab": {
     "base_uri": "https://localhost:8080/",
     "height": 221
    },
    "colab_type": "code",
    "executionInfo": {
     "elapsed": 411597,
     "status": "ok",
     "timestamp": 1539631537053,
     "user": {
      "displayName": "Надежда Аношина",
      "photoUrl": "",
      "userId": "07079479764260119372"
     },
     "user_tz": -180
    },
    "id": "Ljt3wjSqNSuv",
    "outputId": "bbfab0b4-ac99-4531-b765-b19ea60344aa"
   },
   "outputs": [
    {
     "name": "stderr",
     "output_type": "stream",
     "text": [
      "/home/nadya/anaconda/lib/python3.6/site-packages/torch/nn/functional.py:1006: UserWarning: nn.functional.sigmoid is deprecated. Use torch.sigmoid instead.\n",
      "  warnings.warn(\"nn.functional.sigmoid is deprecated. Use torch.sigmoid instead.\")\n"
     ]
    },
    {
     "name": "stdout",
     "output_type": "stream",
     "text": [
      "Epoch [1/20], Loss (train/test): 0.0109/0.0144\n",
      "Epoch [2/20], Loss (train/test): 0.0022/0.0044\n",
      "Epoch [3/20], Loss (train/test): 0.0015/0.0023\n",
      "Epoch [4/20], Loss (train/test): 0.0010/0.0020\n",
      "Epoch [5/20], Loss (train/test): 0.0008/0.0029\n",
      "Epoch [6/20], Loss (train/test): 0.0008/0.0013\n",
      "Epoch [7/20], Loss (train/test): 0.0007/0.0015\n",
      "Epoch [8/20], Loss (train/test): 0.0007/0.0017\n",
      "Epoch [9/20], Loss (train/test): 0.0007/0.0018\n",
      "Epoch [10/20], Loss (train/test): 0.0007/0.0020\n",
      "Epoch [11/20], Loss (train/test): 0.0007/0.0020\n",
      "Epoch [12/20], Loss (train/test): 0.0007/0.0020\n",
      "Epoch [13/20], Loss (train/test): 0.0007/0.0020\n",
      "Epoch [14/20], Loss (train/test): 0.0007/0.0019\n",
      "Epoch [15/20], Loss (train/test): 0.0007/0.0019\n",
      "Epoch [16/20], Loss (train/test): 0.0007/0.0019\n",
      "Epoch [17/20], Loss (train/test): 0.0007/0.0020\n",
      "Epoch [18/20], Loss (train/test): 0.0007/0.0020\n",
      "Epoch [19/20], Loss (train/test): 0.0007/0.0020\n",
      "Epoch [20/20], Loss (train/test): 0.0007/0.0021\n"
     ]
    }
   ],
   "source": [
    "from tensorboardX import SummaryWriter\n",
    "from torch.optim import lr_scheduler\n",
    "\n",
    "device = torch.device('cuda' if torch.cuda.is_available() else 'cpu')\n",
    "# print(device)\n",
    "\n",
    "cnn = EDAResNet(1)\n",
    "log_dir = 'logs/edanet/seg_log_resnet'\n",
    "writer = SummaryWriter(log_dir)\n",
    "learning_rate = 0.003\n",
    "num_epochs = 20\n",
    "cnn = cnn.to(device)\n",
    "\n",
    "criterion = nn.BCEWithLogitsLoss()\n",
    "optimizer = torch.optim.Adam(cnn.parameters(), lr=learning_rate)\n",
    "scheduler = lr_scheduler.StepLR(optimizer, step_size=5, gamma=0.1)\n",
    "\n",
    "train(cnn, optimizer, train_loader, \\\n",
    "      val_loader, criterion, scheduler, num_epochs,\\\n",
    "      device, verbose=True)"
   ]
  },
  {
   "cell_type": "markdown",
   "metadata": {
    "colab_type": "text",
    "id": "NzBnrhBBs8Zh"
   },
   "source": [
    "**Проиллюстрируйте процесс обучения** сети скриншотами из `tensorboard` (см. `lanpa/tensorboardX`).\n",
    "\n",
    "Необходимо в частности отобразить кривую обучения и примеры эволюции качества выдаваемых масок."
   ]
  },
  {
   "cell_type": "markdown",
   "metadata": {},
   "source": [
    "За декодировщик был взят Projection_layer сети EDANet.\n",
    "По результатам работы нейросети EDANET на основе кодировщиков ResNet и DenseNet можно сделать вывод, что Resnet работает быстрее (в результате использования ResNet34 и DenseNet121)\n",
    "Для обучения был использован lr_scheduler и Adam. Для устранения нестабильности в результате Batchnorm2d слоев модель обучалась при model.eval()."
   ]
  },
  {
   "cell_type": "code",
   "execution_count": 11,
   "metadata": {},
   "outputs": [],
   "source": [
    "from PIL import Image\n",
    "from matplotlib import pyplot as plt\n",
    "from scipy import misc\n",
    "%matplotlib inline"
   ]
  },
  {
   "cell_type": "markdown",
   "metadata": {},
   "source": [
    "## EDANet c DenseNet\n"
   ]
  },
  {
   "cell_type": "code",
   "execution_count": 4,
   "metadata": {},
   "outputs": [
    {
     "data": {
      "image/png": "[encoded data removed]",
      "text/plain": [
       "<PIL.PngImagePlugin.PngImageFile image mode=RGBA size=470x352 at 0x10FE348D0>"
      ]
     },
     "execution_count": 4,
     "metadata": {},
     "output_type": "execute_result"
    }
   ],
   "source": [
    "Image.open('imgs/dense_train_loss.png')"
   ]
  },
  {
   "cell_type": "code",
   "execution_count": 5,
   "metadata": {},
   "outputs": [
    {
     "data": {
      "image/png": "[encoded data removed]",
      "text/plain": [
       "<PIL.PngImagePlugin.PngImageFile image mode=RGBA size=456x314 at 0x10CBECBE0>"
      ]
     },
     "execution_count": 5,
     "metadata": {},
     "output_type": "execute_result"
    }
   ],
   "source": [
    "Image.open('imgs/dense_dice_loss.png')"
   ]
  },
  {
   "cell_type": "code",
   "execution_count": 3,
   "metadata": {},
   "outputs": [
    {
     "data": {
      "image/png": "[encoded data removed]",
      "text/plain": [
       "<PIL.PngImagePlugin.PngImageFile image mode=RGBA size=406x302 at 0x10FDFEFD0>"
      ]
     },
     "execution_count": 3,
     "metadata": {},
     "output_type": "execute_result"
    }
   ],
   "source": [
    "Image.open('imgs/dense_val_loss.png')"
   ]
  },
  {
   "cell_type": "code",
   "execution_count": 16,
   "metadata": {},
   "outputs": [
    {
     "data": {
      "image/png": "[encoded data removed]",
      "text/plain": [
       "<matplotlib.figure.Figure at 0x1154f64e0>"
      ]
     },
     "metadata": {},
     "output_type": "display_data"
    }
   ],
   "source": [
    "fig = plt.figure(figsize=(5, 25))\n",
    "plt.subplot(5,1,1)\n",
    "plt.imshow(misc.imread('imgs/dense_im1.png'))\n",
    "plt.subplot(5,1,2)\n",
    "plt.imshow(misc.imread('imgs/dense_im2.png'))\n",
    "plt.subplot(5,1,3)\n",
    "plt.imshow(misc.imread('imgs/dense_im3.png'))\n",
    "plt.subplot(5,1,4)\n",
    "plt.imshow(misc.imread('imgs/dense_im4.png'))\n",
    "plt.subplot(5,1,5)\n",
    "plt.imshow(misc.imread('imgs/dense_im5.png'))\n",
    "plt.show()"
   ]
  },
  {
   "cell_type": "markdown",
   "metadata": {},
   "source": [
    "## EDANet c ResNet\n"
   ]
  },
  {
   "cell_type": "code",
   "execution_count": 8,
   "metadata": {},
   "outputs": [
    {
     "data": {
      "image/png": "[encoded data removed]",
      "text/plain": [
       "<PIL.PngImagePlugin.PngImageFile image mode=RGBA size=440x344 at 0x118829860>"
      ]
     },
     "execution_count": 8,
     "metadata": {},
     "output_type": "execute_result"
    }
   ],
   "source": [
    "Image.open('imgs/resnet_train_loss.png')"
   ]
  },
  {
   "cell_type": "code",
   "execution_count": 9,
   "metadata": {},
   "outputs": [
    {
     "data": {
      "image/png": "[encoded data removed]",
      "text/plain": [
       "<PIL.PngImagePlugin.PngImageFile image mode=RGBA size=437x333 at 0x1188225F8>"
      ]
     },
     "execution_count": 9,
     "metadata": {},
     "output_type": "execute_result"
    }
   ],
   "source": [
    "Image.open('imgs/resnet_dice_loss.png')"
   ]
  },
  {
   "cell_type": "code",
   "execution_count": 10,
   "metadata": {},
   "outputs": [
    {
     "data": {
      "image/png": "[encoded data removed]",
      "text/plain": [
       "<PIL.PngImagePlugin.PngImageFile image mode=RGBA size=450x318 at 0x118829828>"
      ]
     },
     "execution_count": 10,
     "metadata": {},
     "output_type": "execute_result"
    }
   ],
   "source": [
    "Image.open('imgs/resnet_val_loss.png')"
   ]
  },
  {
   "cell_type": "code",
   "execution_count": 17,
   "metadata": {},
   "outputs": [
    {
     "data": {
      "image/png": "[encoded data removed]",
      "text/plain": [
       "<matplotlib.figure.Figure at 0x1154f68d0>"
      ]
     },
     "metadata": {},
     "output_type": "display_data"
    }
   ],
   "source": [
    "fig = plt.figure(figsize=(5, 25))\n",
    "plt.subplot(5,1,1)\n",
    "plt.imshow(misc.imread('imgs/resnet_im1.png'))\n",
    "plt.subplot(5,1,2)\n",
    "plt.imshow(misc.imread('imgs/resnet_im2.png'))\n",
    "plt.subplot(5,1,3)\n",
    "plt.imshow(misc.imread('imgs/resnet_im3.png'))\n",
    "plt.subplot(5,1,4)\n",
    "plt.imshow(misc.imread('imgs/resnet_im4.png'))\n",
    "plt.subplot(5,1,5)\n",
    "plt.imshow(misc.imread('imgs/resnet_im5.png'))\n",
    "plt.show()"
   ]
  }
 ],
 "metadata": {
  "accelerator": "GPU",
  "colab": {
   "collapsed_sections": [],
   "name": "lab_segmentation.ipynb",
   "provenance": [],
   "version": "0.3.2"
  },
  "kernelspec": {
   "display_name": "Python 3",
   "language": "python",
   "name": "python3"
  },
  "language_info": {
   "codemirror_mode": {
    "name": "ipython",
    "version": 3
   },
   "file_extension": ".py",
   "mimetype": "text/x-python",
   "name": "python",
   "nbconvert_exporter": "python",
   "pygments_lexer": "ipython3",
   "version": "3.6.1"
  }
 },
 "nbformat": 4,
 "nbformat_minor": 1
}
